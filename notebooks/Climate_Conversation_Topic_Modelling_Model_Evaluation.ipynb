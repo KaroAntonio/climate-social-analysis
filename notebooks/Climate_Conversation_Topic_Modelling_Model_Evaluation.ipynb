{
  "cells": [
    {
      "cell_type": "markdown",
      "metadata": {
        "id": "view-in-github",
        "colab_type": "text"
      },
      "source": [
        "<a href=\"https://colab.research.google.com/github/KaroAntonio/climate-social-analysis/blob/main/notebooks/Climate_Conversation_Topic_Modelling_Model_Evaluation.ipynb\" target=\"_parent\"><img src=\"https://colab.research.google.com/assets/colab-badge.svg\" alt=\"Open In Colab\"/></a>"
      ]
    },
    {
      "cell_type": "markdown",
      "metadata": {
        "id": "faI77KU6_zqx"
      },
      "source": [
        "# Climate Conversation Topic Modelling - Model Evaluation\n",
        "\n",
        "Overarching Data Problem:   \n",
        "*What Topics can be extracted from climate tweets and what is the measurable relevance of those topics.*\n",
        "\n",
        "We've performed Data Wrangling, Exploration, Preprocessin, and Feature Engineering. Our next step is to experiment with several models for clustering and to evaluate the performance of those models.\n",
        "\n",
        "LDA is a classic topic modelling alg that is a good baseline to compare to. However, it does not make use of the the token / sentance embeddings, so we may be able to improve on it.\n",
        "\n",
        "We will explore algs that determine K automatically first in order to inform K chosen for those algs that require K as an input.\n",
        "\n",
        "### Models\n",
        "We explore the following clustering/topic modelling algs:\n",
        "* Greedy Co-occurance Clustering\n",
        "* HDBSCAN (2013)\n",
        "  * In: Vecs\n",
        "  * Out: K, Clusters\n",
        "* Agglomerative Clustering (1980s)\n",
        "  * In: Vectors\n",
        "  * Out: Cluster Heirarchy\n",
        "* Mean Shift (2002)\n",
        "  * In: Vecs\n",
        "  * Out: K, Clusters\n",
        "* LDA (2003)\n",
        "  * In: Tokens, K\n",
        "  * Out: Topic Clusters\n",
        "* Brown (1992)\n",
        "  * In: Tokens\n",
        "  * Out: Cluster Heirarchy\n",
        "* K-MEANS? (1967)\n",
        "  * In: Vecs, K\n",
        "  * Out: Clusters\n",
        "\n",
        "### Metrics\n",
        "What are the characteristics of a 'good topic'?\n",
        "* Silhouette Score  \n",
        "* Variance Ratio Criterion\n",
        "* Top Tokens in agreement vs Most common tokens in disagreement\n",
        "  * I propose this as:\n",
        "* Subjective Coherece\n",
        "  * Do the grouped clusters look right?\n",
        "* Subjective Cluster Keyword Relevence\n",
        "  * Do the Cluster Topic Keywords look right?"
      ]
    },
    {
      "cell_type": "code",
      "execution_count": null,
      "metadata": {
        "id": "m77UKTixQ2zP"
      },
      "outputs": [],
      "source": [
        "! pip install hdbscan"
      ]
    },
    {
      "cell_type": "code",
      "source": [
        "! pip install umap-learn"
      ],
      "metadata": {
        "id": "Ucdj75svfElL"
      },
      "execution_count": null,
      "outputs": []
    },
    {
      "cell_type": "code",
      "source": [
        "! pip install sentence-transformers"
      ],
      "metadata": {
        "id": "17d0atXBOeVg"
      },
      "execution_count": null,
      "outputs": []
    },
    {
      "cell_type": "code",
      "execution_count": null,
      "metadata": {
        "id": "B_kwXhdeDb0p"
      },
      "outputs": [],
      "source": [
        "from google.colab import drive\n",
        "import pandas as pd\n",
        "import numpy as np\n",
        "from nltk import FreqDist\n",
        "from sklearn.feature_extraction.text import CountVectorizer\n",
        "from sklearn.metrics import silhouette_score\n",
        "from sklearn.metrics import calinski_harabasz_score\n",
        "from sklearn.metrics.pairwise import cosine_similarity\n",
        "from scipy.cluster.hierarchy import dendrogram, linkage\n",
        "from scipy.cluster.hierarchy import cut_tree\n",
        "import matplotlib.pyplot as plt\n",
        "import umap\n",
        "from sentence_transformers import SentenceTransformer\n",
        "\n",
        "\n",
        "# models\n",
        "import hdbscan\n",
        "from sklearn.cluster import Birch\n",
        "from sklearn.cluster import AgglomerativeClustering\n",
        "\n",
        "drive.mount('/content/drive')"
      ]
    },
    {
      "cell_type": "code",
      "execution_count": 7,
      "metadata": {
        "id": "1XikRn0u_mXC"
      },
      "outputs": [],
      "source": [
        "# Data paths\n",
        "DRIVE_DIR = \"/content/drive/MyDrive/Climate Social Analysis/data/\"\n",
        "PREPROCESSED_TOKENS_PATH = f\"{DRIVE_DIR}topic_modelling_preprocessed_tokens_1m.csv\"\n",
        "TWEET_EMBEDDINGS_PATH = f\"{DRIVE_DIR}topic_modelling_tweet_embeddings_1m.csv\"\n",
        "TWEET_PCA_FEATURES_PATH = f\"{DRIVE_DIR}topic_modelling_tweet_pca_features_1m.csv\"\n",
        "WORD_VECTOR_SUBSET_PATH = f\"{DRIVE_DIR}topic_modelling_word_vector_subset.csv\""
      ]
    },
    {
      "cell_type": "code",
      "execution_count": 8,
      "metadata": {
        "id": "G_Q404R0Da6Z"
      },
      "outputs": [],
      "source": [
        "# Load Data\n",
        "# Load Tweet Embeddings\n",
        "tweet_embeddings_df = pd.read_csv(TWEET_EMBEDDINGS_PATH, index_col='id')\n",
        "tokens_str_df = pd.read_csv(PREPROCESSED_TOKENS_PATH, index_col='id')\n",
        "#tweet_pca_features_df = pd.read_csv(TWEET_PCA_FEATURES_PATH, index_col='id')\n",
        "word_vector_subset_df = pd.read_csv(WORD_VECTOR_SUBSET_PATH)"
      ]
    },
    {
      "cell_type": "code",
      "source": [
        "# Prep Token Data\n",
        "tokens_str_df = tokens_str_df.loc[tweet_embeddings_df.index]\n",
        "\n",
        "word_vector_subset_df = pd.read_csv(WORD_VECTOR_SUBSET_PATH)\n",
        "word_vector_subset_df.set_index('Unnamed: 0', inplace=True)\n",
        "\n",
        "# This is a lookup of the vocab we're working with\n",
        "vocab = word_vector_subset_df.index\n",
        "vocab_set = set(vocab)\n",
        "vocab = [str(e) for e in list(vocab_set)] #\n",
        "vocab_idx_lookup = {vocab[i]:i for i in range(len(vocab))}\n",
        "print(f\"Vocab size: {len(vocab)}\")\n",
        "\n",
        "# Unpack the token lists\n",
        "tokens_sr = tokens_str_df.apply(lambda x: x.str.split())['processed_tokens_str']\n",
        "\n",
        "# Retain only tokens in vocab\n",
        "tokens_sr = tokens_sr.apply(lambda ts: [t for t in ts if t in vocab_set])\n",
        "\n",
        "# Prep a token dataset without the climate key stopwords\n",
        "climate_stop_words = ['climate', 'change','global','warming']\n",
        "tokens_noccgw_sr = tokens_sr.apply(lambda ts: [t for t in ts if t not in climate_stop_words])"
      ],
      "metadata": {
        "colab": {
          "base_uri": "https://localhost:8080/"
        },
        "id": "HFBPL0mTlsZ-",
        "outputId": "141d188a-f516-4a2e-ea3a-c4a911ffb934"
      },
      "execution_count": 107,
      "outputs": [
        {
          "output_type": "stream",
          "name": "stdout",
          "text": [
            "Vocab size: 28862\n"
          ]
        }
      ]
    },
    {
      "cell_type": "markdown",
      "source": [
        "# Metrics\n",
        "\n",
        "We define the metrics before the model exploration so that we have consistent metrics to evulate all models by."
      ],
      "metadata": {
        "id": "HgDBrEoV3VUv"
      }
    },
    {
      "cell_type": "code",
      "source": [
        "def sort_topics_by_size(token_topics_sr):\n",
        "  group_counts_sr = token_topics_sr.groupby(token_topics_sr).size()\n",
        "  # Use 0-based index for topics\n",
        "  group_counts_sr = group_counts_sr.sort_index().reset_index(drop=True)\n",
        "  sorted_groups_sr = group_counts_sr.sort_values(ascending=False)\n",
        "  return sorted_groups_sr\n",
        "\n",
        "def left_align(df: pd.DataFrame):\n",
        "    left_aligned_df = df.style.set_properties(**{'text-align': 'left'})\n",
        "    left_aligned_df = left_aligned_df.set_table_styles(\n",
        "        [dict(selector='th', props=[('text-align', 'left')])]\n",
        "    )\n",
        "    return left_aligned_df\n",
        "\n",
        "def get_topic_repr_df(token_topics_sr, topic_token_score, n_rows = 30, n_cols=15):\n",
        "  # build a representation of all topics to visually inspect\n",
        "  # each col is a topic ordered in descending order of size\n",
        "  # each row is the top tokens in that topic, ordered by some metric\n",
        "  # token is vocab idx of token\n",
        "  # topic is topic idx in original modelling\n",
        "  # topic_token_score['token']['topic'] = score\n",
        "\n",
        "  # TODO: Sort cols by topic size\n",
        "\n",
        "  def format_token_score(token_idx, score):\n",
        "    token = vocab[token_idx]\n",
        "    return f'{score:.3f} {token}'\n",
        "\n",
        "  formatted_topic_tokens = {}\n",
        "  for topic_idx in range(topic_token_score.shape[1]):\n",
        "    sorted_topic_tokens_sr = pd.Series(topic_token_score[:, topic_idx]).sort_values(ascending=False)[:n_rows]\n",
        "    formatted_topic = [format_token_score(token_idx, score) for token_idx, score in  sorted_topic_tokens_sr.items()]\n",
        "    formatted_topic_sr = pd.Series(formatted_topic)\n",
        "    formatted_topic_tokens[topic_idx] = formatted_topic_sr\n",
        "\n",
        "  # Get topic sizes to sort topic cols by\n",
        "  topic_sizes = sort_topics_by_size(token_topics_sr)\n",
        "  sorted_topic_idxs = topic_sizes.index\n",
        "  # Build topic repr df\n",
        "  topic_repr_df = pd.DataFrame(formatted_topic_tokens, columns=sorted_topic_idxs)\n",
        "  # Add in topic sizes as row\n",
        "  topic_repr_df = pd.concat([topic_sizes.to_frame().T, topic_repr_df], ignore_index=True).rename(index={0: 'size'})\n",
        "  # Select n_cols\n",
        "  topic_repr_df = topic_repr_df[topic_repr_df.columns[:n_cols]]\n",
        "\n",
        "  return topic_repr_df"
      ],
      "metadata": {
        "id": "LXFlbEjRnIv2"
      },
      "execution_count": 242,
      "outputs": []
    },
    {
      "cell_type": "markdown",
      "source": [
        "## Model Evaluation"
      ],
      "metadata": {
        "id": "4kbzMsT8iMxk"
      }
    },
    {
      "cell_type": "code",
      "execution_count": 270,
      "metadata": {
        "id": "5UWBW6WEefDZ"
      },
      "outputs": [],
      "source": [
        "# Sample the dataset for testing\n",
        "N_sample = 100000\n",
        "sample_df = tweet_embeddings_df.sample(N_sample)\n",
        "X = sample_df.values"
      ]
    },
    {
      "cell_type": "code",
      "source": [
        "# for each model, store results under model name\n",
        "# model_results['model_name']['topic_labels'] = pd.Series of topic labels as 'topic'\n",
        "model_results = {}"
      ],
      "metadata": {
        "id": "XunoHbW4iVLX"
      },
      "execution_count": 77,
      "outputs": []
    },
    {
      "cell_type": "markdown",
      "source": [
        "### UMAP & HDBSCAN & TF-IDF\n",
        "\n",
        "TODO: Attempt SentenceTransformer (Distilber)\n",
        "\n",
        "IDEA: Explore Using closest Token Vecs to lookup topic labels\n",
        "\n",
        "Cluster with UMAP and HDBSCAN"
      ],
      "metadata": {
        "id": "hW5wxduNifDe"
      }
    },
    {
      "cell_type": "code",
      "source": [
        "%env HF_TOKEN={ INSERT HF SECRET }"
      ],
      "metadata": {
        "id": "SqVeJ2C_Q16-"
      },
      "execution_count": null,
      "outputs": []
    },
    {
      "cell_type": "code",
      "source": [
        "# Prep data sample\n",
        "tokens_noccgw_str_sr = tokens_noccgw_sr.apply(lambda ts: ' '.join(ts))\n",
        "\n",
        "# Train Sentence level tweet embeddings\n",
        "model = SentenceTransformer('distilbert-base-nli-mean-tokens')\n",
        "embeddings = model.encode(tokens_noccgw_str_sr.values, show_progress_bar=True)"
      ],
      "metadata": {
        "colab": {
          "base_uri": "https://localhost:8080/",
          "height": 49,
          "referenced_widgets": [
            "59bea6c7afbd434f93e82380da34c543",
            "9bbd5162f9fe4cf5af338d53a16cc1df",
            "116ee35f59494acca6634f93e5127cea",
            "6e91dfde10424dbfa63607a96b516e7a",
            "d1fb5d2bdb5d4f55be1a68e901500e07",
            "fd52bab6a97b4989bd268602daf5e3d4",
            "0f22fc799cbd4d0087cd2ea98884ca49",
            "a86014b4412f45deb85da1c24fd451c3",
            "d7014b645dfb475bbd22dbe457cc07cd",
            "e5e1ce40331443889cc1292a92fa7d03",
            "958eaf9c8ef84872b5783f48ab6ceec0"
          ]
        },
        "id": "te3rWgOEQUGj",
        "outputId": "cd1a6412-a909-464a-b042-aaa1058ac2cb"
      },
      "execution_count": 16,
      "outputs": [
        {
          "output_type": "display_data",
          "data": {
            "text/plain": [
              "Batches:   0%|          | 0/31247 [00:00<?, ?it/s]"
            ],
            "application/vnd.jupyter.widget-view+json": {
              "version_major": 2,
              "version_minor": 0,
              "model_id": "59bea6c7afbd434f93e82380da34c543"
            }
          },
          "metadata": {}
        }
      ]
    },
    {
      "cell_type": "code",
      "source": [
        "sentence_embeddings_df = pd.DataFrame(embeddings, index=tokens_noccgw_str_sr.index)"
      ],
      "metadata": {
        "id": "QujM0pmjShxM"
      },
      "execution_count": 19,
      "outputs": []
    },
    {
      "cell_type": "code",
      "source": [
        "# Sample the dataset for testing\n",
        "N_sample = 100000\n",
        "sample_df = sentence_embeddings_df.sample(N_sample)\n",
        "X = sample_df.values"
      ],
      "metadata": {
        "id": "jIlun6CRSuWR"
      },
      "execution_count": 32,
      "outputs": []
    },
    {
      "cell_type": "code",
      "source": [
        "# UMAP is an effective Dimensionality reducing alg that can be used to reduce dims\n",
        "# for clustering and visualization puproses\n",
        "umap_embeddings = umap.UMAP(n_neighbors=15,\n",
        "                            n_components=8,\n",
        "                            metric='cosine').fit_transform(X)"
      ],
      "metadata": {
        "id": "LMSFvU8IfYKB"
      },
      "execution_count": 34,
      "outputs": []
    },
    {
      "cell_type": "code",
      "source": [
        "cluster = hdbscan.HDBSCAN(min_cluster_size=50,\n",
        "                          # Default is min_samples=15, setting it lower seems to increase the cluster coverage\n",
        "                          min_samples=1,\n",
        "                          metric='euclidean',\n",
        "                          cluster_selection_method='eom').fit(umap_embeddings)"
      ],
      "metadata": {
        "id": "3WnxbFeJjKyX"
      },
      "execution_count": 52,
      "outputs": []
    },
    {
      "cell_type": "code",
      "source": [
        "# Visualize Clusters as reduced by UMAP\n",
        "# Prepare data (use og data to reduce to avoid umap artifact amplification)\n",
        "def display_labels_umap(X, labels):\n",
        "  umap_data = umap.UMAP(n_neighbors=15, n_components=2, min_dist=0.0, metric='cosine').fit_transform(X)\n",
        "  result = pd.DataFrame(umap_data, columns=['x', 'y'])\n",
        "  result['labels'] = labels\n",
        "\n",
        "  # Visualize clusters\n",
        "  fig, ax = plt.subplots(figsize=(20, 10))\n",
        "  outliers = result.loc[result.labels == -1, :]\n",
        "  clustered = result.loc[result.labels != -1, :]\n",
        "  plt.scatter(outliers.x, outliers.y, color='#BDBDBD', s=0.05)\n",
        "  plt.scatter(clustered.x, clustered.y, c=clustered.labels, s=0.05, cmap='hsv_r')\n",
        "  plt.colorbar()"
      ],
      "metadata": {
        "id": "gzakMN5qjYnC"
      },
      "execution_count": 245,
      "outputs": []
    },
    {
      "cell_type": "code",
      "source": [
        "display_labels_umap(X, cluster.labels_)"
      ],
      "metadata": {
        "colab": {
          "base_uri": "https://localhost:8080/",
          "height": 830
        },
        "id": "IIcCFZQAHUw9",
        "outputId": "1e692f84-1f5a-40b4-ac0a-e34f53b9a2e4"
      },
      "execution_count": 246,
      "outputs": [
        {
          "output_type": "display_data",
          "data": {
            "text/plain": [
              "<Figure size 2000x1000 with 2 Axes>"
            ],
            "image/png": "[encoded data removed]"
          },
          "metadata": {}
        }
      ]
    },
    {
      "cell_type": "code",
      "source": [
        "# Use TF-IDF\n",
        "sample_tokens_str_df = pd.DataFrame({'token_str':tokens_noccgw_str_sr[sample_df.index]})\n",
        "sample_tokens_str_df['topic'] = cluster.labels_\n",
        "# combine the values of all the tweet strs for each group\n",
        "tweets_per_topic = sample_tokens_str_df.groupby(['topic'], as_index = False).agg({'token_str': ' '.join})\n",
        "tweets_per_topic.describe() # We have 99 topics, a bit much really"
      ],
      "metadata": {
        "colab": {
          "base_uri": "https://localhost:8080/",
          "height": 300
        },
        "id": "ikq3-NdklN4o",
        "outputId": "c8c7765b-ab8b-48e1-fa75-57b8558f1e3a"
      },
      "execution_count": 253,
      "outputs": [
        {
          "output_type": "execute_result",
          "data": {
            "text/plain": [
              "            topic\n",
              "count  208.000000\n",
              "mean   102.500000\n",
              "std     60.188592\n",
              "min     -1.000000\n",
              "25%     50.750000\n",
              "50%    102.500000\n",
              "75%    154.250000\n",
              "max    206.000000"
            ],
            "text/html": [
              "\n",
              "  <div id=\"df-c4d9a228-bad1-4137-a9a5-a25c8aa66f75\" class=\"colab-df-container\">\n",
              "    <div>\n",
              "<style scoped>\n",
              "    .dataframe tbody tr th:only-of-type {\n",
              "        vertical-align: middle;\n",
              "    }\n",
              "\n",
              "    .dataframe tbody tr th {\n",
              "        vertical-align: top;\n",
              "    }\n",
              "\n",
              "    .dataframe thead th {\n",
              "        text-align: right;\n",
              "    }\n",
              "</style>\n",
              "<table border=\"1\" class=\"dataframe\">\n",
              "  <thead>\n",
              "    <tr style=\"text-align: right;\">\n",
              "      <th></th>\n",
              "      <th>topic</th>\n",
              "    </tr>\n",
              "  </thead>\n",
              "  <tbody>\n",
              "    <tr>\n",
              "      <th>count</th>\n",
              "      <td>208.000000</td>\n",
              "    </tr>\n",
              "    <tr>\n",
              "      <th>mean</th>\n",
              "      <td>102.500000</td>\n",
              "    </tr>\n",
              "    <tr>\n",
              "      <th>std</th>\n",
              "      <td>60.188592</td>\n",
              "    </tr>\n",
              "    <tr>\n",
              "      <th>min</th>\n",
              "      <td>-1.000000</td>\n",
              "    </tr>\n",
              "    <tr>\n",
              "      <th>25%</th>\n",
              "      <td>50.750000</td>\n",
              "    </tr>\n",
              "    <tr>\n",
              "      <th>50%</th>\n",
              "      <td>102.500000</td>\n",
              "    </tr>\n",
              "    <tr>\n",
              "      <th>75%</th>\n",
              "      <td>154.250000</td>\n",
              "    </tr>\n",
              "    <tr>\n",
              "      <th>max</th>\n",
              "      <td>206.000000</td>\n",
              "    </tr>\n",
              "  </tbody>\n",
              "</table>\n",
              "</div>\n",
              "    <div class=\"colab-df-buttons\">\n",
              "\n",
              "  <div class=\"colab-df-container\">\n",
              "    <button class=\"colab-df-convert\" onclick=\"convertToInteractive('df-c4d9a228-bad1-4137-a9a5-a25c8aa66f75')\"\n",
              "            title=\"Convert this dataframe to an interactive table.\"\n",
              "            style=\"display:none;\">\n",
              "\n",
              "  <svg xmlns=\"http://www.w3.org/2000/svg\" height=\"24px\" viewBox=\"0 -960 960 960\">\n",
              "    <path d=\"M120-120v-720h720v720H120Zm60-500h600v-160H180v160Zm220 220h160v-160H400v160Zm0 220h160v-160H400v160ZM180-400h160v-160H180v160Zm440 0h160v-160H620v160ZM180-180h160v-160H180v160Zm440 0h160v-160H620v160Z\"/>\n",
              "  </svg>\n",
              "    </button>\n",
              "\n",
              "  <style>\n",
              "    .colab-df-container {\n",
              "      display:flex;\n",
              "      gap: 12px;\n",
              "    }\n",
              "\n",
              "    .colab-df-convert {\n",
              "      background-color: #E8F0FE;\n",
              "      border: none;\n",
              "      border-radius: 50%;\n",
              "      cursor: pointer;\n",
              "      display: none;\n",
              "      fill: #1967D2;\n",
              "      height: 32px;\n",
              "      padding: 0 0 0 0;\n",
              "      width: 32px;\n",
              "    }\n",
              "\n",
              "    .colab-df-convert:hover {\n",
              "      background-color: #E2EBFA;\n",
              "      box-shadow: 0px 1px 2px rgba(60, 64, 67, 0.3), 0px 1px 3px 1px rgba(60, 64, 67, 0.15);\n",
              "      fill: #174EA6;\n",
              "    }\n",
              "\n",
              "    .colab-df-buttons div {\n",
              "      margin-bottom: 4px;\n",
              "    }\n",
              "\n",
              "    [theme=dark] .colab-df-convert {\n",
              "      background-color: #3B4455;\n",
              "      fill: #D2E3FC;\n",
              "    }\n",
              "\n",
              "    [theme=dark] .colab-df-convert:hover {\n",
              "      background-color: #434B5C;\n",
              "      box-shadow: 0px 1px 3px 1px rgba(0, 0, 0, 0.15);\n",
              "      filter: drop-shadow(0px 1px 2px rgba(0, 0, 0, 0.3));\n",
              "      fill: #FFFFFF;\n",
              "    }\n",
              "  </style>\n",
              "\n",
              "    <script>\n",
              "      const buttonEl =\n",
              "        document.querySelector('#df-c4d9a228-bad1-4137-a9a5-a25c8aa66f75 button.colab-df-convert');\n",
              "      buttonEl.style.display =\n",
              "        google.colab.kernel.accessAllowed ? 'block' : 'none';\n",
              "\n",
              "      async function convertToInteractive(key) {\n",
              "        const element = document.querySelector('#df-c4d9a228-bad1-4137-a9a5-a25c8aa66f75');\n",
              "        const dataTable =\n",
              "          await google.colab.kernel.invokeFunction('convertToInteractive',\n",
              "                                                    [key], {});\n",
              "        if (!dataTable) return;\n",
              "\n",
              "        const docLinkHtml = 'Like what you see? Visit the ' +\n",
              "          '<a target=\"_blank\" href=https://colab.research.google.com/notebooks/data_table.ipynb>data table notebook</a>'\n",
              "          + ' to learn more about interactive tables.';\n",
              "        element.innerHTML = '';\n",
              "        dataTable['output_type'] = 'display_data';\n",
              "        await google.colab.output.renderOutput(dataTable, element);\n",
              "        const docLink = document.createElement('div');\n",
              "        docLink.innerHTML = docLinkHtml;\n",
              "        element.appendChild(docLink);\n",
              "      }\n",
              "    </script>\n",
              "  </div>\n",
              "\n",
              "\n",
              "<div id=\"df-e74f80d5-7cf8-464c-803d-0a4eac1dfdab\">\n",
              "  <button class=\"colab-df-quickchart\" onclick=\"quickchart('df-e74f80d5-7cf8-464c-803d-0a4eac1dfdab')\"\n",
              "            title=\"Suggest charts\"\n",
              "            style=\"display:none;\">\n",
              "\n",
              "<svg xmlns=\"http://www.w3.org/2000/svg\" height=\"24px\"viewBox=\"0 0 24 24\"\n",
              "     width=\"24px\">\n",
              "    <g>\n",
              "        <path d=\"M19 3H5c-1.1 0-2 .9-2 2v14c0 1.1.9 2 2 2h14c1.1 0 2-.9 2-2V5c0-1.1-.9-2-2-2zM9 17H7v-7h2v7zm4 0h-2V7h2v10zm4 0h-2v-4h2v4z\"/>\n",
              "    </g>\n",
              "</svg>\n",
              "  </button>\n",
              "\n",
              "<style>\n",
              "  .colab-df-quickchart {\n",
              "      --bg-color: #E8F0FE;\n",
              "      --fill-color: #1967D2;\n",
              "      --hover-bg-color: #E2EBFA;\n",
              "      --hover-fill-color: #174EA6;\n",
              "      --disabled-fill-color: #AAA;\n",
              "      --disabled-bg-color: #DDD;\n",
              "  }\n",
              "\n",
              "  [theme=dark] .colab-df-quickchart {\n",
              "      --bg-color: #3B4455;\n",
              "      --fill-color: #D2E3FC;\n",
              "      --hover-bg-color: #434B5C;\n",
              "      --hover-fill-color: #FFFFFF;\n",
              "      --disabled-bg-color: #3B4455;\n",
              "      --disabled-fill-color: #666;\n",
              "  }\n",
              "\n",
              "  .colab-df-quickchart {\n",
              "    background-color: var(--bg-color);\n",
              "    border: none;\n",
              "    border-radius: 50%;\n",
              "    cursor: pointer;\n",
              "    display: none;\n",
              "    fill: var(--fill-color);\n",
              "    height: 32px;\n",
              "    padding: 0;\n",
              "    width: 32px;\n",
              "  }\n",
              "\n",
              "  .colab-df-quickchart:hover {\n",
              "    background-color: var(--hover-bg-color);\n",
              "    box-shadow: 0 1px 2px rgba(60, 64, 67, 0.3), 0 1px 3px 1px rgba(60, 64, 67, 0.15);\n",
              "    fill: var(--button-hover-fill-color);\n",
              "  }\n",
              "\n",
              "  .colab-df-quickchart-complete:disabled,\n",
              "  .colab-df-quickchart-complete:disabled:hover {\n",
              "    background-color: var(--disabled-bg-color);\n",
              "    fill: var(--disabled-fill-color);\n",
              "    box-shadow: none;\n",
              "  }\n",
              "\n",
              "  .colab-df-spinner {\n",
              "    border: 2px solid var(--fill-color);\n",
              "    border-color: transparent;\n",
              "    border-bottom-color: var(--fill-color);\n",
              "    animation:\n",
              "      spin 1s steps(1) infinite;\n",
              "  }\n",
              "\n",
              "  @keyframes spin {\n",
              "    0% {\n",
              "      border-color: transparent;\n",
              "      border-bottom-color: var(--fill-color);\n",
              "      border-left-color: var(--fill-color);\n",
              "    }\n",
              "    20% {\n",
              "      border-color: transparent;\n",
              "      border-left-color: var(--fill-color);\n",
              "      border-top-color: var(--fill-color);\n",
              "    }\n",
              "    30% {\n",
              "      border-color: transparent;\n",
              "      border-left-color: var(--fill-color);\n",
              "      border-top-color: var(--fill-color);\n",
              "      border-right-color: var(--fill-color);\n",
              "    }\n",
              "    40% {\n",
              "      border-color: transparent;\n",
              "      border-right-color: var(--fill-color);\n",
              "      border-top-color: var(--fill-color);\n",
              "    }\n",
              "    60% {\n",
              "      border-color: transparent;\n",
              "      border-right-color: var(--fill-color);\n",
              "    }\n",
              "    80% {\n",
              "      border-color: transparent;\n",
              "      border-right-color: var(--fill-color);\n",
              "      border-bottom-color: var(--fill-color);\n",
              "    }\n",
              "    90% {\n",
              "      border-color: transparent;\n",
              "      border-bottom-color: var(--fill-color);\n",
              "    }\n",
              "  }\n",
              "</style>\n",
              "\n",
              "  <script>\n",
              "    async function quickchart(key) {\n",
              "      const quickchartButtonEl =\n",
              "        document.querySelector('#' + key + ' button');\n",
              "      quickchartButtonEl.disabled = true;  // To prevent multiple clicks.\n",
              "      quickchartButtonEl.classList.add('colab-df-spinner');\n",
              "      try {\n",
              "        const charts = await google.colab.kernel.invokeFunction(\n",
              "            'suggestCharts', [key], {});\n",
              "      } catch (error) {\n",
              "        console.error('Error during call to suggestCharts:', error);\n",
              "      }\n",
              "      quickchartButtonEl.classList.remove('colab-df-spinner');\n",
              "      quickchartButtonEl.classList.add('colab-df-quickchart-complete');\n",
              "    }\n",
              "    (() => {\n",
              "      let quickchartButtonEl =\n",
              "        document.querySelector('#df-e74f80d5-7cf8-464c-803d-0a4eac1dfdab button');\n",
              "      quickchartButtonEl.style.display =\n",
              "        google.colab.kernel.accessAllowed ? 'block' : 'none';\n",
              "    })();\n",
              "  </script>\n",
              "</div>\n",
              "\n",
              "    </div>\n",
              "  </div>\n"
            ],
            "application/vnd.google.colaboratory.intrinsic+json": {
              "type": "dataframe",
              "summary": "{\n  \"name\": \"tweets_per_topic\",\n  \"rows\": 8,\n  \"fields\": [\n    {\n      \"column\": \"topic\",\n      \"properties\": {\n        \"dtype\": \"number\",\n        \"std\": 74.8350857622012,\n        \"min\": -1.0,\n        \"max\": 208.0,\n        \"num_unique_values\": 7,\n        \"samples\": [\n          208.0,\n          102.5,\n          154.25\n        ],\n        \"semantic_type\": \"\",\n        \"description\": \"\"\n      }\n    }\n  ]\n}"
            }
          },
          "metadata": {},
          "execution_count": 253
        }
      ]
    },
    {
      "cell_type": "code",
      "source": [
        "def c_tf_idf(topic_tweet_strs, total_tweets):\n",
        "  count_vec = CountVectorizer().fit(topic_tweet_strs)\n",
        "  t = count_vec.transform(topic_tweet_strs).toarray()\n",
        "  w = t.sum(axis=1)\n",
        "  tf = np.divide(t.T, w)\n",
        "  sum_t = t.sum(axis=0)\n",
        "  idf = np.log(np.divide(total_tweets, sum_t)).reshape(-1, 1)\n",
        "  tf_idf = np.multiply(tf, idf)\n",
        "  return tf_idf, count_vec\n",
        "\n",
        "tf_idf, count_vec = c_tf_idf(tweets_per_topic.token_str.values, total_tweets=N_sample)"
      ],
      "metadata": {
        "id": "Y-NPKBAhpbPp"
      },
      "execution_count": 254,
      "outputs": []
    },
    {
      "cell_type": "code",
      "source": [
        "def extract_top_n_words_per_topic(tf_idf, count_vec, docs_per_topic, n=20):\n",
        "    words = count_vec.get_feature_names_out()\n",
        "    labels = list(docs_per_topic.topic)\n",
        "    tf_idf_transposed = tf_idf.T\n",
        "    indices = tf_idf_transposed.argsort()[:, -n:]\n",
        "    top_n_words = {label: [(words[j], tf_idf_transposed[i][j]) for j in indices[i]][::-1] for i, label in enumerate(labels)}\n",
        "    return top_n_words\n",
        "\n",
        "def extract_topic_sizes(df):\n",
        "    topic_sizes = (df.groupby(['topic'])\n",
        "                     .token_str\n",
        "                     .count()\n",
        "                     .reset_index()\n",
        "                     .rename({\"topic\": \"topic\", \"token_str\": \"Size\"}, axis='columns')\n",
        "                     .sort_values(\"Size\", ascending=False))\n",
        "    return topic_sizes\n",
        "\n",
        "top_n_words = extract_top_n_words_per_topic(tf_idf, count_vec, tweets_per_topic, n=20)\n",
        "# These topics are a bit too smol\n",
        "topic_sizes = extract_topic_sizes(sample_tokens_str_df);\n",
        "print(f'N Topics: {len(topic_sizes)}')\n",
        "topic_sizes.head(10)"
      ],
      "metadata": {
        "colab": {
          "base_uri": "https://localhost:8080/",
          "height": 380
        },
        "id": "hIYZxwD1q5FU",
        "outputId": "631f4ebb-1d35-4ab1-f050-6f8bd80420a1"
      },
      "execution_count": 255,
      "outputs": [
        {
          "output_type": "stream",
          "name": "stdout",
          "text": [
            "N Topics: 208\n"
          ]
        },
        {
          "output_type": "execute_result",
          "data": {
            "text/plain": [
              "     topic   Size\n",
              "0       -1  54241\n",
              "207    206   5869\n",
              "132    131   1265\n",
              "195    194   1035\n",
              "3        2    952\n",
              "117    116    951\n",
              "180    179    847\n",
              "169    168    779\n",
              "62      61    773\n",
              "127    126    765"
            ],
            "text/html": [
              "\n",
              "  <div id=\"df-8f280a91-f8d2-48e5-8226-2f9ac8f7b8cf\" class=\"colab-df-container\">\n",
              "    <div>\n",
              "<style scoped>\n",
              "    .dataframe tbody tr th:only-of-type {\n",
              "        vertical-align: middle;\n",
              "    }\n",
              "\n",
              "    .dataframe tbody tr th {\n",
              "        vertical-align: top;\n",
              "    }\n",
              "\n",
              "    .dataframe thead th {\n",
              "        text-align: right;\n",
              "    }\n",
              "</style>\n",
              "<table border=\"1\" class=\"dataframe\">\n",
              "  <thead>\n",
              "    <tr style=\"text-align: right;\">\n",
              "      <th></th>\n",
              "      <th>topic</th>\n",
              "      <th>Size</th>\n",
              "    </tr>\n",
              "  </thead>\n",
              "  <tbody>\n",
              "    <tr>\n",
              "      <th>0</th>\n",
              "      <td>-1</td>\n",
              "      <td>54241</td>\n",
              "    </tr>\n",
              "    <tr>\n",
              "      <th>207</th>\n",
              "      <td>206</td>\n",
              "      <td>5869</td>\n",
              "    </tr>\n",
              "    <tr>\n",
              "      <th>132</th>\n",
              "      <td>131</td>\n",
              "      <td>1265</td>\n",
              "    </tr>\n",
              "    <tr>\n",
              "      <th>195</th>\n",
              "      <td>194</td>\n",
              "      <td>1035</td>\n",
              "    </tr>\n",
              "    <tr>\n",
              "      <th>3</th>\n",
              "      <td>2</td>\n",
              "      <td>952</td>\n",
              "    </tr>\n",
              "    <tr>\n",
              "      <th>117</th>\n",
              "      <td>116</td>\n",
              "      <td>951</td>\n",
              "    </tr>\n",
              "    <tr>\n",
              "      <th>180</th>\n",
              "      <td>179</td>\n",
              "      <td>847</td>\n",
              "    </tr>\n",
              "    <tr>\n",
              "      <th>169</th>\n",
              "      <td>168</td>\n",
              "      <td>779</td>\n",
              "    </tr>\n",
              "    <tr>\n",
              "      <th>62</th>\n",
              "      <td>61</td>\n",
              "      <td>773</td>\n",
              "    </tr>\n",
              "    <tr>\n",
              "      <th>127</th>\n",
              "      <td>126</td>\n",
              "      <td>765</td>\n",
              "    </tr>\n",
              "  </tbody>\n",
              "</table>\n",
              "</div>\n",
              "    <div class=\"colab-df-buttons\">\n",
              "\n",
              "  <div class=\"colab-df-container\">\n",
              "    <button class=\"colab-df-convert\" onclick=\"convertToInteractive('df-8f280a91-f8d2-48e5-8226-2f9ac8f7b8cf')\"\n",
              "            title=\"Convert this dataframe to an interactive table.\"\n",
              "            style=\"display:none;\">\n",
              "\n",
              "  <svg xmlns=\"http://www.w3.org/2000/svg\" height=\"24px\" viewBox=\"0 -960 960 960\">\n",
              "    <path d=\"M120-120v-720h720v720H120Zm60-500h600v-160H180v160Zm220 220h160v-160H400v160Zm0 220h160v-160H400v160ZM180-400h160v-160H180v160Zm440 0h160v-160H620v160ZM180-180h160v-160H180v160Zm440 0h160v-160H620v160Z\"/>\n",
              "  </svg>\n",
              "    </button>\n",
              "\n",
              "  <style>\n",
              "    .colab-df-container {\n",
              "      display:flex;\n",
              "      gap: 12px;\n",
              "    }\n",
              "\n",
              "    .colab-df-convert {\n",
              "      background-color: #E8F0FE;\n",
              "      border: none;\n",
              "      border-radius: 50%;\n",
              "      cursor: pointer;\n",
              "      display: none;\n",
              "      fill: #1967D2;\n",
              "      height: 32px;\n",
              "      padding: 0 0 0 0;\n",
              "      width: 32px;\n",
              "    }\n",
              "\n",
              "    .colab-df-convert:hover {\n",
              "      background-color: #E2EBFA;\n",
              "      box-shadow: 0px 1px 2px rgba(60, 64, 67, 0.3), 0px 1px 3px 1px rgba(60, 64, 67, 0.15);\n",
              "      fill: #174EA6;\n",
              "    }\n",
              "\n",
              "    .colab-df-buttons div {\n",
              "      margin-bottom: 4px;\n",
              "    }\n",
              "\n",
              "    [theme=dark] .colab-df-convert {\n",
              "      background-color: #3B4455;\n",
              "      fill: #D2E3FC;\n",
              "    }\n",
              "\n",
              "    [theme=dark] .colab-df-convert:hover {\n",
              "      background-color: #434B5C;\n",
              "      box-shadow: 0px 1px 3px 1px rgba(0, 0, 0, 0.15);\n",
              "      filter: drop-shadow(0px 1px 2px rgba(0, 0, 0, 0.3));\n",
              "      fill: #FFFFFF;\n",
              "    }\n",
              "  </style>\n",
              "\n",
              "    <script>\n",
              "      const buttonEl =\n",
              "        document.querySelector('#df-8f280a91-f8d2-48e5-8226-2f9ac8f7b8cf button.colab-df-convert');\n",
              "      buttonEl.style.display =\n",
              "        google.colab.kernel.accessAllowed ? 'block' : 'none';\n",
              "\n",
              "      async function convertToInteractive(key) {\n",
              "        const element = document.querySelector('#df-8f280a91-f8d2-48e5-8226-2f9ac8f7b8cf');\n",
              "        const dataTable =\n",
              "          await google.colab.kernel.invokeFunction('convertToInteractive',\n",
              "                                                    [key], {});\n",
              "        if (!dataTable) return;\n",
              "\n",
              "        const docLinkHtml = 'Like what you see? Visit the ' +\n",
              "          '<a target=\"_blank\" href=https://colab.research.google.com/notebooks/data_table.ipynb>data table notebook</a>'\n",
              "          + ' to learn more about interactive tables.';\n",
              "        element.innerHTML = '';\n",
              "        dataTable['output_type'] = 'display_data';\n",
              "        await google.colab.output.renderOutput(dataTable, element);\n",
              "        const docLink = document.createElement('div');\n",
              "        docLink.innerHTML = docLinkHtml;\n",
              "        element.appendChild(docLink);\n",
              "      }\n",
              "    </script>\n",
              "  </div>\n",
              "\n",
              "\n",
              "<div id=\"df-f4ab5552-377d-445e-9bae-422acd487983\">\n",
              "  <button class=\"colab-df-quickchart\" onclick=\"quickchart('df-f4ab5552-377d-445e-9bae-422acd487983')\"\n",
              "            title=\"Suggest charts\"\n",
              "            style=\"display:none;\">\n",
              "\n",
              "<svg xmlns=\"http://www.w3.org/2000/svg\" height=\"24px\"viewBox=\"0 0 24 24\"\n",
              "     width=\"24px\">\n",
              "    <g>\n",
              "        <path d=\"M19 3H5c-1.1 0-2 .9-2 2v14c0 1.1.9 2 2 2h14c1.1 0 2-.9 2-2V5c0-1.1-.9-2-2-2zM9 17H7v-7h2v7zm4 0h-2V7h2v10zm4 0h-2v-4h2v4z\"/>\n",
              "    </g>\n",
              "</svg>\n",
              "  </button>\n",
              "\n",
              "<style>\n",
              "  .colab-df-quickchart {\n",
              "      --bg-color: #E8F0FE;\n",
              "      --fill-color: #1967D2;\n",
              "      --hover-bg-color: #E2EBFA;\n",
              "      --hover-fill-color: #174EA6;\n",
              "      --disabled-fill-color: #AAA;\n",
              "      --disabled-bg-color: #DDD;\n",
              "  }\n",
              "\n",
              "  [theme=dark] .colab-df-quickchart {\n",
              "      --bg-color: #3B4455;\n",
              "      --fill-color: #D2E3FC;\n",
              "      --hover-bg-color: #434B5C;\n",
              "      --hover-fill-color: #FFFFFF;\n",
              "      --disabled-bg-color: #3B4455;\n",
              "      --disabled-fill-color: #666;\n",
              "  }\n",
              "\n",
              "  .colab-df-quickchart {\n",
              "    background-color: var(--bg-color);\n",
              "    border: none;\n",
              "    border-radius: 50%;\n",
              "    cursor: pointer;\n",
              "    display: none;\n",
              "    fill: var(--fill-color);\n",
              "    height: 32px;\n",
              "    padding: 0;\n",
              "    width: 32px;\n",
              "  }\n",
              "\n",
              "  .colab-df-quickchart:hover {\n",
              "    background-color: var(--hover-bg-color);\n",
              "    box-shadow: 0 1px 2px rgba(60, 64, 67, 0.3), 0 1px 3px 1px rgba(60, 64, 67, 0.15);\n",
              "    fill: var(--button-hover-fill-color);\n",
              "  }\n",
              "\n",
              "  .colab-df-quickchart-complete:disabled,\n",
              "  .colab-df-quickchart-complete:disabled:hover {\n",
              "    background-color: var(--disabled-bg-color);\n",
              "    fill: var(--disabled-fill-color);\n",
              "    box-shadow: none;\n",
              "  }\n",
              "\n",
              "  .colab-df-spinner {\n",
              "    border: 2px solid var(--fill-color);\n",
              "    border-color: transparent;\n",
              "    border-bottom-color: var(--fill-color);\n",
              "    animation:\n",
              "      spin 1s steps(1) infinite;\n",
              "  }\n",
              "\n",
              "  @keyframes spin {\n",
              "    0% {\n",
              "      border-color: transparent;\n",
              "      border-bottom-color: var(--fill-color);\n",
              "      border-left-color: var(--fill-color);\n",
              "    }\n",
              "    20% {\n",
              "      border-color: transparent;\n",
              "      border-left-color: var(--fill-color);\n",
              "      border-top-color: var(--fill-color);\n",
              "    }\n",
              "    30% {\n",
              "      border-color: transparent;\n",
              "      border-left-color: var(--fill-color);\n",
              "      border-top-color: var(--fill-color);\n",
              "      border-right-color: var(--fill-color);\n",
              "    }\n",
              "    40% {\n",
              "      border-color: transparent;\n",
              "      border-right-color: var(--fill-color);\n",
              "      border-top-color: var(--fill-color);\n",
              "    }\n",
              "    60% {\n",
              "      border-color: transparent;\n",
              "      border-right-color: var(--fill-color);\n",
              "    }\n",
              "    80% {\n",
              "      border-color: transparent;\n",
              "      border-right-color: var(--fill-color);\n",
              "      border-bottom-color: var(--fill-color);\n",
              "    }\n",
              "    90% {\n",
              "      border-color: transparent;\n",
              "      border-bottom-color: var(--fill-color);\n",
              "    }\n",
              "  }\n",
              "</style>\n",
              "\n",
              "  <script>\n",
              "    async function quickchart(key) {\n",
              "      const quickchartButtonEl =\n",
              "        document.querySelector('#' + key + ' button');\n",
              "      quickchartButtonEl.disabled = true;  // To prevent multiple clicks.\n",
              "      quickchartButtonEl.classList.add('colab-df-spinner');\n",
              "      try {\n",
              "        const charts = await google.colab.kernel.invokeFunction(\n",
              "            'suggestCharts', [key], {});\n",
              "      } catch (error) {\n",
              "        console.error('Error during call to suggestCharts:', error);\n",
              "      }\n",
              "      quickchartButtonEl.classList.remove('colab-df-spinner');\n",
              "      quickchartButtonEl.classList.add('colab-df-quickchart-complete');\n",
              "    }\n",
              "    (() => {\n",
              "      let quickchartButtonEl =\n",
              "        document.querySelector('#df-f4ab5552-377d-445e-9bae-422acd487983 button');\n",
              "      quickchartButtonEl.style.display =\n",
              "        google.colab.kernel.accessAllowed ? 'block' : 'none';\n",
              "    })();\n",
              "  </script>\n",
              "</div>\n",
              "\n",
              "    </div>\n",
              "  </div>\n"
            ],
            "application/vnd.google.colaboratory.intrinsic+json": {
              "type": "dataframe",
              "variable_name": "topic_sizes",
              "summary": "{\n  \"name\": \"topic_sizes\",\n  \"rows\": 208,\n  \"fields\": [\n    {\n      \"column\": \"topic\",\n      \"properties\": {\n        \"dtype\": \"number\",\n        \"std\": 60,\n        \"min\": -1,\n        \"max\": 206,\n        \"num_unique_values\": 208,\n        \"samples\": [\n          50,\n          14,\n          80\n        ],\n        \"semantic_type\": \"\",\n        \"description\": \"\"\n      }\n    },\n    {\n      \"column\": \"Size\",\n      \"properties\": {\n        \"dtype\": \"number\",\n        \"std\": 3772,\n        \"min\": 50,\n        \"max\": 54241,\n        \"num_unique_values\": 138,\n        \"samples\": [\n          107,\n          84,\n          693\n        ],\n        \"semantic_type\": \"\",\n        \"description\": \"\"\n      }\n    }\n  ]\n}"
            }
          },
          "metadata": {},
          "execution_count": 255
        }
      ]
    },
    {
      "cell_type": "code",
      "source": [
        "# We have 200 topics, we'd like to get closer to 20 or 30\n",
        "\n",
        "# ISSUE: Defined topics are being merged with the 'outlier' topic\n",
        "# TODO: Do not consider the 'outlier' topic as a merging candidate\n",
        "# Perform itereative cluster merging by tf-idf cosine dist\n",
        "# Reduce N topics down to 30\n",
        "\n",
        "# remove outlier topic for merging process\n",
        "outlier_topic = top_n_words[-1]\n",
        "top_n_words.pop(-1)\n",
        "\n",
        "while len(top_n_words) > 30:\n",
        "    # Calculate cosine similarity\n",
        "    similarities = cosine_similarity(tf_idf.T)\n",
        "    np.fill_diagonal(similarities, 0)\n",
        "\n",
        "    # Extract label to merge into and from where\n",
        "    topic_sizes = sample_tokens_str_df.groupby(['topic']).count().sort_values(\"token_str\", ascending=False).reset_index()\n",
        "    topic_to_merge = topic_sizes.iloc[-1].topic\n",
        "    topic_to_merge_into = np.argmax(similarities[topic_to_merge + 1]) - 1\n",
        "\n",
        "    # Adjust topics\n",
        "    sample_tokens_str_df.loc[sample_tokens_str_df.topic == topic_to_merge, \"topic\"] = topic_to_merge_into\n",
        "    old_topics = sample_tokens_str_df.sort_values(\"topic\").topic.unique()\n",
        "    map_topics = {old_topic: index - 1 for index, old_topic in enumerate(old_topics)}\n",
        "    sample_tokens_str_df.topic = sample_tokens_str_df.topic.map(map_topics)\n",
        "    docs_per_topic = sample_tokens_str_df.groupby(['topic'], as_index = False).agg({'token_str': ' '.join})\n",
        "\n",
        "    # Calculate new topic words\n",
        "    tf_idf, count = c_tf_idf(docs_per_topic.token_str.values, N_sample)\n",
        "    top_n_words = extract_top_n_words_per_topic(tf_idf, count, docs_per_topic, n=20)\n",
        "\n",
        "# add outlier topic back in\n",
        "top_n_words[-1] = outlier_topic\n",
        "topic_sizes = extract_topic_sizes(sample_tokens_str_df);\n",
        "topic_sizes.head(10)"
      ],
      "metadata": {
        "id": "KXuhRb7rb93u"
      },
      "execution_count": null,
      "outputs": []
    },
    {
      "cell_type": "code",
      "source": [
        "# Build topic_token_tfidf_score\n",
        "# TODO: Generalize this for use. by all models\n",
        "# a lookup mat of rows=tokens , cols=topics\n",
        "topic_token_tfidf_score = np.zeros((len(vocab), len(top_n_words)))\n",
        "for topic_idx, token_scores in enumerate(top_n_words.values()):\n",
        "  for token, tf_idf_score in token_scores:\n",
        "    topic_token_tfidf_score[vocab_idx_lookup[token], topic_idx] = tf_idf_score"
      ],
      "metadata": {
        "id": "hwAq8V7io_wu"
      },
      "execution_count": null,
      "outputs": []
    },
    {
      "cell_type": "code",
      "source": [
        "# Clean up our modelled topic data\n",
        "token_topics_sr = sample_tokens_str_df.topic\n",
        "model_results['str_embedding_umap_hdbscan'] = {}\n",
        "model_results['str_embedding_umap_hdbscan']['topics'] = token_topics_sr"
      ],
      "metadata": {
        "id": "d8poREvCgvJk"
      },
      "execution_count": null,
      "outputs": []
    },
    {
      "cell_type": "code",
      "source": [
        "# Inspect the topics Produced by 'str_embedding_umap_hdbscan' by tf-idf\n",
        "left_align(get_topic_repr_df(token_topics_sr, topic_token_tfidf_score, 15, 10))"
      ],
      "metadata": {
        "id": "PfN5kxQPvYdC"
      },
      "execution_count": null,
      "outputs": []
    },
    {
      "cell_type": "code",
      "source": [
        "# Plot Final Clusters\n",
        "display_labels_umap(X, token_topics_sr.values)"
      ],
      "metadata": {
        "id": "FMwtPzNVHxtK"
      },
      "execution_count": null,
      "outputs": []
    },
    {
      "cell_type": "markdown",
      "source": [
        "### Agglomerative Heirarchical Clustering"
      ],
      "metadata": {
        "id": "sjZMMJEajLnQ"
      }
    },
    {
      "cell_type": "code",
      "execution_count": null,
      "metadata": {
        "id": "SDCaNsL8jI_j"
      },
      "outputs": [],
      "source": [
        "# Fit AgglomerativeClustering\n",
        "# 10K => 12s\n",
        "\n",
        "# Instantiate the AgglomerativeClustering object without specifying the number of clusters\n",
        "agglomerative = AgglomerativeClustering(linkage='ward')\n",
        "\n",
        "# Fit the model to the data\n",
        "agglomerative.fit(X)\n",
        "\n",
        "# Retrieve the cluster labels for each data point\n",
        "ag_cluster_labels = agglomerative.labels_"
      ]
    },
    {
      "cell_type": "code",
      "execution_count": null,
      "metadata": {
        "id": "Yjcj0MdPQegk"
      },
      "outputs": [],
      "source": [
        "# Fit HDBSCAN\n",
        "# 10k => 1min\n",
        "# 100k => Cancelled after 25mins\n",
        "\n",
        "# Single thread implementation\n",
        "hdbscan_model = hdbscan.HDBSCAN()\n",
        "\n",
        "hdbscan_model.fit(X)\n",
        "\n",
        "hd_cluster_labels = hdbscan_model.labels_"
      ]
    },
    {
      "cell_type": "code",
      "execution_count": null,
      "metadata": {
        "id": "saRibTFXbzMa"
      },
      "outputs": [],
      "source": [
        "# Fit BIRCH\n",
        "# 10k => 3s\n",
        "\n",
        "birch = Birch(threshold=0.15)\n",
        "\n",
        "birch.fit(X)\n",
        "\n",
        "# Predict cluster labels\n",
        "bi_cluster_labels = birch.predict(X)"
      ]
    },
    {
      "cell_type": "code",
      "execution_count": null,
      "metadata": {
        "colab": {
          "base_uri": "https://localhost:8080/"
        },
        "id": "t9i2qTI_S7RP",
        "outputId": "1bec44fd-0682-4644-b9ae-7f65193e4098"
      },
      "outputs": [
        {
          "name": "stdout",
          "output_type": "stream",
          "text": [
            "N: 10000, n_clusters: 2, silhouette_avg: 0.08139429882542604, calinski_harabasz_index: 699.7204742200818\n"
          ]
        }
      ],
      "source": [
        "# Evaluate clusterings\n",
        "# We want to evaluate the clusterings consistently\n",
        "# TODO: implement as func\n",
        "\n",
        "n_clusters = len(np.unique(cluster_labels))\n",
        "silhouette_avg = silhouette_score(X, cluster_labels)\n",
        "calinski_harabasz_index = calinski_harabasz_score(X, cluster_labels)\n",
        "print(f'N: {N}, n_clusters: {n_clusters}, silhouette_avg: {silhouette_avg}, calinski_harabasz_index: {calinski_harabasz_index}')\n"
      ]
    },
    {
      "cell_type": "code",
      "execution_count": null,
      "metadata": {
        "id": "EBzbEG0vnIEz"
      },
      "outputs": [],
      "source": [
        "def create_tree_from_linkage(X, to_merge):\n",
        "    clusters = {}\n",
        "    for i, merge in enumerate(to_merge):\n",
        "        if merge[0] <= len(to_merge):\n",
        "            # if it is an original point, store idx\n",
        "            a = int(merge[0]) - 1\n",
        "        else:\n",
        "            # other wise read the cluster that has been created\n",
        "            a = clusters[int(merge[0])]\n",
        "        if merge[1] <= len(to_merge):\n",
        "            # Handle OG point\n",
        "            b = int(merge[1]) - 1\n",
        "        else:\n",
        "            b = clusters[int(merge[1])]\n",
        "        # the clusters are 1-indexed by scipy ugh\n",
        "        clusters[1 + i + len(to_merge)] = {\n",
        "            'children' : [a, b]\n",
        "        }\n",
        "    return clusters\n",
        "\n",
        "def build_cluster_node_lookup(lm):\n",
        "  # given the linkage_matrix lm\n",
        "  # build a lookup dict where as {{node_id}:{child_id_list}}\n",
        "  # where:\n",
        "  # node_id is a cluster id\n",
        "  # child_id_list is a list of either cluster ids or ids from the original data\n",
        "  lookup = {}\n",
        "  for i, lm_row in enumerate(lm):\n",
        "    sbc1_idx, sbc2_idx, dist, n_x = lm_row\n",
        "\n",
        "    # If the subcluster index is one of the OG datapoints, shift index\n",
        "    cid1 = int(sbc1_idx - 1 if sbc1_idx <= len(lm) else sbc1_idx)\n",
        "    cid2 = int(sbc2_idx - 1 if sbc2_idx <= len(lm) else sbc2_idx)\n",
        "\n",
        "    cluster_node_idx = 1 + i +len(lm)\n",
        "    lookup[cluster_node_idx] = [cid1, cid2]\n",
        "  return lookup\n"
      ]
    },
    {
      "cell_type": "code",
      "execution_count": null,
      "metadata": {
        "id": "uy9zA9MyjqMo"
      },
      "outputs": [],
      "source": [
        "# Retrieve the linkage matrix\n",
        "# This contains the tree graph we need for herirachical cluster labels\n",
        "# linkage_matrix.shape = 9999, 4\n",
        "# each row represents a clustering,\n",
        "# for cluster i , linkage_matrix[i] =\n",
        "# [subcluster_idx1, subcluster_idx2, dist, n_x]\n",
        "# where n_x is N(x) from X in the cluster\n",
        "linkage_matrix = linkage(X, method='ward')"
      ]
    },
    {
      "cell_type": "code",
      "source": [
        "# Check that the last element is the top level,\n",
        "# it is since it has all 10k elements\n",
        "n_x = linkage_matrix[-1][3]\n",
        "print(f'Number of elements in cluster: {n_x}')"
      ],
      "metadata": {
        "colab": {
          "base_uri": "https://localhost:8080/"
        },
        "id": "slCgXyad0bcM",
        "outputId": "8577ebae-e6e9-43c0-ec63-db88c4205875"
      },
      "execution_count": null,
      "outputs": [
        {
          "output_type": "stream",
          "name": "stdout",
          "text": [
            "Number of elements in cluster: 10000.0\n"
          ]
        }
      ]
    },
    {
      "cell_type": "code",
      "execution_count": null,
      "metadata": {
        "id": "TtiuE1PannhH"
      },
      "outputs": [],
      "source": [
        "cnl = build_cluster_node_lookup(linkage_matrix)"
      ]
    },
    {
      "cell_type": "code",
      "execution_count": 193,
      "metadata": {
        "colab": {
          "base_uri": "https://localhost:8080/"
        },
        "id": "4LRAcfhbnueO",
        "outputId": "ce00dbe7-a57e-4fd3-e010-f69aea15fb80"
      },
      "outputs": [
        {
          "output_type": "execute_result",
          "data": {
            "text/plain": [
              "[('climate', 14494),\n",
              " ('change', 14325),\n",
              " ('global', 6868),\n",
              " ('warming', 6530),\n",
              " ('action', 1049),\n",
              " ('u', 931),\n",
              " ('world', 812),\n",
              " ('ha', 769),\n",
              " ('people', 763),\n",
              " ('say', 733),\n",
              " ('new', 733),\n",
              " ('like', 676),\n",
              " ('need', 661),\n",
              " ('year', 635),\n",
              " ('one', 609),\n",
              " ('environment', 608),\n",
              " ('trump', 592),\n",
              " ('time', 572),\n",
              " ('science', 571),\n",
              " ('energy', 569)]"
            ]
          },
          "metadata": {},
          "execution_count": 193
        }
      ],
      "source": [
        "# WE WANT the FreqDist of tokens of a particular cluster node in the heirarchy\n",
        "# to get there, we\n",
        "# 1. build a lookup map from eidx > tweet id (tids) (from tweet_embeddings_df)\n",
        "# 2. build a lookup of tids for each node in the clustering\n",
        "# 3. then for a particular node we can build a BOW of all tweets in that cluster\n",
        "# 4. then we can get the freq dist for that BOW\n",
        "\n",
        "def convert_to_cid(cidx, N):\n",
        "  # scipy's linkage_matrix uses a diff idx within the matrix for each cluster\n",
        "  return 1 + cidx + N\n",
        "\n",
        "def build_eidxs_lookup(lm):\n",
        "  # Build a lookup map of cluster_id (cid) => list of embeddings idxs (eidx) in that cluster\n",
        "  eidx_lookup = {}\n",
        "  for i, lm_row in enumerate(lm):\n",
        "    sbc1_idx, sbc2_idx, dist, n_x = lm_row\n",
        "    eidxs = []\n",
        "    for sub_idx in [int(sbc1_idx), int(sbc2_idx)]:\n",
        "      if sub_idx <= len(lm):\n",
        "        eidxs.append(sub_idx - 1)\n",
        "      else:\n",
        "        sub_eidxs = eidx_lookup[sub_idx]\n",
        "        eidxs.extend(sub_eidxs)\n",
        "\n",
        "    eidx_lookup[convert_to_cid(i, len(lm))] = eidxs\n",
        "  return eidx_lookup\n",
        "\n",
        "def build_bow_from_tids(tids):\n",
        "  # Given a list of tids\n",
        "  # build a list of all tokens for those tids\n",
        "  bow = []\n",
        "  for tid in tids:\n",
        "    tokens = tokens_sr.loc[tid]\n",
        "    bow.extend(tokens)\n",
        "  return bow\n",
        "\n",
        "def build_freqdist_for_cluster(cid):\n",
        "  tids = cid_tids_lookup[cid]\n",
        "  cluster_bow = build_bow_from_tids(cid_tids_lookup[cid])\n",
        "  cluster_freqdist = FreqDist(cluster_bow)\n",
        "  return cluster_freqdist\n",
        "\n",
        "# 1. build a lookup map from eidx > tweet id (tids) (from tweet_embeddings_df)\n",
        "cid_eidxs_lookup = build_eidxs_lookup(linkage_matrix)\n",
        "\n",
        "# 2. build a lookup of tids for each node in the clustering\n",
        "eidx_to_tid_lookup = tweet_embeddings_df.index.to_list()\n",
        "# map eidxs to tids\n",
        "cid_tids_lookup = {}\n",
        "for cid, eidxs in cid_eidxs_lookup.items():\n",
        "  tids = [eidx_to_tid_lookup[eidx] for eidx in eidxs]\n",
        "  cid_tids_lookup[cid] = tids\n",
        "\n",
        "top_cluster_idx = len(linkage_matrix)-1\n",
        "top_cluster_freqs = build_freqdist_for_cluster(convert_to_cid(top_cluster_idx, len(linkage_matrix)))\n",
        "# This looks correct , there's\n",
        "top_cluster_freqs.most_common(20)"
      ]
    },
    {
      "cell_type": "code",
      "source": [
        "# Plot the dendrogram of the top N clusters of the linkage matrix\n",
        "# This is a hierarchical clustering\n",
        "n_top_levels = 3\n",
        "plt.figure(figsize=(10, 5))\n",
        "truncated = dendrogram(linkage_matrix, truncate_mode='level', p=n_top_levels)\n",
        "plt.title('Agglomerative Cluster Heirarchy')\n",
        "plt.xlabel('Sample Index')\n",
        "#plt.ylabel('Distance')\n",
        "plt.show()"
      ],
      "metadata": {
        "colab": {
          "base_uri": "https://localhost:8080/",
          "height": 491
        },
        "id": "imbfaxPbNpMS",
        "outputId": "da4348de-dc12-4d99-aea6-f32fd7da3c11"
      },
      "execution_count": 194,
      "outputs": [
        {
          "output_type": "display_data",
          "data": {
            "text/plain": [
              "<Figure size 1000x500 with 1 Axes>"
            ],
            "image/png": "[encoded data removed]"
          },
          "metadata": {}
        }
      ]
    },
    {
      "cell_type": "code",
      "source": [
        "# The idxs given in the cluster heriarchy are not what we want,\n",
        "# We want the ids of the clusters that are the leaves of this\n",
        "# truncated tree\n",
        "# so let's cut the tree and inspect it\n",
        "print(f'Leaves at lvl {n_top_levels}: {len(truncated[\"leaves\"])}')\n",
        "\n",
        "lvl_cluster_idx = truncated['leaves'][1]\n",
        "print(lvl_cluster_idx)\n",
        "top_cluster_freqs = build_freqdist_for_cluster(lvl_cluster_idx)\n",
        "# This looks correct\n",
        "top_cluster_freqs.most_common(20)"
      ],
      "metadata": {
        "id": "OdrhC9CjS6wN",
        "colab": {
          "base_uri": "https://localhost:8080/"
        },
        "outputId": "b6eca91e-54a1-4c52-b374-b62f5862c614"
      },
      "execution_count": 192,
      "outputs": [
        {
          "output_type": "stream",
          "name": "stdout",
          "text": [
            "Leaves at lvl 3: 16\n",
            "39961\n",
            "1057\n"
          ]
        },
        {
          "output_type": "execute_result",
          "data": {
            "text/plain": [
              "[('climate', 765),\n",
              " ('change', 753),\n",
              " ('global', 369),\n",
              " ('warming', 351),\n",
              " ('people', 59),\n",
              " ('action', 58),\n",
              " ('u', 55),\n",
              " ('need', 49),\n",
              " ('new', 46),\n",
              " ('world', 37),\n",
              " ('ha', 36),\n",
              " ('energy', 36),\n",
              " ('one', 36),\n",
              " ('environment', 35),\n",
              " ('say', 35),\n",
              " ('like', 34),\n",
              " ('think', 33),\n",
              " ('know', 33),\n",
              " ('help', 31),\n",
              " ('impact', 31)]"
            ]
          },
          "metadata": {},
          "execution_count": 192
        }
      ]
    },
    {
      "cell_type": "code",
      "source": [
        "# Let's inspect all the 'clusters' at each level of the Heirarchy\n",
        "# ISSUE: The topics seem to have very similiar proportions of all of the keywords,\n",
        "# this is not helpful! It means the clusters have very similiar\n",
        "print(f'Clusters at Lvl {n_top_levels}')\n",
        "for cluster_id in truncated['leaves']:\n",
        "  n_tweets_in_cluster = len(cid_tids_lookup[cluster_id])\n",
        "  print(f'Cluster {cluster_id} - N={n_tweets_in_cluster}')\n",
        "  cid_tids_lookup[cluster_id]\n",
        "  top_20 = build_freqdist_for_cluster(cluster_id).most_common(20)\n",
        "  formatted_top_20 = ', '.join([f'{t[0]}:{t[1]/n_tweets_in_cluster}' for t in top_20])\n",
        "  print(f'Top 20: {formatted_top_20}')"
      ],
      "metadata": {
        "colab": {
          "base_uri": "https://localhost:8080/"
        },
        "id": "s1p36oBQWIXa",
        "outputId": "9ff32f04-8308-41e1-e9e6-bbcdb0f50c3a"
      },
      "execution_count": 199,
      "outputs": [
        {
          "output_type": "stream",
          "name": "stdout",
          "text": [
            "Clusters at Lvl 3\n",
            "Cluster 39919 - N=1271\n",
            "Top 20: climate:0.7269866247049567, change:0.7199055861526357, global:0.33988985051140835, warming:0.31943351691581434, action:0.058221872541306056, world:0.05428796223446106, u:0.04720692368214005, people:0.046420141620771044, like:0.041699449252557044, one:0.03619197482297404, say:0.03540519276160504, ha:0.03540519276160504, new:0.03461841070023604, science:0.03383162863886703, time:0.03147128245476003, need:0.02989771833202203, scientist:0.02832415420928403, environment:0.02753737214791503, right:0.02675059008654603, think:0.02675059008654603\n",
            "Cluster 39961 - N=1057\n",
            "Top 20: climate:0.7237464522232734, change:0.7123935666982024, global:0.3491012298959319, warming:0.33207190160832545, people:0.05581835383159887, action:0.05487228003784295, u:0.05203405865657521, need:0.046357615894039736, new:0.043519394512771994, world:0.03500473036896878, ha:0.03405865657521287, energy:0.03405865657521287, one:0.03405865657521287, environment:0.033112582781456956, say:0.033112582781456956, like:0.03216650898770104, think:0.03122043519394513, know:0.03122043519394513, help:0.0293282876064333, impact:0.0293282876064333\n",
            "Cluster 39955 - N=863\n",
            "Top 20: climate:0.7253765932792584, change:0.7137891077636153, global:0.33951332560834296, warming:0.3325608342989571, action:0.05793742757821553, world:0.047508690614136734, new:0.04171494785631518, u:0.038238702201622246, one:0.03707995365005794, ha:0.03707995365005794, trump:0.03592120509849363, science:0.03592120509849363, say:0.03476245654692932, year:0.03476245654692932, environment:0.03476245654692932, energy:0.03476245654692932, need:0.03360370799536501, news:0.03360370799536501, scientist:0.03244495944380069, people:0.031286210892236384\n",
            "Cluster 39987 - N=6732\n",
            "Top 20: climate:0.7223707664884136, change:0.7144979203802734, global:0.3441770647653001, warming:0.32813428401663697, action:0.05258467023172905, u:0.043969102792632206, ha:0.04144385026737968, world:0.038621509209744505, say:0.038621509209744505, people:0.03639334521687463, like:0.035056446821152706, new:0.035056446821152706, trump:0.03297682709447415, year:0.031788472964943554, need:0.030303030303030304, one:0.029708853238265002, think:0.027629233511586453, time:0.027480689245395127, environment:0.027480689245395127, scientist:0.027183600713012478\n",
            "Cluster 20610 - N=91\n",
            "Top 20: climate:0.6813186813186813, change:0.6593406593406593, global:0.3626373626373626, warming:0.3516483516483517, dont:0.07692307692307693, action:0.06593406593406594, get:0.054945054945054944, u:0.054945054945054944, also:0.054945054945054944, want:0.054945054945054944, today:0.054945054945054944, trump:0.04395604395604396, world:0.04395604395604396, look:0.04395604395604396, fuel:0.04395604395604396, ha:0.04395604395604396, im:0.04395604395604396, cause:0.04395604395604396, blame:0.04395604395604396, environment:0.04395604395604396\n",
            "Cluster 39982 - N=1813\n",
            "Top 20: climate:0.7440706012134584, change:0.7402095973524545, global:0.3232211803640375, warming:0.3088803088803089, action:0.05184776613348042, u:0.05184776613348042, ha:0.03916161059018202, year:0.03861003861003861, need:0.03861003861003861, say:0.03640375068946498, people:0.03640375068946498, energy:0.03640375068946498, environment:0.035852178709321565, world:0.03530060672917816, like:0.03309431880860452, new:0.03309431880860452, one:0.03088803088803089, time:0.03088803088803089, science:0.02978488692774407, think:0.02978488692774407\n",
            "Cluster 39972 - N=1261\n",
            "Top 20: climate:0.7319587628865979, change:0.7224425059476606, global:0.3354480570975416, warming:0.3132434575733545, action:0.05313243457573354, new:0.04440919904837431, u:0.04440919904837431, people:0.04282315622521808, ha:0.04203013481363997, world:0.040444091990483745, need:0.03647898493259318, say:0.03647898493259318, trump:0.03251387787470262, think:0.0317208564631245, one:0.030927835051546393, scientist:0.03013481363996828, year:0.03013481363996828, like:0.029341792228390166, environment:0.029341792228390166, get:0.028548770816812053\n",
            "Cluster 39985 - N=1317\n",
            "Top 20: climate:0.715261958997722, change:0.7107061503416856, global:0.3462414578587699, warming:0.3234624145785877, u:0.04935459377372817, world:0.0425208807896735, action:0.04100227790432802, people:0.037965072133637055, time:0.037965072133637055, year:0.037965072133637055, one:0.03720577069096431, new:0.03720577069096431, ha:0.03568716780561883, say:0.03492786636294609, science:0.032649962034927864, real:0.032649962034927864, like:0.03189066059225513, know:0.03189066059225513, trump:0.030372057706909643, scientist:0.02809415337889142\n",
            "Cluster 39804 - N=35\n",
            "Top 20: climate:0.8571428571428571, change:0.8285714285714286, global:0.22857142857142856, warming:0.2, thing:0.11428571428571428, trump:0.08571428571428572, say:0.08571428571428572, made:0.08571428571428572, believe:0.08571428571428572, news:0.05714285714285714, firm:0.05714285714285714, time:0.05714285714285714, opinion:0.05714285714285714, ha:0.05714285714285714, issue:0.05714285714285714, ever:0.05714285714285714, earth:0.05714285714285714, one:0.05714285714285714, many:0.05714285714285714, evidence:0.05714285714285714\n",
            "Cluster 39874 - N=134\n",
            "Top 20: climate:0.7014925373134329, change:0.7014925373134329, global:0.3582089552238806, warming:0.3283582089552239, action:0.06716417910447761, say:0.05970149253731343, real:0.05223880597014925, like:0.05223880597014925, need:0.04477611940298507, right:0.04477611940298507, thing:0.04477611940298507, much:0.03731343283582089, ha:0.03731343283582089, want:0.03731343283582089, make:0.03731343283582089, show:0.03731343283582089, oil:0.03731343283582089, energy:0.03731343283582089, dont:0.03731343283582089, said:0.029850746268656716\n",
            "Cluster 39482 - N=25\n",
            "Top 20: climate:0.72, change:0.68, global:0.32, warming:0.32, fight:0.16, even:0.12, action:0.12, matter:0.08, greenhouse:0.08, great:0.08, dont:0.08, china:0.08, fully:0.08, candidate:0.08, ha:0.08, environment:0.08, world:0.08, increase:0.08, student:0.08, good:0.08\n",
            "Cluster 39908 - N=203\n",
            "Top 20: climate:0.7093596059113301, change:0.6995073891625616, global:0.3842364532019704, warming:0.3497536945812808, action:0.06896551724137931, u:0.04926108374384237, need:0.04926108374384237, world:0.04433497536945813, environment:0.04433497536945813, say:0.03940886699507389, time:0.03940886699507389, man:0.03940886699507389, ha:0.034482758620689655, news:0.034482758620689655, new:0.034482758620689655, impact:0.034482758620689655, believe:0.034482758620689655, water:0.034482758620689655, still:0.034482758620689655, one:0.029556650246305417\n",
            "Cluster 39976 - N=1995\n",
            "Top 20: climate:0.7328320802005013, change:0.7218045112781954, global:0.3393483709273183, warming:0.3238095238095238, action:0.05463659147869674, u:0.04411027568922306, people:0.04110275689223058, new:0.0406015037593985, world:0.03859649122807018, ha:0.03609022556390978, need:0.03508771929824561, environment:0.033583959899749376, energy:0.03308270676691729, like:0.031578947368421054, say:0.031578947368421054, science:0.03107769423558897, fight:0.030576441102756893, year:0.029072681704260653, one:0.029072681704260653, time:0.02857142857142857\n",
            "Cluster 39981 - N=2488\n",
            "Top 20: climate:0.7178456591639871, change:0.7053858520900321, global:0.3532958199356913, warming:0.33762057877813506, u:0.05345659163987138, action:0.04903536977491962, world:0.04702572347266881, say:0.03778135048231511, new:0.03536977491961415, like:0.034967845659163985, ha:0.03456591639871383, people:0.03376205787781351, year:0.03215434083601286, need:0.03135048231511254, environment:0.03054662379421222, science:0.03014469453376206, real:0.03014469453376206, trump:0.028135048231511254, time:0.026929260450160773, one:0.02572347266881029\n",
            "Cluster 20697 - N=89\n",
            "Top 20: climate:0.7865168539325843, change:0.7865168539325843, global:0.3258426966292135, warming:0.29213483146067415, like:0.07865168539325842, people:0.07865168539325842, water:0.06741573033707865, u:0.06741573033707865, arctic:0.056179775280898875, ha:0.056179775280898875, action:0.056179775280898875, environment:0.0449438202247191, could:0.0449438202247191, new:0.0449438202247191, say:0.0449438202247191, let:0.0449438202247191, trump:0.0449438202247191, sustainable:0.033707865168539325, denier:0.033707865168539325, right:0.033707865168539325\n",
            "Cluster 39968 - N=626\n",
            "Top 20: climate:0.6964856230031949, change:0.694888178913738, global:0.3706070287539936, warming:0.3546325878594249, action:0.0463258785942492, u:0.04313099041533546, think:0.039936102236421724, ha:0.036741214057507986, new:0.03514376996805112, say:0.03354632587859425, need:0.03354632587859425, energy:0.03354632587859425, environment:0.03354632587859425, year:0.03194888178913738, real:0.03194888178913738, fight:0.03035143769968051, news:0.02875399361022364, world:0.02875399361022364, could:0.02875399361022364, planet:0.027156549520766772\n"
          ]
        }
      ]
    }
  ],
  "metadata": {
    "accelerator": "GPU",
    "colab": {
      "gpuType": "V100",
      "machine_shape": "hm",
      "provenance": [],
      "authorship_tag": "ABX9TyN00d8Z5xNpqNPNR1acIPoK",
      "include_colab_link": true
    },
    "kernelspec": {
      "display_name": "Python 3",
      "name": "python3"
    },
    "language_info": {
      "name": "python"
    },
    "widgets": {
      "application/vnd.jupyter.widget-state+json": {
        "59bea6c7afbd434f93e82380da34c543": {
          "model_module": "@jupyter-widgets/controls",
          "model_name": "HBoxModel",
          "model_module_version": "1.5.0",
          "state": {
            "_dom_classes": [],
            "_model_module": "@jupyter-widgets/controls",
            "_model_module_version": "1.5.0",
            "_model_name": "HBoxModel",
            "_view_count": null,
            "_view_module": "@jupyter-widgets/controls",
            "_view_module_version": "1.5.0",
            "_view_name": "HBoxView",
            "box_style": "",
            "children": [
              "IPY_MODEL_9bbd5162f9fe4cf5af338d53a16cc1df",
              "IPY_MODEL_116ee35f59494acca6634f93e5127cea",
              "IPY_MODEL_6e91dfde10424dbfa63607a96b516e7a"
            ],
            "layout": "IPY_MODEL_d1fb5d2bdb5d4f55be1a68e901500e07"
          }
        },
        "9bbd5162f9fe4cf5af338d53a16cc1df": {
          "model_module": "@jupyter-widgets/controls",
          "model_name": "HTMLModel",
          "model_module_version": "1.5.0",
          "state": {
            "_dom_classes": [],
            "_model_module": "@jupyter-widgets/controls",
            "_model_module_version": "1.5.0",
            "_model_name": "HTMLModel",
            "_view_count": null,
            "_view_module": "@jupyter-widgets/controls",
            "_view_module_version": "1.5.0",
            "_view_name": "HTMLView",
            "description": "",
            "description_tooltip": null,
            "layout": "IPY_MODEL_fd52bab6a97b4989bd268602daf5e3d4",
            "placeholder": "​",
            "style": "IPY_MODEL_0f22fc799cbd4d0087cd2ea98884ca49",
            "value": "Batches: 100%"
          }
        },
        "116ee35f59494acca6634f93e5127cea": {
          "model_module": "@jupyter-widgets/controls",
          "model_name": "FloatProgressModel",
          "model_module_version": "1.5.0",
          "state": {
            "_dom_classes": [],
            "_model_module": "@jupyter-widgets/controls",
            "_model_module_version": "1.5.0",
            "_model_name": "FloatProgressModel",
            "_view_count": null,
            "_view_module": "@jupyter-widgets/controls",
            "_view_module_version": "1.5.0",
            "_view_name": "ProgressView",
            "bar_style": "success",
            "description": "",
            "description_tooltip": null,
            "layout": "IPY_MODEL_a86014b4412f45deb85da1c24fd451c3",
            "max": 31247,
            "min": 0,
            "orientation": "horizontal",
            "style": "IPY_MODEL_d7014b645dfb475bbd22dbe457cc07cd",
            "value": 31247
          }
        },
        "6e91dfde10424dbfa63607a96b516e7a": {
          "model_module": "@jupyter-widgets/controls",
          "model_name": "HTMLModel",
          "model_module_version": "1.5.0",
          "state": {
            "_dom_classes": [],
            "_model_module": "@jupyter-widgets/controls",
            "_model_module_version": "1.5.0",
            "_model_name": "HTMLModel",
            "_view_count": null,
            "_view_module": "@jupyter-widgets/controls",
            "_view_module_version": "1.5.0",
            "_view_name": "HTMLView",
            "description": "",
            "description_tooltip": null,
            "layout": "IPY_MODEL_e5e1ce40331443889cc1292a92fa7d03",
            "placeholder": "​",
            "style": "IPY_MODEL_958eaf9c8ef84872b5783f48ab6ceec0",
            "value": " 31247/31247 [04:08&lt;00:00, 149.08it/s]"
          }
        },
        "d1fb5d2bdb5d4f55be1a68e901500e07": {
          "model_module": "@jupyter-widgets/base",
          "model_name": "LayoutModel",
          "model_module_version": "1.2.0",
          "state": {
            "_model_module": "@jupyter-widgets/base",
            "_model_module_version": "1.2.0",
            "_model_name": "LayoutModel",
            "_view_count": null,
            "_view_module": "@jupyter-widgets/base",
            "_view_module_version": "1.2.0",
            "_view_name": "LayoutView",
            "align_content": null,
            "align_items": null,
            "align_self": null,
            "border": null,
            "bottom": null,
            "display": null,
            "flex": null,
            "flex_flow": null,
            "grid_area": null,
            "grid_auto_columns": null,
            "grid_auto_flow": null,
            "grid_auto_rows": null,
            "grid_column": null,
            "grid_gap": null,
            "grid_row": null,
            "grid_template_areas": null,
            "grid_template_columns": null,
            "grid_template_rows": null,
            "height": null,
            "justify_content": null,
            "justify_items": null,
            "left": null,
            "margin": null,
            "max_height": null,
            "max_width": null,
            "min_height": null,
            "min_width": null,
            "object_fit": null,
            "object_position": null,
            "order": null,
            "overflow": null,
            "overflow_x": null,
            "overflow_y": null,
            "padding": null,
            "right": null,
            "top": null,
            "visibility": null,
            "width": null
          }
        },
        "fd52bab6a97b4989bd268602daf5e3d4": {
          "model_module": "@jupyter-widgets/base",
          "model_name": "LayoutModel",
          "model_module_version": "1.2.0",
          "state": {
            "_model_module": "@jupyter-widgets/base",
            "_model_module_version": "1.2.0",
            "_model_name": "LayoutModel",
            "_view_count": null,
            "_view_module": "@jupyter-widgets/base",
            "_view_module_version": "1.2.0",
            "_view_name": "LayoutView",
            "align_content": null,
            "align_items": null,
            "align_self": null,
            "border": null,
            "bottom": null,
            "display": null,
            "flex": null,
            "flex_flow": null,
            "grid_area": null,
            "grid_auto_columns": null,
            "grid_auto_flow": null,
            "grid_auto_rows": null,
            "grid_column": null,
            "grid_gap": null,
            "grid_row": null,
            "grid_template_areas": null,
            "grid_template_columns": null,
            "grid_template_rows": null,
            "height": null,
            "justify_content": null,
            "justify_items": null,
            "left": null,
            "margin": null,
            "max_height": null,
            "max_width": null,
            "min_height": null,
            "min_width": null,
            "object_fit": null,
            "object_position": null,
            "order": null,
            "overflow": null,
            "overflow_x": null,
            "overflow_y": null,
            "padding": null,
            "right": null,
            "top": null,
            "visibility": null,
            "width": null
          }
        },
        "0f22fc799cbd4d0087cd2ea98884ca49": {
          "model_module": "@jupyter-widgets/controls",
          "model_name": "DescriptionStyleModel",
          "model_module_version": "1.5.0",
          "state": {
            "_model_module": "@jupyter-widgets/controls",
            "_model_module_version": "1.5.0",
            "_model_name": "DescriptionStyleModel",
            "_view_count": null,
            "_view_module": "@jupyter-widgets/base",
            "_view_module_version": "1.2.0",
            "_view_name": "StyleView",
            "description_width": ""
          }
        },
        "a86014b4412f45deb85da1c24fd451c3": {
          "model_module": "@jupyter-widgets/base",
          "model_name": "LayoutModel",
          "model_module_version": "1.2.0",
          "state": {
            "_model_module": "@jupyter-widgets/base",
            "_model_module_version": "1.2.0",
            "_model_name": "LayoutModel",
            "_view_count": null,
            "_view_module": "@jupyter-widgets/base",
            "_view_module_version": "1.2.0",
            "_view_name": "LayoutView",
            "align_content": null,
            "align_items": null,
            "align_self": null,
            "border": null,
            "bottom": null,
            "display": null,
            "flex": null,
            "flex_flow": null,
            "grid_area": null,
            "grid_auto_columns": null,
            "grid_auto_flow": null,
            "grid_auto_rows": null,
            "grid_column": null,
            "grid_gap": null,
            "grid_row": null,
            "grid_template_areas": null,
            "grid_template_columns": null,
            "grid_template_rows": null,
            "height": null,
            "justify_content": null,
            "justify_items": null,
            "left": null,
            "margin": null,
            "max_height": null,
            "max_width": null,
            "min_height": null,
            "min_width": null,
            "object_fit": null,
            "object_position": null,
            "order": null,
            "overflow": null,
            "overflow_x": null,
            "overflow_y": null,
            "padding": null,
            "right": null,
            "top": null,
            "visibility": null,
            "width": null
          }
        },
        "d7014b645dfb475bbd22dbe457cc07cd": {
          "model_module": "@jupyter-widgets/controls",
          "model_name": "ProgressStyleModel",
          "model_module_version": "1.5.0",
          "state": {
            "_model_module": "@jupyter-widgets/controls",
            "_model_module_version": "1.5.0",
            "_model_name": "ProgressStyleModel",
            "_view_count": null,
            "_view_module": "@jupyter-widgets/base",
            "_view_module_version": "1.2.0",
            "_view_name": "StyleView",
            "bar_color": null,
            "description_width": ""
          }
        },
        "e5e1ce40331443889cc1292a92fa7d03": {
          "model_module": "@jupyter-widgets/base",
          "model_name": "LayoutModel",
          "model_module_version": "1.2.0",
          "state": {
            "_model_module": "@jupyter-widgets/base",
            "_model_module_version": "1.2.0",
            "_model_name": "LayoutModel",
            "_view_count": null,
            "_view_module": "@jupyter-widgets/base",
            "_view_module_version": "1.2.0",
            "_view_name": "LayoutView",
            "align_content": null,
            "align_items": null,
            "align_self": null,
            "border": null,
            "bottom": null,
            "display": null,
            "flex": null,
            "flex_flow": null,
            "grid_area": null,
            "grid_auto_columns": null,
            "grid_auto_flow": null,
            "grid_auto_rows": null,
            "grid_column": null,
            "grid_gap": null,
            "grid_row": null,
            "grid_template_areas": null,
            "grid_template_columns": null,
            "grid_template_rows": null,
            "height": null,
            "justify_content": null,
            "justify_items": null,
            "left": null,
            "margin": null,
            "max_height": null,
            "max_width": null,
            "min_height": null,
            "min_width": null,
            "object_fit": null,
            "object_position": null,
            "order": null,
            "overflow": null,
            "overflow_x": null,
            "overflow_y": null,
            "padding": null,
            "right": null,
            "top": null,
            "visibility": null,
            "width": null
          }
        },
        "958eaf9c8ef84872b5783f48ab6ceec0": {
          "model_module": "@jupyter-widgets/controls",
          "model_name": "DescriptionStyleModel",
          "model_module_version": "1.5.0",
          "state": {
            "_model_module": "@jupyter-widgets/controls",
            "_model_module_version": "1.5.0",
            "_model_name": "DescriptionStyleModel",
            "_view_count": null,
            "_view_module": "@jupyter-widgets/base",
            "_view_module_version": "1.2.0",
            "_view_name": "StyleView",
            "description_width": ""
          }
        }
      }
    }
  },
  "nbformat": 4,
  "nbformat_minor": 0
}