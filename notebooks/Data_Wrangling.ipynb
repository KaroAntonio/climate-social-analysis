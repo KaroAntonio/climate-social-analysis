{
  "nbformat": 4,
  "nbformat_minor": 0,
  "metadata": {
    "colab": {
      "provenance": [],
      "authorship_tag": "ABX9TyOjUpBkj/UzjjGvcQx5woJ7",
      "include_colab_link": true
    },
    "kernelspec": {
      "name": "python3",
      "display_name": "Python 3"
    },
    "language_info": {
      "name": "python"
    }
  },
  "cells": [
    {
      "cell_type": "markdown",
      "metadata": {
        "id": "view-in-github",
        "colab_type": "text"
      },
      "source": [
        "<a href=\"https://colab.research.google.com/github/KaroAntonio/climate-social-analysis/blob/main/notebooks/Data_Wrangling.ipynb\" target=\"_parent\"><img src=\"https://colab.research.google.com/assets/colab-badge.svg\" alt=\"Open In Colab\"/></a>"
      ]
    },
    {
      "cell_type": "markdown",
      "source": [
        "# Tweet Data Wrangling\n",
        "\n",
        "Here we import our datasets, explore the features we have to work with, get a feel for the distributions, and do some initial cleaning.\n",
        "\n",
        "Our Datasets:\n",
        "- Climate Tweets (15m)\n",
        "- Climate Tweet Metadata"
      ],
      "metadata": {
        "id": "plt_LbWe4sF1"
      }
    },
    {
      "cell_type": "code",
      "source": [],
      "metadata": {
        "id": "OocLZs2Q5U2-"
      },
      "execution_count": null,
      "outputs": []
    }
  ]
}