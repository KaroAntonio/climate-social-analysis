{
  "nbformat": 4,
  "nbformat_minor": 0,
  "metadata": {
    "colab": {
      "provenance": [],
      "machine_shape": "hm",
      "gpuType": "V100",
      "authorship_tag": "ABX9TyOJRbuaQW2ooM1dsVJhyKDZ",
      "include_colab_link": true
    },
    "kernelspec": {
      "name": "python3",
      "display_name": "Python 3"
    },
    "language_info": {
      "name": "python"
    },
    "accelerator": "GPU"
  },
  "cells": [
    {
      "cell_type": "markdown",
      "metadata": {
        "id": "view-in-github",
        "colab_type": "text"
      },
      "source": [
        "<a href=\"https://colab.research.google.com/github/KaroAntonio/climate-social-analysis/blob/main/notebooks/Data_Wrangling.ipynb\" target=\"_parent\"><img src=\"https://colab.research.google.com/assets/colab-badge.svg\" alt=\"Open In Colab\"/></a>"
      ]
    },
    {
      "cell_type": "markdown",
      "source": [
        "# Tweet Data Wrangling\n",
        "\n",
        "Here we import our datasets, explore the features we have to work with, get a feel for the distributions, and do some initial cleaning.\n",
        "\n",
        "We want to keep in mind that we have the following goals for this analysis:\n",
        "- Extract Topics from the Tweet Data (Unsupervised)\n",
        "- Label Emotions for each tweet (Possibly supervised)\n",
        "- Establish Association between Topics and Emotions\n",
        "\n",
        "Our Datasets:\n",
        "- Climate Tweets (15m)\n",
        "\n",
        "These tweets have already been filtered from the broader twitter stream, so this dataset includes only tweets which include either 'climate change' or 'global warming'\n",
        "\n",
        "Data Wrangling Steps Taken:\n",
        "\n",
        "1. Load Dataset\n",
        "2. Explore raw Dataset characteristics\n",
        "3. Text Preprocessing\n",
        "4. Tokenization\n",
        "5. Token Preprocessing\n",
        "\n",
        "\n"
      ],
      "metadata": {
        "id": "plt_LbWe4sF1"
      }
    },
    {
      "cell_type": "code",
      "source": [
        "!pip install emoji"
      ],
      "metadata": {
        "colab": {
          "base_uri": "https://localhost:8080/"
        },
        "id": "YzRWgRt_tLwj",
        "outputId": "5f20e708-6ff4-419c-8e63-9d73215ac9c1"
      },
      "execution_count": 1,
      "outputs": [
        {
          "output_type": "stream",
          "name": "stdout",
          "text": [
            "Requirement already satisfied: emoji in /usr/local/lib/python3.10/dist-packages (2.10.1)\n"
          ]
        }
      ]
    },
    {
      "cell_type": "code",
      "source": [
        "!pip install joblib"
      ],
      "metadata": {
        "colab": {
          "base_uri": "https://localhost:8080/"
        },
        "id": "n1XgmnS6tvo0",
        "outputId": "a122cc3d-3d73-484d-a620-9ed27bafb50d"
      },
      "execution_count": 2,
      "outputs": [
        {
          "output_type": "stream",
          "name": "stdout",
          "text": [
            "Requirement already satisfied: joblib in /usr/local/lib/python3.10/dist-packages (1.3.2)\n"
          ]
        }
      ]
    },
    {
      "cell_type": "code",
      "source": [
        "from google.colab import drive\n",
        "from joblib import Parallel, delayed\n",
        "import matplotlib.pyplot as plt\n",
        "import nltk\n",
        "from nltk import FreqDist\n",
        "import pandas as pd\n",
        "import numpy as np\n",
        "import re\n",
        "import emoji"
      ],
      "metadata": {
        "id": "OocLZs2Q5U2-"
      },
      "execution_count": 3,
      "outputs": []
    },
    {
      "cell_type": "code",
      "source": [
        "drive.mount('/content/drive')"
      ],
      "metadata": {
        "colab": {
          "base_uri": "https://localhost:8080/"
        },
        "id": "SiIjOHEw67OC",
        "outputId": "0c340a5e-f870-48d6-b352-00ff17509f7b"
      },
      "execution_count": 4,
      "outputs": [
        {
          "output_type": "stream",
          "name": "stdout",
          "text": [
            "Drive already mounted at /content/drive; to attempt to forcibly remount, call drive.mount(\"/content/drive\", force_remount=True).\n"
          ]
        }
      ]
    },
    {
      "cell_type": "code",
      "source": [
        "DRIVE_DIR = \"/content/drive/MyDrive/Climate Social Analysis/data/\"\n",
        "TWEET_TEXT_DATA_PATH = f\"{DRIVE_DIR}climate-change-twitter-dataset-tweet-data.csv\"\n",
        "TWEET_TIMESTAMPS_DATA_PATH = f\"{DRIVE_DIR}climate-change-twitter-dataset-timestamps.csv\"\n",
        "PREPROCESSED_TEXT_PATH = f\"{DRIVE_DIR}preprocessed_text.csv\""
      ],
      "metadata": {
        "id": "W3-urIee67qG"
      },
      "execution_count": 5,
      "outputs": []
    },
    {
      "cell_type": "code",
      "source": [
        "# Load tweets\n",
        "text_df = pd.read_csv(TWEET_TEXT_DATA_PATH)"
      ],
      "metadata": {
        "id": "nRFcpK8o71YO"
      },
      "execution_count": 6,
      "outputs": []
    },
    {
      "cell_type": "code",
      "source": [
        "# Load Timestamp Metadata\n",
        "timestamps_df = pd.read_csv(TWEET_TIMESTAMPS_DATA_PATH)"
      ],
      "metadata": {
        "id": "rHsBLXfIb8GR"
      },
      "execution_count": 7,
      "outputs": []
    },
    {
      "cell_type": "code",
      "source": [
        "# What is the shape of our data?\n",
        "text_df.shape"
      ],
      "metadata": {
        "colab": {
          "base_uri": "https://localhost:8080/"
        },
        "id": "9mDQWlmHRnW8",
        "outputId": "d8e66b5e-c2ed-4a46-fb4d-1ef61fe906a9"
      },
      "execution_count": 8,
      "outputs": [
        {
          "output_type": "execute_result",
          "data": {
            "text/plain": [
              "(15789411, 2)"
            ]
          },
          "metadata": {},
          "execution_count": 8
        }
      ]
    },
    {
      "cell_type": "code",
      "source": [
        "# What are our cols?\n",
        "text_df.columns"
      ],
      "metadata": {
        "colab": {
          "base_uri": "https://localhost:8080/"
        },
        "id": "hGU1P5ZrR76M",
        "outputId": "7701cf21-123e-4d4a-dd6a-9652f92dcc46"
      },
      "execution_count": 9,
      "outputs": [
        {
          "output_type": "execute_result",
          "data": {
            "text/plain": [
              "Index(['id', 'text'], dtype='object')"
            ]
          },
          "metadata": {},
          "execution_count": 9
        }
      ]
    },
    {
      "cell_type": "code",
      "source": [
        "# Is there an 'id' for each row?\n",
        "text_df['id'].nunique() == text_df.shape[0]"
      ],
      "metadata": {
        "colab": {
          "base_uri": "https://localhost:8080/"
        },
        "id": "lmc6Y7HqR_Qe",
        "outputId": "84820fbe-d688-4054-dc08-db04f39224da"
      },
      "execution_count": 10,
      "outputs": [
        {
          "output_type": "execute_result",
          "data": {
            "text/plain": [
              "True"
            ]
          },
          "metadata": {},
          "execution_count": 10
        }
      ]
    },
    {
      "cell_type": "code",
      "source": [
        "# Ok let's use 'id' for the index\n",
        "text_df.set_index('id', inplace=True)"
      ],
      "metadata": {
        "id": "FXM6FSWiSPD4"
      },
      "execution_count": 11,
      "outputs": []
    },
    {
      "cell_type": "code",
      "source": [
        "# What do our tweets look like?\n",
        "pd.set_option('display.max_colwidth', 300)\n",
        "text_df.sample(10)"
      ],
      "metadata": {
        "colab": {
          "base_uri": "https://localhost:8080/",
          "height": 394
        },
        "id": "vdQY8LIvSY8j",
        "outputId": "c7884634-752b-4def-d47f-4fab215d3f31"
      },
      "execution_count": 12,
      "outputs": [
        {
          "output_type": "execute_result",
          "data": {
            "text/plain": [
              "                                                                                                                                                                                                                                 text\n",
              "id                                                                                                                                                                                                                                   \n",
              "1121071037095923712                                                                      RT @ardenrose: I do not understand people who are AGAINST peaceful climate change protestors.. We’re trying to keep the world from becoming…\n",
              "1041155800767623171                                                                      RT @MisterRudeman: Show more videos of the weather disrespecting the flag so the conservatives will want to fight climate change too https:…\n",
              "737652947828375552                                                                                            Meteorologists are seeing global warming's effect on the weather | Paul Douglas https://t.co/Sg8GAzIZ8M\\n#ClimateChange\n",
              "598281016713805824                                                                                      Which one? Comparing Warren to a climate change denier or comparing Nafta to TPP? “@JasonFebery: @JesseLaGreca Not the same.”\n",
              "1077812183134883841                                                                      RT @miskeencore: i have so much anxiety about climate change lol what is the point of planning for the future when at this rate we don't ha…\n",
              "998508547519459329                                                                       RT @reinedelanuit05: Turnbull's energy policy fails to tackle climate change. So we've done his job for him! https://t.co/ZLxIfgH5Ll via @G…\n",
              "1127414750411919361                                                                      RT @NASAClimate: Is the 🌞 causing global warming? No. The Sun can influence Earth’s climate, but it is not responsible for the warming tren…\n",
              "1041306115571630081  people who say regina made no effort in trying to redeem herself, never owned up to her mistakes, didn’t love henry or any other member of her family are as ignorant as people who say global warming is a myth\n",
              "3123792359                                                                                 RT @CRusso815: RT @MikeyBarrz: I've never seen this before. http://tiny.cc/38b3X global warming is scary. - Where's that Dharma jumpsuit!?\n",
              "1125679228408803329                                                                      RT @DrepperBianca: Flemish fruits fear frost - or Modelling climate change induced phenological trends and frost risks in Belgian fruit orc…"
            ],
            "text/html": [
              "\n",
              "  <div id=\"df-6de288bb-fe54-43b0-9f75-7e7c68cdddf2\" class=\"colab-df-container\">\n",
              "    <div>\n",
              "<style scoped>\n",
              "    .dataframe tbody tr th:only-of-type {\n",
              "        vertical-align: middle;\n",
              "    }\n",
              "\n",
              "    .dataframe tbody tr th {\n",
              "        vertical-align: top;\n",
              "    }\n",
              "\n",
              "    .dataframe thead th {\n",
              "        text-align: right;\n",
              "    }\n",
              "</style>\n",
              "<table border=\"1\" class=\"dataframe\">\n",
              "  <thead>\n",
              "    <tr style=\"text-align: right;\">\n",
              "      <th></th>\n",
              "      <th>text</th>\n",
              "    </tr>\n",
              "    <tr>\n",
              "      <th>id</th>\n",
              "      <th></th>\n",
              "    </tr>\n",
              "  </thead>\n",
              "  <tbody>\n",
              "    <tr>\n",
              "      <th>1121071037095923712</th>\n",
              "      <td>RT @ardenrose: I do not understand people who are AGAINST peaceful climate change protestors.. We’re trying to keep the world from becoming…</td>\n",
              "    </tr>\n",
              "    <tr>\n",
              "      <th>1041155800767623171</th>\n",
              "      <td>RT @MisterRudeman: Show more videos of the weather disrespecting the flag so the conservatives will want to fight climate change too https:…</td>\n",
              "    </tr>\n",
              "    <tr>\n",
              "      <th>737652947828375552</th>\n",
              "      <td>Meteorologists are seeing global warming's effect on the weather | Paul Douglas https://t.co/Sg8GAzIZ8M\\n#ClimateChange</td>\n",
              "    </tr>\n",
              "    <tr>\n",
              "      <th>598281016713805824</th>\n",
              "      <td>Which one? Comparing Warren to a climate change denier or comparing Nafta to TPP? “@JasonFebery: @JesseLaGreca Not the same.”</td>\n",
              "    </tr>\n",
              "    <tr>\n",
              "      <th>1077812183134883841</th>\n",
              "      <td>RT @miskeencore: i have so much anxiety about climate change lol what is the point of planning for the future when at this rate we don't ha…</td>\n",
              "    </tr>\n",
              "    <tr>\n",
              "      <th>998508547519459329</th>\n",
              "      <td>RT @reinedelanuit05: Turnbull's energy policy fails to tackle climate change. So we've done his job for him! https://t.co/ZLxIfgH5Ll via @G…</td>\n",
              "    </tr>\n",
              "    <tr>\n",
              "      <th>1127414750411919361</th>\n",
              "      <td>RT @NASAClimate: Is the 🌞 causing global warming? No. The Sun can influence Earth’s climate, but it is not responsible for the warming tren…</td>\n",
              "    </tr>\n",
              "    <tr>\n",
              "      <th>1041306115571630081</th>\n",
              "      <td>people who say regina made no effort in trying to redeem herself, never owned up to her mistakes, didn’t love henry or any other member of her family are as ignorant as people who say global warming is a myth</td>\n",
              "    </tr>\n",
              "    <tr>\n",
              "      <th>3123792359</th>\n",
              "      <td>RT @CRusso815: RT @MikeyBarrz: I've never seen this before. http://tiny.cc/38b3X global warming is scary. - Where's that Dharma jumpsuit!?</td>\n",
              "    </tr>\n",
              "    <tr>\n",
              "      <th>1125679228408803329</th>\n",
              "      <td>RT @DrepperBianca: Flemish fruits fear frost - or Modelling climate change induced phenological trends and frost risks in Belgian fruit orc…</td>\n",
              "    </tr>\n",
              "  </tbody>\n",
              "</table>\n",
              "</div>\n",
              "    <div class=\"colab-df-buttons\">\n",
              "\n",
              "  <div class=\"colab-df-container\">\n",
              "    <button class=\"colab-df-convert\" onclick=\"convertToInteractive('df-6de288bb-fe54-43b0-9f75-7e7c68cdddf2')\"\n",
              "            title=\"Convert this dataframe to an interactive table.\"\n",
              "            style=\"display:none;\">\n",
              "\n",
              "  <svg xmlns=\"http://www.w3.org/2000/svg\" height=\"24px\" viewBox=\"0 -960 960 960\">\n",
              "    <path d=\"M120-120v-720h720v720H120Zm60-500h600v-160H180v160Zm220 220h160v-160H400v160Zm0 220h160v-160H400v160ZM180-400h160v-160H180v160Zm440 0h160v-160H620v160ZM180-180h160v-160H180v160Zm440 0h160v-160H620v160Z\"/>\n",
              "  </svg>\n",
              "    </button>\n",
              "\n",
              "  <style>\n",
              "    .colab-df-container {\n",
              "      display:flex;\n",
              "      gap: 12px;\n",
              "    }\n",
              "\n",
              "    .colab-df-convert {\n",
              "      background-color: #E8F0FE;\n",
              "      border: none;\n",
              "      border-radius: 50%;\n",
              "      cursor: pointer;\n",
              "      display: none;\n",
              "      fill: #1967D2;\n",
              "      height: 32px;\n",
              "      padding: 0 0 0 0;\n",
              "      width: 32px;\n",
              "    }\n",
              "\n",
              "    .colab-df-convert:hover {\n",
              "      background-color: #E2EBFA;\n",
              "      box-shadow: 0px 1px 2px rgba(60, 64, 67, 0.3), 0px 1px 3px 1px rgba(60, 64, 67, 0.15);\n",
              "      fill: #174EA6;\n",
              "    }\n",
              "\n",
              "    .colab-df-buttons div {\n",
              "      margin-bottom: 4px;\n",
              "    }\n",
              "\n",
              "    [theme=dark] .colab-df-convert {\n",
              "      background-color: #3B4455;\n",
              "      fill: #D2E3FC;\n",
              "    }\n",
              "\n",
              "    [theme=dark] .colab-df-convert:hover {\n",
              "      background-color: #434B5C;\n",
              "      box-shadow: 0px 1px 3px 1px rgba(0, 0, 0, 0.15);\n",
              "      filter: drop-shadow(0px 1px 2px rgba(0, 0, 0, 0.3));\n",
              "      fill: #FFFFFF;\n",
              "    }\n",
              "  </style>\n",
              "\n",
              "    <script>\n",
              "      const buttonEl =\n",
              "        document.querySelector('#df-6de288bb-fe54-43b0-9f75-7e7c68cdddf2 button.colab-df-convert');\n",
              "      buttonEl.style.display =\n",
              "        google.colab.kernel.accessAllowed ? 'block' : 'none';\n",
              "\n",
              "      async function convertToInteractive(key) {\n",
              "        const element = document.querySelector('#df-6de288bb-fe54-43b0-9f75-7e7c68cdddf2');\n",
              "        const dataTable =\n",
              "          await google.colab.kernel.invokeFunction('convertToInteractive',\n",
              "                                                    [key], {});\n",
              "        if (!dataTable) return;\n",
              "\n",
              "        const docLinkHtml = 'Like what you see? Visit the ' +\n",
              "          '<a target=\"_blank\" href=https://colab.research.google.com/notebooks/data_table.ipynb>data table notebook</a>'\n",
              "          + ' to learn more about interactive tables.';\n",
              "        element.innerHTML = '';\n",
              "        dataTable['output_type'] = 'display_data';\n",
              "        await google.colab.output.renderOutput(dataTable, element);\n",
              "        const docLink = document.createElement('div');\n",
              "        docLink.innerHTML = docLinkHtml;\n",
              "        element.appendChild(docLink);\n",
              "      }\n",
              "    </script>\n",
              "  </div>\n",
              "\n",
              "\n",
              "<div id=\"df-163717e6-7b42-42c7-bc7d-baedc3869fed\">\n",
              "  <button class=\"colab-df-quickchart\" onclick=\"quickchart('df-163717e6-7b42-42c7-bc7d-baedc3869fed')\"\n",
              "            title=\"Suggest charts\"\n",
              "            style=\"display:none;\">\n",
              "\n",
              "<svg xmlns=\"http://www.w3.org/2000/svg\" height=\"24px\"viewBox=\"0 0 24 24\"\n",
              "     width=\"24px\">\n",
              "    <g>\n",
              "        <path d=\"M19 3H5c-1.1 0-2 .9-2 2v14c0 1.1.9 2 2 2h14c1.1 0 2-.9 2-2V5c0-1.1-.9-2-2-2zM9 17H7v-7h2v7zm4 0h-2V7h2v10zm4 0h-2v-4h2v4z\"/>\n",
              "    </g>\n",
              "</svg>\n",
              "  </button>\n",
              "\n",
              "<style>\n",
              "  .colab-df-quickchart {\n",
              "      --bg-color: #E8F0FE;\n",
              "      --fill-color: #1967D2;\n",
              "      --hover-bg-color: #E2EBFA;\n",
              "      --hover-fill-color: #174EA6;\n",
              "      --disabled-fill-color: #AAA;\n",
              "      --disabled-bg-color: #DDD;\n",
              "  }\n",
              "\n",
              "  [theme=dark] .colab-df-quickchart {\n",
              "      --bg-color: #3B4455;\n",
              "      --fill-color: #D2E3FC;\n",
              "      --hover-bg-color: #434B5C;\n",
              "      --hover-fill-color: #FFFFFF;\n",
              "      --disabled-bg-color: #3B4455;\n",
              "      --disabled-fill-color: #666;\n",
              "  }\n",
              "\n",
              "  .colab-df-quickchart {\n",
              "    background-color: var(--bg-color);\n",
              "    border: none;\n",
              "    border-radius: 50%;\n",
              "    cursor: pointer;\n",
              "    display: none;\n",
              "    fill: var(--fill-color);\n",
              "    height: 32px;\n",
              "    padding: 0;\n",
              "    width: 32px;\n",
              "  }\n",
              "\n",
              "  .colab-df-quickchart:hover {\n",
              "    background-color: var(--hover-bg-color);\n",
              "    box-shadow: 0 1px 2px rgba(60, 64, 67, 0.3), 0 1px 3px 1px rgba(60, 64, 67, 0.15);\n",
              "    fill: var(--button-hover-fill-color);\n",
              "  }\n",
              "\n",
              "  .colab-df-quickchart-complete:disabled,\n",
              "  .colab-df-quickchart-complete:disabled:hover {\n",
              "    background-color: var(--disabled-bg-color);\n",
              "    fill: var(--disabled-fill-color);\n",
              "    box-shadow: none;\n",
              "  }\n",
              "\n",
              "  .colab-df-spinner {\n",
              "    border: 2px solid var(--fill-color);\n",
              "    border-color: transparent;\n",
              "    border-bottom-color: var(--fill-color);\n",
              "    animation:\n",
              "      spin 1s steps(1) infinite;\n",
              "  }\n",
              "\n",
              "  @keyframes spin {\n",
              "    0% {\n",
              "      border-color: transparent;\n",
              "      border-bottom-color: var(--fill-color);\n",
              "      border-left-color: var(--fill-color);\n",
              "    }\n",
              "    20% {\n",
              "      border-color: transparent;\n",
              "      border-left-color: var(--fill-color);\n",
              "      border-top-color: var(--fill-color);\n",
              "    }\n",
              "    30% {\n",
              "      border-color: transparent;\n",
              "      border-left-color: var(--fill-color);\n",
              "      border-top-color: var(--fill-color);\n",
              "      border-right-color: var(--fill-color);\n",
              "    }\n",
              "    40% {\n",
              "      border-color: transparent;\n",
              "      border-right-color: var(--fill-color);\n",
              "      border-top-color: var(--fill-color);\n",
              "    }\n",
              "    60% {\n",
              "      border-color: transparent;\n",
              "      border-right-color: var(--fill-color);\n",
              "    }\n",
              "    80% {\n",
              "      border-color: transparent;\n",
              "      border-right-color: var(--fill-color);\n",
              "      border-bottom-color: var(--fill-color);\n",
              "    }\n",
              "    90% {\n",
              "      border-color: transparent;\n",
              "      border-bottom-color: var(--fill-color);\n",
              "    }\n",
              "  }\n",
              "</style>\n",
              "\n",
              "  <script>\n",
              "    async function quickchart(key) {\n",
              "      const quickchartButtonEl =\n",
              "        document.querySelector('#' + key + ' button');\n",
              "      quickchartButtonEl.disabled = true;  // To prevent multiple clicks.\n",
              "      quickchartButtonEl.classList.add('colab-df-spinner');\n",
              "      try {\n",
              "        const charts = await google.colab.kernel.invokeFunction(\n",
              "            'suggestCharts', [key], {});\n",
              "      } catch (error) {\n",
              "        console.error('Error during call to suggestCharts:', error);\n",
              "      }\n",
              "      quickchartButtonEl.classList.remove('colab-df-spinner');\n",
              "      quickchartButtonEl.classList.add('colab-df-quickchart-complete');\n",
              "    }\n",
              "    (() => {\n",
              "      let quickchartButtonEl =\n",
              "        document.querySelector('#df-163717e6-7b42-42c7-bc7d-baedc3869fed button');\n",
              "      quickchartButtonEl.style.display =\n",
              "        google.colab.kernel.accessAllowed ? 'block' : 'none';\n",
              "    })();\n",
              "  </script>\n",
              "</div>\n",
              "\n",
              "    </div>\n",
              "  </div>\n"
            ],
            "application/vnd.google.colaboratory.intrinsic+json": {
              "type": "dataframe",
              "summary": "{\n  \"name\": \"text_df\",\n  \"rows\": 10,\n  \"fields\": [\n    {\n      \"column\": \"text\",\n      \"properties\": {\n        \"dtype\": \"string\",\n        \"num_unique_values\": 10,\n        \"samples\": [\n          \"RT @CRusso815: RT @MikeyBarrz: I've never seen this before. http://tiny.cc/38b3X global warming is scary. - Where's that Dharma jumpsuit!?\",\n          \"RT @MisterRudeman: Show more videos of the weather disrespecting the flag so the conservatives will want to fight climate change too https:\\u2026\",\n          \"RT @reinedelanuit05: Turnbull's energy policy fails to tackle climate change. So we've done his job for him! https://t.co/ZLxIfgH5Ll via @G\\u2026\"\n        ],\n        \"semantic_type\": \"\",\n        \"description\": \"\"\n      }\n    }\n  ]\n}"
            }
          },
          "metadata": {},
          "execution_count": 12
        }
      ]
    },
    {
      "cell_type": "code",
      "source": [
        "# Ok how many duplicates do we have?\n",
        "n_duplicates = text_df.duplicated().sum()\n",
        "print(f\"{n_duplicates} total duplicates\")\n",
        "print(f\"{n_duplicates / text_df.shape[0] * 100}% duplicates\")"
      ],
      "metadata": {
        "colab": {
          "base_uri": "https://localhost:8080/"
        },
        "id": "uofXNTcTSmvH",
        "outputId": "83c0b763-e0ca-457f-b615-ebc40d98061b"
      },
      "execution_count": 13,
      "outputs": [
        {
          "output_type": "stream",
          "name": "stdout",
          "text": [
            "6385951 total duplicates\n",
            "40.444516898065416% duplicates\n"
          ]
        }
      ]
    },
    {
      "cell_type": "code",
      "source": [
        "no_dupes_df = text_df.drop_duplicates()"
      ],
      "metadata": {
        "id": "0_Slxw-OUQCh"
      },
      "execution_count": 14,
      "outputs": []
    },
    {
      "cell_type": "code",
      "source": [
        "# Do we have null values?\n",
        "no_dupes_df.isnull().sum()"
      ],
      "metadata": {
        "colab": {
          "base_uri": "https://localhost:8080/"
        },
        "id": "IWBzfk_zT-0k",
        "outputId": "1d170133-f925-46b3-b3ce-661343531b76"
      },
      "execution_count": 15,
      "outputs": [
        {
          "output_type": "execute_result",
          "data": {
            "text/plain": [
              "text    0\n",
              "dtype: int64"
            ]
          },
          "metadata": {},
          "execution_count": 15
        }
      ]
    },
    {
      "cell_type": "code",
      "source": [
        "# What is the distribution of the length of the tweets?\n",
        "# Calculate the length of each string in the 'text' column\n",
        "no_dupes_df['text_length'] = no_dupes_df['text'].str.len()\n",
        "\n",
        "# Plot the distribution of string lengths\n",
        "plt.hist(no_dupes_df['text_length'], bins=20, color='skyblue', edgecolor='black')\n",
        "plt.title('Distribution of String Lengths')\n",
        "plt.xlabel('Length of Strings')\n",
        "plt.ylabel('Frequency')\n",
        "plt.grid(True)\n",
        "plt.show()"
      ],
      "metadata": {
        "colab": {
          "base_uri": "https://localhost:8080/",
          "height": 576
        },
        "id": "t-qj5vU-UW4h",
        "outputId": "01738f3a-ec91-45a2-994d-14e5cc4c3383"
      },
      "execution_count": 16,
      "outputs": [
        {
          "output_type": "stream",
          "name": "stderr",
          "text": [
            "<ipython-input-16-777e7e0b9bc8>:3: SettingWithCopyWarning: \n",
            "A value is trying to be set on a copy of a slice from a DataFrame.\n",
            "Try using .loc[row_indexer,col_indexer] = value instead\n",
            "\n",
            "See the caveats in the documentation: https://pandas.pydata.org/pandas-docs/stable/user_guide/indexing.html#returning-a-view-versus-a-copy\n",
            "  no_dupes_df['text_length'] = no_dupes_df['text'].str.len()\n"
          ]
        },
        {
          "output_type": "display_data",
          "data": {
            "text/plain": [
              "<Figure size 640x480 with 1 Axes>"
            ],
            "image/png": "[encoded data removed]"
          },
          "metadata": {}
        }
      ]
    },
    {
      "cell_type": "markdown",
      "source": [
        "This distribution makes sense since the original length of tweets was 140chars and then got increased to 280chars. So we see a big spike at 140 and then a tail up to 280."
      ],
      "metadata": {
        "id": "OYodB7J3V1B6"
      }
    },
    {
      "cell_type": "code",
      "source": [
        "# Merge in Timestamp Data\n",
        "timestamps_df.set_index('id', inplace=True)"
      ],
      "metadata": {
        "id": "GYTQOeQaVzoI"
      },
      "execution_count": 17,
      "outputs": []
    },
    {
      "cell_type": "code",
      "source": [
        "merged_df = no_dupes_df.merge(timestamps_df, left_index=True, right_index=True)"
      ],
      "metadata": {
        "id": "_u7vkDu3n2bf"
      },
      "execution_count": 18,
      "outputs": []
    },
    {
      "cell_type": "code",
      "source": [
        "# What do the timestamps look like?\n",
        "n_null_timestamps = merged_df['created_at'].isnull().sum()\n",
        "print(f'N Null timestamps: {n_null_timestamps}')\n",
        "print('Example Timestamp: ',merged_df.iloc[0]['created_at'])\n",
        "print(merged_df['created_at'])"
      ],
      "metadata": {
        "colab": {
          "base_uri": "https://localhost:8080/"
        },
        "id": "Ibd7opGedTEk",
        "outputId": "c2f29f98-82ef-4fab-93a1-4a3c226336b7"
      },
      "execution_count": 19,
      "outputs": [
        {
          "output_type": "stream",
          "name": "stdout",
          "text": [
            "N Null timestamps: 0\n",
            "Example Timestamp:  2006-06-06 16:06:42+00:00\n",
            "id\n",
            "6132                   2006-06-06 16:06:42+00:00\n",
            "13275                  2006-07-23 21:52:30+00:00\n",
            "23160                  2006-08-29 01:52:30+00:00\n",
            "57868                  2006-11-07 02:46:52+00:00\n",
            "304553                 2006-11-27 14:27:43+00:00\n",
            "                                 ...            \n",
            "1178906786792972288    2019-10-01 05:37:35+00:00\n",
            "1178908472919769088    2019-10-01 05:44:17+00:00\n",
            "1178908993022042112    2019-10-01 05:46:21+00:00\n",
            "1178909001414610944    2019-10-01 05:46:23+00:00\n",
            "1178910020626464768    2019-10-01 05:50:26+00:00\n",
            "Name: created_at, Length: 9403460, dtype: object\n"
          ]
        }
      ]
    },
    {
      "cell_type": "code",
      "source": [
        "# Convert 'created_at' into timestamp\n",
        "merged_df['timestamp'] = pd.to_datetime(merged_df['created_at'])"
      ],
      "metadata": {
        "id": "b8kzSlgWey_s"
      },
      "execution_count": 20,
      "outputs": []
    },
    {
      "cell_type": "code",
      "source": [
        "# Group by year and count the number of rows per year\n",
        "rows_per_year = merged_df.groupby(merged_df['timestamp'].dt.year).size()\n",
        "print(rows_per_year)"
      ],
      "metadata": {
        "colab": {
          "base_uri": "https://localhost:8080/"
        },
        "id": "aTYIXJ1mfXGL",
        "outputId": "ee3d42e9-7bd0-451c-92b5-0cc3150be86b"
      },
      "execution_count": 21,
      "outputs": [
        {
          "output_type": "stream",
          "name": "stdout",
          "text": [
            "timestamp\n",
            "2006         12\n",
            "2007       3597\n",
            "2008      28946\n",
            "2009     448153\n",
            "2010     409508\n",
            "2011     294049\n",
            "2012     186319\n",
            "2013     268237\n",
            "2014     371940\n",
            "2015    1206970\n",
            "2016    1142734\n",
            "2017    1488244\n",
            "2018    2717974\n",
            "2019     836777\n",
            "dtype: int64\n"
          ]
        }
      ]
    },
    {
      "cell_type": "code",
      "source": [
        "# Looks like the timestamps are working, so let's drop the 'created_at' str\n",
        "merged_df.drop('created_at', axis=1, inplace=True)"
      ],
      "metadata": {
        "id": "uvKV2hNHft7N"
      },
      "execution_count": 22,
      "outputs": []
    },
    {
      "cell_type": "markdown",
      "source": [
        "## NLP Cleaning\n",
        "\n",
        "At this point, having done the basic data cleanup, there is a lot of more nuanced language processing that can be done. Since we're going to be doing Topic analysis and Emotion Labelling, we can assume we're going to want to clean up the text and possibly already tokenize our strings.\n",
        "\n",
        "### 1. Text Preprocessing\n",
        "\n",
        "Our goal is to make the text as regular as possible and the token count (dictionary) should be as small as possible.\n",
        "Some [basic text preprocessing](https://medium.com/@farhahahahahan/03-basic-text-preprocessing-nlp-90ea4469fb87) steps are:\n",
        "- lowercasing\n",
        "- remove html\n",
        "- remove urls\n",
        "- remove punctuation\n",
        "- remove users\n",
        "- remove hashtags (but we want to retain the actual hashtag text)\n",
        "- remove emails\n",
        "- remove low info chars\n",
        "\n",
        "Some further token-based treatment that might be better done in EDA are:\n",
        "- tokenization\n",
        "- stopword removal\n",
        "- spelling correction\n",
        "- chatword translation\n",
        "- handling emoji\n",
        "- filtering for language (english)\n",
        "- lemmatization / stemming\n"
      ],
      "metadata": {
        "id": "mwCM-v01h9Ft"
      }
    },
    {
      "cell_type": "code",
      "source": [
        "# Preprocess tweet text\n",
        "\n",
        "def lower(text):\n",
        "  return text.lower()\n",
        "\n",
        "def remove_urls(text):\n",
        "  # remove anything with a domain extension like ending\n",
        "  text = re.sub(r'https?://\\S+|http?://\\S+', ' ', text)\n",
        "  text = re.sub(r'\\b\\w+\\.\\w+\\b',' ',text)\n",
        "  text = re.sub(r'www\\.[^\\s]+', ' ', text)\n",
        "  # remove words containing '://'\n",
        "  text = re.sub(r'\\b\\S*:\\/\\/\\S*\\b', ' ', text)\n",
        "  return text\n",
        "\n",
        "def remove_html_tags(text):\n",
        "  return re.sub('<.*?>', ' ', text)\n",
        "\n",
        "def remove_user_mentions(text):\n",
        "  return re.sub(r'@\\w+', ' ', text)\n",
        "\n",
        "def remove_email_addresses(text):\n",
        "  return re.sub(r'\\S+@\\S+', ' ', text)\n",
        "\n",
        "def remove_escape_sequences(text):\n",
        "  return re.sub(r'[\\r\\n]+', ' ', text)\n",
        "\n",
        "def translate_emoji(text):\n",
        "  # translate emoji to text\n",
        "  return emoji.demojize(text)\n",
        "\n",
        "def remove_contraction(text):\n",
        "  return re.sub(r'(?<=[a-zA-Z])\\'(?=[a-zA-Z])', '', text)\n",
        "\n",
        "def remove_low_info_chars(text):\n",
        "  # remove chars that do not retain much 'meaning'\n",
        "  # in this case we retain only a-z, 0-9, '!', and '?'\n",
        "  return re.sub(r'[^0-9a-z\\s!?]', ' ', text)\n",
        "\n",
        "def preprocess(text):\n",
        "  text = lower(text)\n",
        "  text = remove_urls(text)\n",
        "  text = remove_html_tags(text)\n",
        "  text = remove_user_mentions(text)\n",
        "  text = translate_emoji(text)\n",
        "  text = remove_contraction(text)\n",
        "  text = remove_escape_sequences(text)\n",
        "  text = remove_low_info_chars(text)\n",
        "  return text\n",
        "\n",
        "def applyPreprocessing(sr):\n",
        "  return sr.apply(preprocess)"
      ],
      "metadata": {
        "id": "w9dr6vy0gB2-"
      },
      "execution_count": 23,
      "outputs": []
    },
    {
      "cell_type": "code",
      "source": [
        "# Let's test the preprocessing on a small sample\n",
        "test = applyPreprocessing(merged_df['text'].sample(10000))"
      ],
      "metadata": {
        "id": "rSr4xhieykyD"
      },
      "execution_count": 24,
      "outputs": []
    },
    {
      "cell_type": "code",
      "source": [
        "# Let's test to see if the output looks nice\n",
        "# There are a lot of spaces and some of the tokens are a bit strange ie 80sf, but these are cases that can be handled on a token basis\n",
        "for i, doc in enumerate(test.values[120:130]):\n",
        "  print(i,doc)"
      ],
      "metadata": {
        "colab": {
          "base_uri": "https://localhost:8080/"
        },
        "id": "zO6OMSTUvGSJ",
        "outputId": "6d7196b0-650b-4306-c2a6-d3e97f9424f0"
      },
      "execution_count": 25,
      "outputs": [
        {
          "output_type": "stream",
          "name": "stdout",
          "text": [
            "0         does this have something to do with trump and his climate change post?\n",
            "1    this sounds like it may have been funded by al gore  turfgrass global warming\n",
            "2   ur smile   saving the global warming and the planet  globe showing  mericas \n",
            "3 the eu aims to decarbonise the power sector by 2050     climatechange  climateaction  \n",
            "4  brownslastchance im all for standing up for climate change  i have one question  how took a car at some point to march today?\n",
            "5 cows share the blame for global warming   ct post  \n",
            "6 take action rather than tweeting about climate change      \n",
            "7   so basically  dont celebrate climate change   but you may as well stop to enjoy the difference       \n",
            "8 foresight isnt a human strength  global warming requires long term outlook  causes people to either not care or not act   globalwarming\n",
            "9 why is the arctic experiencing social  amp  environmental changes? find out here     climatechange  climateaction  \n"
          ]
        }
      ]
    },
    {
      "cell_type": "code",
      "source": [
        "# There's a strange string 'lqiq3jwcut' that might be a part of a url or something, let's investigate\n",
        "# It looks like strings starting with \"://\" should be treated as urls also\n",
        "merged_df.loc[770113887576395776]"
      ],
      "metadata": {
        "colab": {
          "base_uri": "https://localhost:8080/"
        },
        "id": "0FpZTziGv_lm",
        "outputId": "bc977f5d-ea46-468b-9892-4257b1157b66"
      },
      "execution_count": 26,
      "outputs": [
        {
          "output_type": "execute_result",
          "data": {
            "text/plain": [
              "text           American pika vanishing from western US as 'habitat lost to climate change' https://t.co/CxUZFWhQhb ://t.co/LQIq3jwcUt RT @ClimateNexus\n",
              "text_length                                                                                                                                        135\n",
              "timestamp                                                                                                                    2016-08-29 04:20:33+00:00\n",
              "Name: 770113887576395776, dtype: object"
            ]
          },
          "metadata": {},
          "execution_count": 26
        }
      ]
    },
    {
      "cell_type": "code",
      "source": [
        "# How long would it take to run the preprocessing on all ~10m tweets?\n",
        "# A: Running on 100k tweets is 19s, so 10m would be 100x that... a bit long\n",
        "test = applyPreprocessing(merged_df['text'].sample(100000))"
      ],
      "metadata": {
        "id": "xPlrT_-ZwXCD"
      },
      "execution_count": 27,
      "outputs": []
    },
    {
      "cell_type": "code",
      "source": [
        "# We only have 2 cores, we're going to need a better runtime\n",
        "# Ah, the GPU100 env has 8-12 cores, much better!"
      ],
      "metadata": {
        "id": "u83kFuiv3l2O"
      },
      "execution_count": 28,
      "outputs": []
    },
    {
      "cell_type": "code",
      "source": [
        "# Both of these took around 20s to run, something is not right with the parallelization\n",
        "# How many cores do we have?\n",
        "import multiprocessing\n",
        "\n",
        "num_cores = multiprocessing.cpu_count()\n",
        "print(\"Number of CPU cores available:\", num_cores)"
      ],
      "metadata": {
        "id": "tz6ZfiF73FB3"
      },
      "execution_count": null,
      "outputs": []
    },
    {
      "cell_type": "code",
      "source": [
        "# Apply the function to each row of the DataFrame in parallel\n",
        "# Runtime here is 4mins for the ~10m rows\n",
        "\n",
        "# Define a function to apply preprocessing to each element of the Series in parallel\n",
        "def apply_preprocessing_parallel(sr):\n",
        "    n_jobs = -1 # use all cores\n",
        "    return Parallel(n_jobs=n_jobs)(delayed(preprocess)(text) for text in sr)\n",
        "\n",
        "preprocessed_texts = apply_preprocessing_parallel(merged_df['text'])"
      ],
      "metadata": {
        "id": "uZ-J43XztbDo"
      },
      "execution_count": null,
      "outputs": []
    },
    {
      "cell_type": "code",
      "source": [
        "# Tokenization\n",
        "\n",
        "def handle_punctuation(text):\n",
        "  # We want to buffer '!' and '?' with whitespace to treat them as tokens\n",
        "  return text.replace('!', ' ! ').replace('?', ' ? ')\n",
        "\n",
        "def tokenize(text):\n",
        "  # We use the most basic tokenization approach, splitting by whitespace\n",
        "  # this is reasonable since we've preprocessed all the punctuation and formatting\n",
        "  return [token.strip() for token in text.split()]\n",
        "\n",
        "def applyTokenization(sr):\n",
        "  return sr.apply(handle_punctuation).apply(tokenize)"
      ],
      "metadata": {
        "id": "jVIOw0zFMpSJ"
      },
      "execution_count": null,
      "outputs": []
    },
    {
      "cell_type": "code",
      "source": [
        "# Apply Tokenization\n",
        "# runtime(100k)=1.23s so we would expect runtime(10m)=123s\n",
        "%%time\n",
        "tokens_sr = applyTokenization(merged_df['preprocessed'])\n",
        "print(f'Tokenized {len(tokens_sr)} rows')"
      ],
      "metadata": {
        "id": "AB6N7HeCMu5n"
      },
      "execution_count": null,
      "outputs": []
    },
    {
      "cell_type": "code",
      "source": [
        "# Check to make sure Tokenization went as expected\n",
        "# The tokens look well formed, but there are definitely tokens that we want to clean\n",
        "pd.set_option('display.max_colwidth', None)\n",
        "tokens_sr.sample(10)"
      ],
      "metadata": {
        "id": "e-up99UlM0C5"
      },
      "execution_count": null,
      "outputs": []
    },
    {
      "cell_type": "code",
      "source": [
        "# Process Tokens\n",
        "\n",
        "\n"
      ],
      "metadata": {
        "id": "GBNPDz_4M481"
      },
      "execution_count": null,
      "outputs": []
    },
    {
      "cell_type": "code",
      "source": [
        "merged_df['preprocessed'] = preprocessed_texts"
      ],
      "metadata": {
        "id": "d_-fLqRt4JsG"
      },
      "execution_count": null,
      "outputs": []
    },
    {
      "cell_type": "code",
      "source": [
        "merged_df.info()"
      ],
      "metadata": {
        "id": "D9MkKrxO6jms"
      },
      "execution_count": null,
      "outputs": []
    },
    {
      "cell_type": "code",
      "source": [
        "merged_df.drop(columns=['text_length'], inplace=True)"
      ],
      "metadata": {
        "id": "sobOEPqS6o0B"
      },
      "execution_count": null,
      "outputs": []
    },
    {
      "cell_type": "code",
      "source": [
        "# Tokenization\n",
        "# Now that we've preprocessed out text, we want to tokenize it and explore what our token-space looks like\n",
        "\n",
        "def handle_punctuation(text):\n",
        "  # We want to buffer '!' and '?' with whitespace to treat them as tokens\n",
        "  return text.replace('!', ' ! ').replace('?', ' ? ')\n",
        "\n",
        "def tokenize(text):\n",
        "  # We use the most basic tokenization approach, splitting by whitespace\n",
        "  # this is reasonable since we've preprocessed all the punctuation and formatting\n",
        "  return [token.strip() for token in text.split()]\n",
        "\n",
        "def applyTokenization(sr):\n",
        "  return sr.apply(handle_punctuation).apply(tokenize)"
      ],
      "metadata": {
        "id": "VNDoAP6RBbhb"
      },
      "execution_count": null,
      "outputs": []
    },
    {
      "cell_type": "code",
      "source": [
        "# Apply Tokenization\n",
        "# runtime(100k)=1.23s so we would expect runtime(10m)=123s\n",
        "%%time\n",
        "sample_size=100000\n",
        "tokens_sr = applyTokenization(merged_df['preprocessed'])\n",
        "print(f'Tokenized {len(tokens)} rows')"
      ],
      "metadata": {
        "id": "yFyPuvOuEecr"
      },
      "execution_count": null,
      "outputs": []
    },
    {
      "cell_type": "code",
      "source": [
        "# Check to make sure Tokenization went as expected\n",
        "# The tokens look well formed, but there are definitely tokens that we want to clean\n",
        "pd.set_option('display.max_colwidth', None)\n",
        "tokens_sr.sample(10)"
      ],
      "metadata": {
        "id": "7awo4cVsFbXx"
      },
      "execution_count": null,
      "outputs": []
    },
    {
      "cell_type": "code",
      "source": [
        "# What is the distribution of our tokens?\n",
        "n_rows = 100000\n",
        "all_tokens_list = sum(tokens_sr.tolist()[:n_rows], [])\n",
        "freq_dist = FreqDist(all_tokens_list)\n",
        "print(freq_dist)"
      ],
      "metadata": {
        "id": "H3OFlRvLIRXX"
      },
      "execution_count": null,
      "outputs": []
    },
    {
      "cell_type": "code",
      "source": [
        "# Process Tokens\n",
        "# Here we want to"
      ],
      "metadata": {
        "id": "TUXSwKKnHsGq"
      },
      "execution_count": null,
      "outputs": []
    },
    {
      "cell_type": "code",
      "source": [
        "# Save preprocessed DF\n",
        "merged_df.to_csv(PREPROCESSED_TEXT_PATH, index=True)"
      ],
      "metadata": {
        "id": "9bpTYL0f6uPi"
      },
      "execution_count": null,
      "outputs": []
    }
  ]
}