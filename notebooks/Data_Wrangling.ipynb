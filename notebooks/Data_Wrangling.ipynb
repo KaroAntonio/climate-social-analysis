{
  "nbformat": 4,
  "nbformat_minor": 0,
  "metadata": {
    "colab": {
      "provenance": [],
      "machine_shape": "hm",
      "gpuType": "V100",
      "authorship_tag": "ABX9TyOCtB0AarMeo3oftJmbMlXQ",
      "include_colab_link": true
    },
    "kernelspec": {
      "name": "python3",
      "display_name": "Python 3"
    },
    "language_info": {
      "name": "python"
    },
    "accelerator": "GPU"
  },
  "cells": [
    {
      "cell_type": "markdown",
      "metadata": {
        "id": "view-in-github",
        "colab_type": "text"
      },
      "source": [
        "<a href=\"https://colab.research.google.com/github/KaroAntonio/climate-social-analysis/blob/main/notebooks/Data_Wrangling.ipynb\" target=\"_parent\"><img src=\"https://colab.research.google.com/assets/colab-badge.svg\" alt=\"Open In Colab\"/></a>"
      ]
    },
    {
      "cell_type": "markdown",
      "source": [
        "# Tweet Data Wrangling\n",
        "\n",
        "Here we import our datasets, explore the features we have to work with, get a feel for the distributions, and do some initial cleaning.\n",
        "\n",
        "We want to keep in mind that we have the following goals for this analysis:\n",
        "- Extract Topics from the Tweet Data (Unsupervised)\n",
        "- Label Emotions for each tweet (Possibly supervised)\n",
        "- Establish Association between Topics and Emotions\n",
        "\n",
        "Our Datasets:\n",
        "- Climate Tweets (15m)\n",
        "\n",
        "These tweets have already been filtered from the broader twitter stream, so this dataset includes only tweets which include either 'climate change' or 'global warming'\n",
        "\n",
        "Data Wrangling Steps Taken:\n",
        "\n",
        "1. Load Dataset\n",
        "2. Explore raw Dataset characteristics\n",
        "3. Text Preprocessing\n",
        "4. Tokenization\n",
        "5. Token Preprocessing\n",
        "\n",
        "\n"
      ],
      "metadata": {
        "id": "plt_LbWe4sF1"
      }
    },
    {
      "cell_type": "code",
      "source": [
        "!pip install emoji"
      ],
      "metadata": {
        "colab": {
          "base_uri": "https://localhost:8080/"
        },
        "id": "YzRWgRt_tLwj",
        "outputId": "3eef555e-c254-4df5-f447-c99dd6d63c6b"
      },
      "execution_count": 4,
      "outputs": [
        {
          "output_type": "stream",
          "name": "stdout",
          "text": [
            "Requirement already satisfied: emoji in /usr/local/lib/python3.10/dist-packages (2.10.1)\n"
          ]
        }
      ]
    },
    {
      "cell_type": "code",
      "source": [
        "!pip install joblib"
      ],
      "metadata": {
        "colab": {
          "base_uri": "https://localhost:8080/"
        },
        "id": "n1XgmnS6tvo0",
        "outputId": "592b4b4d-868e-417e-c10e-8fd03aeb7134"
      },
      "execution_count": 125,
      "outputs": [
        {
          "output_type": "stream",
          "name": "stdout",
          "text": [
            "Requirement already satisfied: joblib in /usr/local/lib/python3.10/dist-packages (1.3.2)\n"
          ]
        }
      ]
    },
    {
      "cell_type": "code",
      "source": [
        "from google.colab import drive\n",
        "from joblib import Parallel, delayed\n",
        "import matplotlib.pyplot as plt\n",
        "import nltk\n",
        "from nltk import FreqDist\n",
        "from nltk.corpus import stopwords\n",
        "from nltk.corpus import wordnet\n",
        "from nltk.corpus import words\n",
        "from itertools import chain\n",
        "import pandas as pd\n",
        "import numpy as np\n",
        "import re\n",
        "import emoji"
      ],
      "metadata": {
        "id": "OocLZs2Q5U2-"
      },
      "execution_count": 137,
      "outputs": []
    },
    {
      "cell_type": "code",
      "source": [
        "nltk.download('wordnet')\n",
        "nltk.download('words')"
      ],
      "metadata": {
        "id": "Ek6CRnbgIbnv",
        "outputId": "1539b92d-f31d-4a73-e4f7-c78355a7ee33",
        "colab": {
          "base_uri": "https://localhost:8080/"
        }
      },
      "execution_count": 135,
      "outputs": [
        {
          "output_type": "stream",
          "name": "stderr",
          "text": [
            "[nltk_data] Downloading package wordnet to /root/nltk_data...\n",
            "[nltk_data]   Package wordnet is already up-to-date!\n",
            "[nltk_data] Downloading package words to /root/nltk_data...\n",
            "[nltk_data]   Package words is already up-to-date!\n"
          ]
        },
        {
          "output_type": "execute_result",
          "data": {
            "text/plain": [
              "True"
            ]
          },
          "metadata": {},
          "execution_count": 135
        }
      ]
    },
    {
      "cell_type": "code",
      "source": [
        "drive.mount('/content/drive')"
      ],
      "metadata": {
        "colab": {
          "base_uri": "https://localhost:8080/"
        },
        "id": "SiIjOHEw67OC",
        "outputId": "278bcf81-c14e-49b4-f373-f805cc373aa8"
      },
      "execution_count": 7,
      "outputs": [
        {
          "output_type": "stream",
          "name": "stdout",
          "text": [
            "Drive already mounted at /content/drive; to attempt to forcibly remount, call drive.mount(\"/content/drive\", force_remount=True).\n"
          ]
        }
      ]
    },
    {
      "cell_type": "code",
      "source": [
        "DRIVE_DIR = \"/content/drive/MyDrive/Climate Social Analysis/data/\"\n",
        "TWEET_TEXT_DATA_PATH = f\"{DRIVE_DIR}climate-change-twitter-dataset-tweet-data.csv\"\n",
        "TWEET_TIMESTAMPS_DATA_PATH = f\"{DRIVE_DIR}climate-change-twitter-dataset-timestamps.csv\"\n",
        "PREPROCESSED_TEXT_PATH = f\"{DRIVE_DIR}preprocessed_text.csv\""
      ],
      "metadata": {
        "id": "W3-urIee67qG"
      },
      "execution_count": 8,
      "outputs": []
    },
    {
      "cell_type": "code",
      "source": [
        "# Load tweets\n",
        "text_df = pd.read_csv(TWEET_TEXT_DATA_PATH)"
      ],
      "metadata": {
        "id": "nRFcpK8o71YO"
      },
      "execution_count": 9,
      "outputs": []
    },
    {
      "cell_type": "code",
      "source": [
        "# Load Timestamp Metadata\n",
        "timestamps_df = pd.read_csv(TWEET_TIMESTAMPS_DATA_PATH)"
      ],
      "metadata": {
        "id": "rHsBLXfIb8GR"
      },
      "execution_count": 10,
      "outputs": []
    },
    {
      "cell_type": "code",
      "source": [
        "# What is the shape of our data?\n",
        "text_df.shape"
      ],
      "metadata": {
        "colab": {
          "base_uri": "https://localhost:8080/"
        },
        "id": "9mDQWlmHRnW8",
        "outputId": "c17af475-4231-4a27-98bc-bee93d80f8ff"
      },
      "execution_count": 11,
      "outputs": [
        {
          "output_type": "execute_result",
          "data": {
            "text/plain": [
              "(15789411, 2)"
            ]
          },
          "metadata": {},
          "execution_count": 11
        }
      ]
    },
    {
      "cell_type": "code",
      "source": [
        "# What are our cols?\n",
        "text_df.columns"
      ],
      "metadata": {
        "colab": {
          "base_uri": "https://localhost:8080/"
        },
        "id": "hGU1P5ZrR76M",
        "outputId": "ac2cc06a-0e99-454a-977c-0a0bc95849f8"
      },
      "execution_count": 12,
      "outputs": [
        {
          "output_type": "execute_result",
          "data": {
            "text/plain": [
              "Index(['id', 'text'], dtype='object')"
            ]
          },
          "metadata": {},
          "execution_count": 12
        }
      ]
    },
    {
      "cell_type": "code",
      "source": [
        "# Is there an 'id' for each row?\n",
        "text_df['id'].nunique() == text_df.shape[0]"
      ],
      "metadata": {
        "colab": {
          "base_uri": "https://localhost:8080/"
        },
        "id": "lmc6Y7HqR_Qe",
        "outputId": "e98e674b-f571-4c52-ad28-d5d1c5574609"
      },
      "execution_count": 13,
      "outputs": [
        {
          "output_type": "execute_result",
          "data": {
            "text/plain": [
              "True"
            ]
          },
          "metadata": {},
          "execution_count": 13
        }
      ]
    },
    {
      "cell_type": "code",
      "source": [
        "# Ok let's use 'id' for the index\n",
        "text_df.set_index('id', inplace=True)"
      ],
      "metadata": {
        "id": "FXM6FSWiSPD4"
      },
      "execution_count": 14,
      "outputs": []
    },
    {
      "cell_type": "code",
      "source": [
        "# What do our tweets look like?\n",
        "pd.set_option('display.max_colwidth', 300)\n",
        "text_df.sample(10)"
      ],
      "metadata": {
        "colab": {
          "base_uri": "https://localhost:8080/",
          "height": 446
        },
        "id": "vdQY8LIvSY8j",
        "outputId": "5e11f562-fd45-4afa-c606-9a7bc88cc598"
      },
      "execution_count": 15,
      "outputs": [
        {
          "output_type": "execute_result",
          "data": {
            "text/plain": [
              "                                                                                                                                                                                                                                                                                                                            text\n",
              "id                                                                                                                                                                                                                                                                                                                              \n",
              "1047676175055638528                                 How do we convince the United States as a major contributor to climate change and as a land that absorbs impacts concentrated on its coasts that an investment in our climate future will save us resources in dealing with the affects of the cycle we are contributing to?\n",
              "874004596330348544                                                                                                                                                                                                          .@nplhpodcast I think we just found our new favorite podcast! #climatechange https://t.co/62hPTzAgPb\n",
              "737657666500218880                                                                                                                                                                        Diving sites in Thailand closed due to coral bleaching https://t.co/NB67fu1Woi via @TravelPulse #climatechange https://t.co/EZRnoHWn3G\n",
              "987320963271397377                                                                                                                                                                  RT @SkypeClassroom: #EarthDay is right around the corner! Inspire your students by inviting an expert in conservation, climate change and e…\n",
              "1119314615744253953  @EEmechete @UNMGCY @UNDPNigeria @FMEclimate @SustyVibes @fmeclimateng @UNDPClimate @ClimateWed @FMEnvng @ClimateReality @UNFCCC Electric Cars are designed to eradicate global warming.The emission of carbon monoxide from cars will gradually be eliminated and thereby creating a healthy environment...\n",
              "1040558685024669697                                                                                                                                                                 RT @MisterRudeman: Show more videos of the weather disrespecting the flag so the conservatives will want to fight climate change too https:…\n",
              "932620567550857216                                                                                                                                                                                                                                 Short answers to hard questions about climate change: https://t.co/fDp8vtCBwy\n",
              "1067585835900551169  @4YrsToday @MasonPampinella 34% said yes it’s a hoax. I’d bet most of them are trump supporters. The only hoax concerning climate change is trump’s denial of it. Oh, &amp; his regime as a whole. This is not just dangerous for the present, but for the future of our families on earth. Really SMH h...\n",
              "612189596680634368                                                                                                                                                             And see his views http://t.co/yFe2N9ucmA - anti abortion rights &amp; equal marriage, dabbles in climate change denial.\\n https://t.co/Xy6txJ8oCm\n",
              "923672999730987008                                                                                                                                                                            @betterinrealife Yes, though they were also saying last year was abnormally grey and cold? But yeah, climate change all around. :("
            ],
            "text/html": [
              "\n",
              "  <div id=\"df-d4eef79f-3da4-49fe-9b78-9c7ae565544d\" class=\"colab-df-container\">\n",
              "    <div>\n",
              "<style scoped>\n",
              "    .dataframe tbody tr th:only-of-type {\n",
              "        vertical-align: middle;\n",
              "    }\n",
              "\n",
              "    .dataframe tbody tr th {\n",
              "        vertical-align: top;\n",
              "    }\n",
              "\n",
              "    .dataframe thead th {\n",
              "        text-align: right;\n",
              "    }\n",
              "</style>\n",
              "<table border=\"1\" class=\"dataframe\">\n",
              "  <thead>\n",
              "    <tr style=\"text-align: right;\">\n",
              "      <th></th>\n",
              "      <th>text</th>\n",
              "    </tr>\n",
              "    <tr>\n",
              "      <th>id</th>\n",
              "      <th></th>\n",
              "    </tr>\n",
              "  </thead>\n",
              "  <tbody>\n",
              "    <tr>\n",
              "      <th>1047676175055638528</th>\n",
              "      <td>How do we convince the United States as a major contributor to climate change and as a land that absorbs impacts concentrated on its coasts that an investment in our climate future will save us resources in dealing with the affects of the cycle we are contributing to?</td>\n",
              "    </tr>\n",
              "    <tr>\n",
              "      <th>874004596330348544</th>\n",
              "      <td>.@nplhpodcast I think we just found our new favorite podcast! #climatechange https://t.co/62hPTzAgPb</td>\n",
              "    </tr>\n",
              "    <tr>\n",
              "      <th>737657666500218880</th>\n",
              "      <td>Diving sites in Thailand closed due to coral bleaching https://t.co/NB67fu1Woi via @TravelPulse #climatechange https://t.co/EZRnoHWn3G</td>\n",
              "    </tr>\n",
              "    <tr>\n",
              "      <th>987320963271397377</th>\n",
              "      <td>RT @SkypeClassroom: #EarthDay is right around the corner! Inspire your students by inviting an expert in conservation, climate change and e…</td>\n",
              "    </tr>\n",
              "    <tr>\n",
              "      <th>1119314615744253953</th>\n",
              "      <td>@EEmechete @UNMGCY @UNDPNigeria @FMEclimate @SustyVibes @fmeclimateng @UNDPClimate @ClimateWed @FMEnvng @ClimateReality @UNFCCC Electric Cars are designed to eradicate global warming.The emission of carbon monoxide from cars will gradually be eliminated and thereby creating a healthy environment...</td>\n",
              "    </tr>\n",
              "    <tr>\n",
              "      <th>1040558685024669697</th>\n",
              "      <td>RT @MisterRudeman: Show more videos of the weather disrespecting the flag so the conservatives will want to fight climate change too https:…</td>\n",
              "    </tr>\n",
              "    <tr>\n",
              "      <th>932620567550857216</th>\n",
              "      <td>Short answers to hard questions about climate change: https://t.co/fDp8vtCBwy</td>\n",
              "    </tr>\n",
              "    <tr>\n",
              "      <th>1067585835900551169</th>\n",
              "      <td>@4YrsToday @MasonPampinella 34% said yes it’s a hoax. I’d bet most of them are trump supporters. The only hoax concerning climate change is trump’s denial of it. Oh, &amp;amp; his regime as a whole. This is not just dangerous for the present, but for the future of our families on earth. Really SMH h...</td>\n",
              "    </tr>\n",
              "    <tr>\n",
              "      <th>612189596680634368</th>\n",
              "      <td>And see his views http://t.co/yFe2N9ucmA - anti abortion rights &amp;amp; equal marriage, dabbles in climate change denial.\\n https://t.co/Xy6txJ8oCm</td>\n",
              "    </tr>\n",
              "    <tr>\n",
              "      <th>923672999730987008</th>\n",
              "      <td>@betterinrealife Yes, though they were also saying last year was abnormally grey and cold? But yeah, climate change all around. :(</td>\n",
              "    </tr>\n",
              "  </tbody>\n",
              "</table>\n",
              "</div>\n",
              "    <div class=\"colab-df-buttons\">\n",
              "\n",
              "  <div class=\"colab-df-container\">\n",
              "    <button class=\"colab-df-convert\" onclick=\"convertToInteractive('df-d4eef79f-3da4-49fe-9b78-9c7ae565544d')\"\n",
              "            title=\"Convert this dataframe to an interactive table.\"\n",
              "            style=\"display:none;\">\n",
              "\n",
              "  <svg xmlns=\"http://www.w3.org/2000/svg\" height=\"24px\" viewBox=\"0 -960 960 960\">\n",
              "    <path d=\"M120-120v-720h720v720H120Zm60-500h600v-160H180v160Zm220 220h160v-160H400v160Zm0 220h160v-160H400v160ZM180-400h160v-160H180v160Zm440 0h160v-160H620v160ZM180-180h160v-160H180v160Zm440 0h160v-160H620v160Z\"/>\n",
              "  </svg>\n",
              "    </button>\n",
              "\n",
              "  <style>\n",
              "    .colab-df-container {\n",
              "      display:flex;\n",
              "      gap: 12px;\n",
              "    }\n",
              "\n",
              "    .colab-df-convert {\n",
              "      background-color: #E8F0FE;\n",
              "      border: none;\n",
              "      border-radius: 50%;\n",
              "      cursor: pointer;\n",
              "      display: none;\n",
              "      fill: #1967D2;\n",
              "      height: 32px;\n",
              "      padding: 0 0 0 0;\n",
              "      width: 32px;\n",
              "    }\n",
              "\n",
              "    .colab-df-convert:hover {\n",
              "      background-color: #E2EBFA;\n",
              "      box-shadow: 0px 1px 2px rgba(60, 64, 67, 0.3), 0px 1px 3px 1px rgba(60, 64, 67, 0.15);\n",
              "      fill: #174EA6;\n",
              "    }\n",
              "\n",
              "    .colab-df-buttons div {\n",
              "      margin-bottom: 4px;\n",
              "    }\n",
              "\n",
              "    [theme=dark] .colab-df-convert {\n",
              "      background-color: #3B4455;\n",
              "      fill: #D2E3FC;\n",
              "    }\n",
              "\n",
              "    [theme=dark] .colab-df-convert:hover {\n",
              "      background-color: #434B5C;\n",
              "      box-shadow: 0px 1px 3px 1px rgba(0, 0, 0, 0.15);\n",
              "      filter: drop-shadow(0px 1px 2px rgba(0, 0, 0, 0.3));\n",
              "      fill: #FFFFFF;\n",
              "    }\n",
              "  </style>\n",
              "\n",
              "    <script>\n",
              "      const buttonEl =\n",
              "        document.querySelector('#df-d4eef79f-3da4-49fe-9b78-9c7ae565544d button.colab-df-convert');\n",
              "      buttonEl.style.display =\n",
              "        google.colab.kernel.accessAllowed ? 'block' : 'none';\n",
              "\n",
              "      async function convertToInteractive(key) {\n",
              "        const element = document.querySelector('#df-d4eef79f-3da4-49fe-9b78-9c7ae565544d');\n",
              "        const dataTable =\n",
              "          await google.colab.kernel.invokeFunction('convertToInteractive',\n",
              "                                                    [key], {});\n",
              "        if (!dataTable) return;\n",
              "\n",
              "        const docLinkHtml = 'Like what you see? Visit the ' +\n",
              "          '<a target=\"_blank\" href=https://colab.research.google.com/notebooks/data_table.ipynb>data table notebook</a>'\n",
              "          + ' to learn more about interactive tables.';\n",
              "        element.innerHTML = '';\n",
              "        dataTable['output_type'] = 'display_data';\n",
              "        await google.colab.output.renderOutput(dataTable, element);\n",
              "        const docLink = document.createElement('div');\n",
              "        docLink.innerHTML = docLinkHtml;\n",
              "        element.appendChild(docLink);\n",
              "      }\n",
              "    </script>\n",
              "  </div>\n",
              "\n",
              "\n",
              "<div id=\"df-46e427e2-005f-4411-969c-24b70424ab4c\">\n",
              "  <button class=\"colab-df-quickchart\" onclick=\"quickchart('df-46e427e2-005f-4411-969c-24b70424ab4c')\"\n",
              "            title=\"Suggest charts\"\n",
              "            style=\"display:none;\">\n",
              "\n",
              "<svg xmlns=\"http://www.w3.org/2000/svg\" height=\"24px\"viewBox=\"0 0 24 24\"\n",
              "     width=\"24px\">\n",
              "    <g>\n",
              "        <path d=\"M19 3H5c-1.1 0-2 .9-2 2v14c0 1.1.9 2 2 2h14c1.1 0 2-.9 2-2V5c0-1.1-.9-2-2-2zM9 17H7v-7h2v7zm4 0h-2V7h2v10zm4 0h-2v-4h2v4z\"/>\n",
              "    </g>\n",
              "</svg>\n",
              "  </button>\n",
              "\n",
              "<style>\n",
              "  .colab-df-quickchart {\n",
              "      --bg-color: #E8F0FE;\n",
              "      --fill-color: #1967D2;\n",
              "      --hover-bg-color: #E2EBFA;\n",
              "      --hover-fill-color: #174EA6;\n",
              "      --disabled-fill-color: #AAA;\n",
              "      --disabled-bg-color: #DDD;\n",
              "  }\n",
              "\n",
              "  [theme=dark] .colab-df-quickchart {\n",
              "      --bg-color: #3B4455;\n",
              "      --fill-color: #D2E3FC;\n",
              "      --hover-bg-color: #434B5C;\n",
              "      --hover-fill-color: #FFFFFF;\n",
              "      --disabled-bg-color: #3B4455;\n",
              "      --disabled-fill-color: #666;\n",
              "  }\n",
              "\n",
              "  .colab-df-quickchart {\n",
              "    background-color: var(--bg-color);\n",
              "    border: none;\n",
              "    border-radius: 50%;\n",
              "    cursor: pointer;\n",
              "    display: none;\n",
              "    fill: var(--fill-color);\n",
              "    height: 32px;\n",
              "    padding: 0;\n",
              "    width: 32px;\n",
              "  }\n",
              "\n",
              "  .colab-df-quickchart:hover {\n",
              "    background-color: var(--hover-bg-color);\n",
              "    box-shadow: 0 1px 2px rgba(60, 64, 67, 0.3), 0 1px 3px 1px rgba(60, 64, 67, 0.15);\n",
              "    fill: var(--button-hover-fill-color);\n",
              "  }\n",
              "\n",
              "  .colab-df-quickchart-complete:disabled,\n",
              "  .colab-df-quickchart-complete:disabled:hover {\n",
              "    background-color: var(--disabled-bg-color);\n",
              "    fill: var(--disabled-fill-color);\n",
              "    box-shadow: none;\n",
              "  }\n",
              "\n",
              "  .colab-df-spinner {\n",
              "    border: 2px solid var(--fill-color);\n",
              "    border-color: transparent;\n",
              "    border-bottom-color: var(--fill-color);\n",
              "    animation:\n",
              "      spin 1s steps(1) infinite;\n",
              "  }\n",
              "\n",
              "  @keyframes spin {\n",
              "    0% {\n",
              "      border-color: transparent;\n",
              "      border-bottom-color: var(--fill-color);\n",
              "      border-left-color: var(--fill-color);\n",
              "    }\n",
              "    20% {\n",
              "      border-color: transparent;\n",
              "      border-left-color: var(--fill-color);\n",
              "      border-top-color: var(--fill-color);\n",
              "    }\n",
              "    30% {\n",
              "      border-color: transparent;\n",
              "      border-left-color: var(--fill-color);\n",
              "      border-top-color: var(--fill-color);\n",
              "      border-right-color: var(--fill-color);\n",
              "    }\n",
              "    40% {\n",
              "      border-color: transparent;\n",
              "      border-right-color: var(--fill-color);\n",
              "      border-top-color: var(--fill-color);\n",
              "    }\n",
              "    60% {\n",
              "      border-color: transparent;\n",
              "      border-right-color: var(--fill-color);\n",
              "    }\n",
              "    80% {\n",
              "      border-color: transparent;\n",
              "      border-right-color: var(--fill-color);\n",
              "      border-bottom-color: var(--fill-color);\n",
              "    }\n",
              "    90% {\n",
              "      border-color: transparent;\n",
              "      border-bottom-color: var(--fill-color);\n",
              "    }\n",
              "  }\n",
              "</style>\n",
              "\n",
              "  <script>\n",
              "    async function quickchart(key) {\n",
              "      const quickchartButtonEl =\n",
              "        document.querySelector('#' + key + ' button');\n",
              "      quickchartButtonEl.disabled = true;  // To prevent multiple clicks.\n",
              "      quickchartButtonEl.classList.add('colab-df-spinner');\n",
              "      try {\n",
              "        const charts = await google.colab.kernel.invokeFunction(\n",
              "            'suggestCharts', [key], {});\n",
              "      } catch (error) {\n",
              "        console.error('Error during call to suggestCharts:', error);\n",
              "      }\n",
              "      quickchartButtonEl.classList.remove('colab-df-spinner');\n",
              "      quickchartButtonEl.classList.add('colab-df-quickchart-complete');\n",
              "    }\n",
              "    (() => {\n",
              "      let quickchartButtonEl =\n",
              "        document.querySelector('#df-46e427e2-005f-4411-969c-24b70424ab4c button');\n",
              "      quickchartButtonEl.style.display =\n",
              "        google.colab.kernel.accessAllowed ? 'block' : 'none';\n",
              "    })();\n",
              "  </script>\n",
              "</div>\n",
              "\n",
              "    </div>\n",
              "  </div>\n"
            ],
            "application/vnd.google.colaboratory.intrinsic+json": {
              "type": "dataframe",
              "summary": "{\n  \"name\": \"text_df\",\n  \"rows\": 10,\n  \"fields\": [\n    {\n      \"column\": \"text\",\n      \"properties\": {\n        \"dtype\": \"string\",\n        \"num_unique_values\": 10,\n        \"samples\": [\n          \"And see his views http://t.co/yFe2N9ucmA - anti abortion rights &amp; equal marriage, dabbles in climate change denial.\\n https://t.co/Xy6txJ8oCm\",\n          \".@nplhpodcast I think we just found our new favorite podcast! #climatechange https://t.co/62hPTzAgPb\",\n          \"RT @MisterRudeman: Show more videos of the weather disrespecting the flag so the conservatives will want to fight climate change too https:\\u2026\"\n        ],\n        \"semantic_type\": \"\",\n        \"description\": \"\"\n      }\n    }\n  ]\n}"
            }
          },
          "metadata": {},
          "execution_count": 15
        }
      ]
    },
    {
      "cell_type": "code",
      "source": [
        "# Ok how many duplicates do we have?\n",
        "n_duplicates = text_df.duplicated().sum()\n",
        "print(f\"{n_duplicates} total duplicates\")\n",
        "print(f\"{n_duplicates / text_df.shape[0] * 100}% duplicates\")"
      ],
      "metadata": {
        "colab": {
          "base_uri": "https://localhost:8080/"
        },
        "id": "uofXNTcTSmvH",
        "outputId": "bfbf4921-3c18-498b-af73-fc14f6f630b2"
      },
      "execution_count": 16,
      "outputs": [
        {
          "output_type": "stream",
          "name": "stdout",
          "text": [
            "6385951 total duplicates\n",
            "40.444516898065416% duplicates\n"
          ]
        }
      ]
    },
    {
      "cell_type": "code",
      "source": [
        "no_dupes_df = text_df.drop_duplicates()"
      ],
      "metadata": {
        "id": "0_Slxw-OUQCh"
      },
      "execution_count": 17,
      "outputs": []
    },
    {
      "cell_type": "code",
      "source": [
        "# Do we have null values?\n",
        "no_dupes_df.isnull().sum()"
      ],
      "metadata": {
        "colab": {
          "base_uri": "https://localhost:8080/"
        },
        "id": "IWBzfk_zT-0k",
        "outputId": "b7d9a2a7-ff72-4b7b-9b36-cfe4ff4bbcb3"
      },
      "execution_count": 18,
      "outputs": [
        {
          "output_type": "execute_result",
          "data": {
            "text/plain": [
              "text    0\n",
              "dtype: int64"
            ]
          },
          "metadata": {},
          "execution_count": 18
        }
      ]
    },
    {
      "cell_type": "code",
      "source": [
        "# What is the distribution of the length of the tweets?\n",
        "# Calculate the length of each string in the 'text' column\n",
        "no_dupes_df['text_length'] = no_dupes_df['text'].str.len()\n",
        "\n",
        "# Plot the distribution of string lengths\n",
        "plt.hist(no_dupes_df['text_length'], bins=20, color='skyblue', edgecolor='black')\n",
        "plt.title('Distribution of String Lengths')\n",
        "plt.xlabel('Length of Strings')\n",
        "plt.ylabel('Frequency')\n",
        "plt.grid(True)\n",
        "plt.show()"
      ],
      "metadata": {
        "colab": {
          "base_uri": "https://localhost:8080/",
          "height": 576
        },
        "id": "t-qj5vU-UW4h",
        "outputId": "e5ac2e51-31bd-4e47-e0af-13c1116e6c85"
      },
      "execution_count": 19,
      "outputs": [
        {
          "output_type": "stream",
          "name": "stderr",
          "text": [
            "<ipython-input-19-777e7e0b9bc8>:3: SettingWithCopyWarning: \n",
            "A value is trying to be set on a copy of a slice from a DataFrame.\n",
            "Try using .loc[row_indexer,col_indexer] = value instead\n",
            "\n",
            "See the caveats in the documentation: https://pandas.pydata.org/pandas-docs/stable/user_guide/indexing.html#returning-a-view-versus-a-copy\n",
            "  no_dupes_df['text_length'] = no_dupes_df['text'].str.len()\n"
          ]
        },
        {
          "output_type": "display_data",
          "data": {
            "text/plain": [
              "<Figure size 640x480 with 1 Axes>"
            ],
            "image/png": "[encoded data removed]"
          },
          "metadata": {}
        }
      ]
    },
    {
      "cell_type": "markdown",
      "source": [
        "This distribution makes sense since the original length of tweets was 140chars and then got increased to 280chars. So we see a big spike at 140 and then a tail up to 280."
      ],
      "metadata": {
        "id": "OYodB7J3V1B6"
      }
    },
    {
      "cell_type": "code",
      "source": [
        "# Merge in Timestamp Data\n",
        "timestamps_df.set_index('id', inplace=True)"
      ],
      "metadata": {
        "id": "GYTQOeQaVzoI"
      },
      "execution_count": 20,
      "outputs": []
    },
    {
      "cell_type": "code",
      "source": [
        "merged_df = no_dupes_df.merge(timestamps_df, left_index=True, right_index=True)"
      ],
      "metadata": {
        "id": "_u7vkDu3n2bf"
      },
      "execution_count": 21,
      "outputs": []
    },
    {
      "cell_type": "code",
      "source": [
        "# What do the timestamps look like?\n",
        "n_null_timestamps = merged_df['created_at'].isnull().sum()\n",
        "print(f'N Null timestamps: {n_null_timestamps}')\n",
        "print('Example Timestamp: ',merged_df.iloc[0]['created_at'])\n",
        "print(merged_df['created_at'])"
      ],
      "metadata": {
        "colab": {
          "base_uri": "https://localhost:8080/"
        },
        "id": "Ibd7opGedTEk",
        "outputId": "c63d4d86-a4c8-4659-b2c7-dbe3e802a0af"
      },
      "execution_count": 22,
      "outputs": [
        {
          "output_type": "stream",
          "name": "stdout",
          "text": [
            "N Null timestamps: 0\n",
            "Example Timestamp:  2006-06-06 16:06:42+00:00\n",
            "id\n",
            "6132                   2006-06-06 16:06:42+00:00\n",
            "13275                  2006-07-23 21:52:30+00:00\n",
            "23160                  2006-08-29 01:52:30+00:00\n",
            "57868                  2006-11-07 02:46:52+00:00\n",
            "304553                 2006-11-27 14:27:43+00:00\n",
            "                                 ...            \n",
            "1178906786792972288    2019-10-01 05:37:35+00:00\n",
            "1178908472919769088    2019-10-01 05:44:17+00:00\n",
            "1178908993022042112    2019-10-01 05:46:21+00:00\n",
            "1178909001414610944    2019-10-01 05:46:23+00:00\n",
            "1178910020626464768    2019-10-01 05:50:26+00:00\n",
            "Name: created_at, Length: 9403460, dtype: object\n"
          ]
        }
      ]
    },
    {
      "cell_type": "code",
      "source": [
        "# Convert 'created_at' into timestamp\n",
        "merged_df['timestamp'] = pd.to_datetime(merged_df['created_at'])"
      ],
      "metadata": {
        "id": "b8kzSlgWey_s"
      },
      "execution_count": 23,
      "outputs": []
    },
    {
      "cell_type": "code",
      "source": [
        "# Group by year and count the number of rows per year\n",
        "rows_per_year = merged_df.groupby(merged_df['timestamp'].dt.year).size()\n",
        "print(rows_per_year)"
      ],
      "metadata": {
        "colab": {
          "base_uri": "https://localhost:8080/"
        },
        "id": "aTYIXJ1mfXGL",
        "outputId": "160b461c-1ec3-4815-9cbc-1447f4427dae"
      },
      "execution_count": 24,
      "outputs": [
        {
          "output_type": "stream",
          "name": "stdout",
          "text": [
            "timestamp\n",
            "2006         12\n",
            "2007       3597\n",
            "2008      28946\n",
            "2009     448153\n",
            "2010     409508\n",
            "2011     294049\n",
            "2012     186319\n",
            "2013     268237\n",
            "2014     371940\n",
            "2015    1206970\n",
            "2016    1142734\n",
            "2017    1488244\n",
            "2018    2717974\n",
            "2019     836777\n",
            "dtype: int64\n"
          ]
        }
      ]
    },
    {
      "cell_type": "code",
      "source": [
        "# Looks like the timestamps are working, so let's drop the 'created_at' str\n",
        "merged_df.drop('created_at', axis=1, inplace=True)"
      ],
      "metadata": {
        "id": "uvKV2hNHft7N"
      },
      "execution_count": 25,
      "outputs": []
    },
    {
      "cell_type": "markdown",
      "source": [
        "## NLP Cleaning\n",
        "\n",
        "At this point, having done the basic data cleanup, there is a lot of more nuanced language processing that can be done. Since we're going to be doing Topic analysis and Emotion Labelling, we can assume we're going to want to clean up the text and possibly already tokenize our strings.\n",
        "\n",
        "### 1. Text Preprocessing\n",
        "\n",
        "Our goal is to make the text as regular as possible and the token count (dictionary) should be as small as possible.\n",
        "Some [basic text preprocessing](https://medium.com/@farhahahahahan/03-basic-text-preprocessing-nlp-90ea4469fb87) steps are:\n",
        "- lowercasing\n",
        "- remove html\n",
        "- remove urls\n",
        "- remove punctuation\n",
        "- remove users\n",
        "- remove hashtags (but we want to retain the actual hashtag text)\n",
        "- remove emails\n",
        "- remove low info chars\n",
        "\n",
        "Some further token-based treatment that might be better done in EDA are:\n",
        "- tokenization\n",
        "- stopword removal\n",
        "- spelling correction\n",
        "- chatword translation\n",
        "- handling emoji\n",
        "- filtering for language (english)\n",
        "- lemmatization / stemming\n"
      ],
      "metadata": {
        "id": "mwCM-v01h9Ft"
      }
    },
    {
      "cell_type": "code",
      "source": [
        "# Preprocess tweet text\n",
        "\n",
        "def lower(text):\n",
        "  return text.lower()\n",
        "\n",
        "def remove_urls(text):\n",
        "  # remove anything with a domain extension like ending\n",
        "  text = re.sub(r'https?://\\S+|http?://\\S+', ' ', text)\n",
        "  text = re.sub(r'\\b\\w+\\.\\w+\\b',' ',text)\n",
        "  text = re.sub(r'www\\.[^\\s]+', ' ', text)\n",
        "  # remove words containing '://'\n",
        "  text = re.sub(r'\\b\\S*:\\/\\/\\S*\\b', ' ', text)\n",
        "  return text\n",
        "\n",
        "def remove_html_tags(text):\n",
        "  return re.sub('<.*?>', ' ', text)\n",
        "\n",
        "def remove_user_mentions(text):\n",
        "  return re.sub(r'@\\w+', ' ', text)\n",
        "\n",
        "def remove_email_addresses(text):\n",
        "  return re.sub(r'\\S+@\\S+', ' ', text)\n",
        "\n",
        "def remove_escape_sequences(text):\n",
        "  return re.sub(r'[\\r\\n]+', ' ', text)\n",
        "\n",
        "def translate_emoji(text):\n",
        "  # translate emoji to text\n",
        "  return emoji.demojize(text)\n",
        "\n",
        "def remove_contraction(text):\n",
        "  return re.sub(r'(?<=[a-zA-Z])\\'(?=[a-zA-Z])', '', text)\n",
        "\n",
        "def remove_low_info_chars(text):\n",
        "  # remove chars that do not retain much 'meaning'\n",
        "  # in this case we retain only a-z, 0-9, '!', and '?'\n",
        "  return re.sub(r'[^0-9a-z\\s!?]', ' ', text)\n",
        "\n",
        "def preprocess(text):\n",
        "  text = lower(text)\n",
        "  text = remove_urls(text)\n",
        "  text = remove_html_tags(text)\n",
        "  text = remove_user_mentions(text)\n",
        "  text = translate_emoji(text)\n",
        "  text = remove_contraction(text)\n",
        "  text = remove_escape_sequences(text)\n",
        "  text = remove_low_info_chars(text)\n",
        "  return text\n",
        "\n",
        "def applyPreprocessing(sr):\n",
        "  return sr.apply(preprocess)"
      ],
      "metadata": {
        "id": "w9dr6vy0gB2-"
      },
      "execution_count": 26,
      "outputs": []
    },
    {
      "cell_type": "code",
      "source": [
        "# Let's test the preprocessing on a small sample\n",
        "test = applyPreprocessing(merged_df['text'].sample(10000))"
      ],
      "metadata": {
        "id": "rSr4xhieykyD"
      },
      "execution_count": 27,
      "outputs": []
    },
    {
      "cell_type": "code",
      "source": [
        "# Let's test to see if the output looks nice\n",
        "# There are a lot of spaces and some of the tokens are a bit strange ie 80sf, but these are cases that can be handled on a token basis\n",
        "for i, doc in enumerate(test.values[120:130]):\n",
        "  print(i,doc)"
      ],
      "metadata": {
        "colab": {
          "base_uri": "https://localhost:8080/"
        },
        "id": "zO6OMSTUvGSJ",
        "outputId": "49a80f6b-c768-4129-8fe6-cabd4eaebf10"
      },
      "execution_count": 28,
      "outputs": [
        {
          "output_type": "stream",
          "name": "stdout",
          "text": [
            "0       if so  then global warming  amp  natures destruction must be illegitimate unwanted produces\n",
            "1 removing  co2 from atmosphere won t save us  we have to cut emissions now       climatechange  carbon\n",
            "2 has global warming become our new future time horizon   beyond which we cannot think  act  and imagine?\n",
            "3 rt sciencenews  rt snstudents  as their homelands experience uncomfortable changes  many people adapt by migrating elsewhere  they are the first  climatechange refugees  the first feature in our series  the climate change chronicles      \n",
            "4   a similar process has already happened in his cabinet  with epa appointees being mostly climate change deniers and big oil shills \n",
            "5 interesting insights  how americans think about  climatechange  in six  maps  \n",
            "6 oggi su    laddio al fossile dell  irlanda    il primo paese al mondo a bloccare gli investimenti    fossilfuel  divestment  finanzasostenibile  climatechange  parisagreement          \n",
            "7  wednesdaywisdom    education on  climatechange has not caught up with the amount of information  or disinformation  thats out there  its needed so that people will voice their opinions to their government officials to  actonclimate  more on clean     \n",
            "8     but youre the cause of global warming no?  s\n",
            "9 trapped by traffic? worried about climate change? obesity? local particulates emitted? getting run over? worry not!  \n"
          ]
        }
      ]
    },
    {
      "cell_type": "code",
      "source": [
        "# There's a strange string 'lqiq3jwcut' that might be a part of a url or something, let's investigate\n",
        "# It looks like strings starting with \"://\" should be treated as urls also\n",
        "merged_df.loc[770113887576395776]"
      ],
      "metadata": {
        "colab": {
          "base_uri": "https://localhost:8080/"
        },
        "id": "0FpZTziGv_lm",
        "outputId": "686d6700-ac5c-4af9-d543-541bc5965cab"
      },
      "execution_count": 29,
      "outputs": [
        {
          "output_type": "execute_result",
          "data": {
            "text/plain": [
              "text           American pika vanishing from western US as 'habitat lost to climate change' https://t.co/CxUZFWhQhb ://t.co/LQIq3jwcUt RT @ClimateNexus\n",
              "text_length                                                                                                                                        135\n",
              "timestamp                                                                                                                    2016-08-29 04:20:33+00:00\n",
              "Name: 770113887576395776, dtype: object"
            ]
          },
          "metadata": {},
          "execution_count": 29
        }
      ]
    },
    {
      "cell_type": "code",
      "source": [
        "# How long would it take to run the preprocessing on all ~10m tweets?\n",
        "# A: Running on 100k tweets is 19s, so 10m would be 100x that... a bit long\n",
        "test = applyPreprocessing(merged_df['text'].sample(100000))"
      ],
      "metadata": {
        "id": "xPlrT_-ZwXCD"
      },
      "execution_count": 30,
      "outputs": []
    },
    {
      "cell_type": "code",
      "source": [
        "# We only have 2 cores, we're going to need a better runtime\n",
        "# Ah, the GPU100 env has 8-12 cores, much better!"
      ],
      "metadata": {
        "id": "u83kFuiv3l2O"
      },
      "execution_count": 31,
      "outputs": []
    },
    {
      "cell_type": "code",
      "source": [
        "# Both of these took around 20s to run, something is not right with the parallelization\n",
        "# How many cores do we have?\n",
        "import multiprocessing\n",
        "\n",
        "num_cores = multiprocessing.cpu_count()\n",
        "print(\"Number of CPU cores available:\", num_cores)"
      ],
      "metadata": {
        "colab": {
          "base_uri": "https://localhost:8080/"
        },
        "id": "tz6ZfiF73FB3",
        "outputId": "65ecf2fe-35b8-4de7-a43e-54216f7a6fb7"
      },
      "execution_count": 32,
      "outputs": [
        {
          "output_type": "stream",
          "name": "stdout",
          "text": [
            "Number of CPU cores available: 8\n"
          ]
        }
      ]
    },
    {
      "cell_type": "code",
      "source": [
        "# Apply the function to each row of the DataFrame in parallel\n",
        "# Runtime here is 4mins for the ~10m rows\n",
        "\n",
        "# Define a function to apply preprocessing to each element of the Series in parallel\n",
        "def apply_preprocessing_parallel(sr):\n",
        "    n_jobs = -1 # use all cores\n",
        "    return Parallel(n_jobs=n_jobs)(delayed(preprocess)(text) for text in sr)\n",
        "\n",
        "preprocessed_texts = apply_preprocessing_parallel(merged_df['text'])"
      ],
      "metadata": {
        "id": "uZ-J43XztbDo"
      },
      "execution_count": 33,
      "outputs": []
    },
    {
      "cell_type": "code",
      "source": [
        "merged_df['preprocessed'] = preprocessed_texts"
      ],
      "metadata": {
        "id": "d_-fLqRt4JsG"
      },
      "execution_count": 34,
      "outputs": []
    },
    {
      "cell_type": "code",
      "source": [
        "merged_df.info()"
      ],
      "metadata": {
        "colab": {
          "base_uri": "https://localhost:8080/"
        },
        "id": "D9MkKrxO6jms",
        "outputId": "141941ea-0164-425b-a91e-705f7e1ae59f"
      },
      "execution_count": 35,
      "outputs": [
        {
          "output_type": "stream",
          "name": "stdout",
          "text": [
            "<class 'pandas.core.frame.DataFrame'>\n",
            "Int64Index: 9403460 entries, 6132 to 1178910020626464768\n",
            "Data columns (total 4 columns):\n",
            " #   Column        Dtype              \n",
            "---  ------        -----              \n",
            " 0   text          object             \n",
            " 1   text_length   int64              \n",
            " 2   timestamp     datetime64[ns, UTC]\n",
            " 3   preprocessed  object             \n",
            "dtypes: datetime64[ns, UTC](1), int64(1), object(2)\n",
            "memory usage: 616.7+ MB\n"
          ]
        }
      ]
    },
    {
      "cell_type": "code",
      "source": [
        "merged_df.drop(columns=['text_length'], inplace=True)"
      ],
      "metadata": {
        "id": "sobOEPqS6o0B"
      },
      "execution_count": 36,
      "outputs": []
    },
    {
      "cell_type": "code",
      "source": [
        "# Tokenization\n",
        "# Now that we've preprocessed out text, we want to tokenize it and explore what our token-space looks like\n",
        "# We use a set for tokens as we treat our tokens as a bag-of-words\n",
        "\n",
        "def handle_punctuation(text):\n",
        "  # We want to buffer '!' and '?' with whitespace to treat them as tokens\n",
        "  return text.replace('!', ' ! ').replace('?', ' ? ')\n",
        "\n",
        "def tokenize(text):\n",
        "  # We use the most basic tokenization approach, splitting by whitespace\n",
        "  # this is reasonable since we've preprocessed all the punctuation and formatting\n",
        "  return {token.strip() for token in text.split()}\n",
        "\n",
        "def applyTokenization(sr):\n",
        "  return sr.apply(handle_punctuation).apply(tokenize)"
      ],
      "metadata": {
        "id": "VNDoAP6RBbhb"
      },
      "execution_count": 140,
      "outputs": []
    },
    {
      "cell_type": "code",
      "source": [
        "# Apply Tokenization\n",
        "# runtime(100k)=1.23s so we would expect runtime(10m)=123s\n",
        "%%time\n",
        "tokens_sr = applyTokenization(merged_df['preprocessed'])\n",
        "print(f'Tokenized {len(tokens_sr)} rows')"
      ],
      "metadata": {
        "colab": {
          "base_uri": "https://localhost:8080/"
        },
        "id": "yFyPuvOuEecr",
        "outputId": "c3bf0710-1b55-4f70-b4d7-ebb197e50c90"
      },
      "execution_count": 141,
      "outputs": [
        {
          "output_type": "stream",
          "name": "stdout",
          "text": [
            "Tokenized 9403460 rows\n",
            "CPU times: user 1min 30s, sys: 10.9 s, total: 1min 41s\n",
            "Wall time: 1min 41s\n"
          ]
        }
      ]
    },
    {
      "cell_type": "code",
      "source": [
        "# Check to make sure Tokenization went as expected\n",
        "# The tokens look well formed, but there are definitely tokens that we want to clean\n",
        "pd.set_option('display.max_colwidth', None)\n",
        "tokens_sr.sample(10)"
      ],
      "metadata": {
        "colab": {
          "base_uri": "https://localhost:8080/"
        },
        "id": "7awo4cVsFbXx",
        "outputId": "07dc490f-b464-4940-8bae-32cdb9090f7a"
      },
      "execution_count": 39,
      "outputs": [
        {
          "output_type": "execute_result",
          "data": {
            "text/plain": [
              "id\n",
              "1123419606557822976                                                             [since, the, trump, administration, doesnt, care, about, the, environment, ignoring, global, warming, or, poor, and, starving, asylum, seekers, the, states, might, as, well, dump, tons, of, unessasary, bug, spray, to, make, things, go, away]\n",
              "1128305249888931840                                                                                                                                                                                                                                                    [climate, inaction, is, expensive, climatechange, cdnpoli]\n",
              "1123254690924433412                                                                                                                                                                                                         [in, a, switch, some, republicans, start, citing, climate, change, as, driving, their, policies, via]\n",
              "1015316282089115650                                                                                                                                                                                                  [7, new, shows, to, binge, while, theres, nothing, to, watch, this, summer, observer, arctic, climatechange]\n",
              "384669029526700032                                                                                                                                                            [those, poor, farmers, clearly, havent, listened, to, uk, env, secretary, owen, paterson, who, would, tell, them, global, warming, is, positive, !]\n",
              "1012699028323164160                                                                           [new, handbook, on, climate, disaster, law, rosemary, lyster, amp, edit, chapters, by, top, experts, enjoy, free, chapter, wishful, thinking, ?, the, governance, of, climatechange, related, disasters, in, the, anthropocene, by]\n",
              "830934278703702016                                                                                                                                                                                        [turnbull, needs, to, take, climate, change, fight, to, labor, and, put, the, coal, back, in, coalition, courier, mail]\n",
              "967183927373840384                                                                                                                                                                                                                                                [hey, teenagers, !, can, you, tackle, climate, change, next, ?]\n",
              "966333609178255361     [as, a, teenager, the, climate, change, thing, ramped, way, up, major, political, instability, in, the, middle, east, north, africa, so, many, regime, changes, coups, protests, etc, we, started, hearing, more, about, shootings, in, the, states, which, wear, both, more, frequent, and, more, deadly]\n",
              "690503529849581568                                                                                                                                                                                                                                  [this, is, where, 90, percent, of, global, warming, is, going, climatechange]\n",
              "Name: preprocessed, dtype: object"
            ]
          },
          "metadata": {},
          "execution_count": 39
        }
      ]
    },
    {
      "cell_type": "code",
      "source": [
        "# What is the distribution of our tokens?\n",
        "\n",
        "tokens_list = tokens_sr.tolist()\n",
        "all_tokens_list = [token for tokens in tokens_list for token in tokens]\n",
        "freq_dist = FreqDist(all_tokens_list)"
      ],
      "metadata": {
        "id": "H3OFlRvLIRXX"
      },
      "execution_count": 40,
      "outputs": []
    },
    {
      "cell_type": "code",
      "source": [
        "# Plot the distribution of token frequencies\n",
        "token_freqs = sorted(list(freq_dist.values()), reverse=True)\n",
        "x = np.arange(0, len(token_freqs), 1)\n",
        "\n",
        "# Plot Frequency line\n",
        "plt.plot(x, token_freqs)\n",
        "plt.ylabel('Average Frequency')\n",
        "plt.xlabel('Token Rank')\n",
        "plt.title('Histogram of Average Token Frequencies')\n",
        "plt.show()"
      ],
      "metadata": {
        "id": "r1Yi5YnZ-t7s",
        "outputId": "9b6f3fd9-38a9-4122-faf2-1abbd6c7eba4",
        "colab": {
          "base_uri": "https://localhost:8080/",
          "height": 472
        }
      },
      "execution_count": 70,
      "outputs": [
        {
          "output_type": "display_data",
          "data": {
            "text/plain": [
              "<Figure size 640x480 with 1 Axes>"
            ],
            "image/png": "[encoded data removed]"
          },
          "metadata": {}
        }
      ]
    },
    {
      "cell_type": "code",
      "source": [
        "# Plot the Distribution of the top N most relevant tokens\n",
        "# There's a huge right tail on the dist of tokens, with most being present only very few times and a very low % being... very present\n",
        "# so let's plot only the top N\n",
        "\n",
        "top_n = 100\n",
        "\n",
        "token_freqs = sorted(list(freq_dist.values()), reverse=True)[:top_n]\n",
        "x = np.arange(0, len(token_freqs), 1)\n",
        "\n",
        "# Plot Frequency line\n",
        "plt.plot(x, token_freqs)\n",
        "plt.ylabel('Token Frequency')\n",
        "plt.xlabel('Token Rank')\n",
        "plt.title('Histogram of Average Token Frequencies')\n",
        "plt.show()"
      ],
      "metadata": {
        "id": "tCVwH02MB9vg",
        "outputId": "4cff52a0-c879-4c45-d986-f4db52a9092b",
        "colab": {
          "base_uri": "https://localhost:8080/",
          "height": 472
        }
      },
      "execution_count": 72,
      "outputs": [
        {
          "output_type": "display_data",
          "data": {
            "text/plain": [
              "<Figure size 640x480 with 1 Axes>"
            ],
            "image/png": "[encoded data removed]"
          },
          "metadata": {}
        }
      ]
    },
    {
      "cell_type": "code",
      "source": [
        "# Some Token Distribution stats\n",
        "print(f'There are {len(freq_dist)} unique tokens')\n",
        "print(f'There are {len(all_tokens_list)} total tokens')\n",
        "print(f'The ratio of unique to total tokens is: {len(freq_dist) / len(all_tokens_list)}')\n",
        "print(f'Representative i-th freqs:')\n",
        "token_freqs = sorted(list(freq_dist.values()), reverse=True)\n",
        "for i in range(0,10000,1000):\n",
        "  print(f'{i}th: {token_freqs[i]}')\n",
        "for i in range(10000,100000,10000):\n",
        "  print(f'{i}th: {token_freqs[i]}')\n",
        "print(f\"{token_freqs.index(3)}th: Index of first freq of 3\")\n",
        "print(f\"{token_freqs.index(2)}th: Index of first freq of 2\")\n",
        "print(f\"{token_freqs.index(1)}th: Index of first freq of 1\")"
      ],
      "metadata": {
        "id": "tlpXYOBbThot",
        "outputId": "d1e047a2-df86-4bdf-8605-076d841832f5",
        "colab": {
          "base_uri": "https://localhost:8080/"
        }
      },
      "execution_count": 111,
      "outputs": [
        {
          "output_type": "stream",
          "name": "stdout",
          "text": [
            "There are 1017623 unique tokens\n",
            "There are 174720879 total tokens\n",
            "The ratio of unique to total tokens is: 0.005824278161970556\n",
            "Representative i-th freqs:\n",
            "0th: 5845661\n",
            "1000th: 19937\n",
            "2000th: 8828\n",
            "3000th: 5146\n",
            "4000th: 3452\n",
            "5000th: 2514\n",
            "6000th: 1924\n",
            "7000th: 1509\n",
            "8000th: 1231\n",
            "9000th: 1015\n",
            "10000th: 856\n",
            "20000th: 251\n",
            "30000th: 119\n",
            "40000th: 71\n",
            "50000th: 47\n",
            "60000th: 34\n",
            "70000th: 26\n",
            "80000th: 20\n",
            "90000th: 17\n",
            "234315th: Index of first freq of 3\n",
            "294818th: Index of first freq of 2\n",
            "435180th: Index of first freq of 1\n"
          ]
        }
      ]
    },
    {
      "cell_type": "code",
      "source": [
        "# Based on the above, the top 2000 tokens seem to be the most significant.\n",
        "# What are our top Freqs?\n",
        "freq_dist.most_common(40)"
      ],
      "metadata": {
        "id": "rVtxEKU0HQGs",
        "outputId": "a372a567-9dfb-4dfd-bfa9-14c51bce9010",
        "colab": {
          "base_uri": "https://localhost:8080/"
        }
      },
      "execution_count": 153,
      "outputs": [
        {
          "output_type": "execute_result",
          "data": {
            "text/plain": [
              "[('the', 5845661),\n",
              " ('climate', 5411593),\n",
              " ('change', 4985521),\n",
              " ('to', 4548087),\n",
              " ('of', 3048368),\n",
              " ('global', 2945563),\n",
              " ('warming', 2754633),\n",
              " ('is', 2657120),\n",
              " ('and', 2632749),\n",
              " ('a', 2494207),\n",
              " ('in', 2293312),\n",
              " ('climatechange', 2162815),\n",
              " ('on', 1848936),\n",
              " ('?', 1743297),\n",
              " ('!', 1484590),\n",
              " ('for', 1452439),\n",
              " ('that', 1190401),\n",
              " ('it', 1161819),\n",
              " ('rt', 1080641),\n",
              " ('you', 1054137),\n",
              " ('i', 1025514),\n",
              " ('we', 1008479),\n",
              " ('are', 1004609),\n",
              " ('about', 931146),\n",
              " ('this', 866523),\n",
              " ('with', 817115),\n",
              " ('be', 753773),\n",
              " ('not', 709160),\n",
              " ('by', 645383),\n",
              " ('from', 618465),\n",
              " ('as', 606378),\n",
              " ('will', 600807),\n",
              " ('amp', 568419),\n",
              " ('s', 566545),\n",
              " ('its', 561132),\n",
              " ('have', 550840),\n",
              " ('how', 547199),\n",
              " ('more', 528736),\n",
              " ('but', 526531),\n",
              " ('what', 510652)]"
            ]
          },
          "metadata": {},
          "execution_count": 153
        }
      ]
    },
    {
      "cell_type": "code",
      "source": [
        "# It looks like some tokens are single letters - which are they?\n",
        "for i in range(ord('a'), ord('z') + 1):\n",
        "  print(chr(i), freq_dist[chr(i)])"
      ],
      "metadata": {
        "id": "f-aYLSuuD1xJ",
        "outputId": "2572397b-4d6e-4c74-8b13-8b7e6c6ae072",
        "colab": {
          "base_uri": "https://localhost:8080/"
        }
      },
      "execution_count": 77,
      "outputs": [
        {
          "output_type": "stream",
          "name": "stdout",
          "text": [
            "a 2494207\n",
            "b 33671\n",
            "c 55864\n",
            "d 49043\n",
            "e 33366\n",
            "f 23767\n",
            "g 12901\n",
            "h 14803\n",
            "i 1025514\n",
            "j 6039\n",
            "k 7946\n",
            "l 14722\n",
            "m 58469\n",
            "n 36692\n",
            "o 37965\n",
            "p 23084\n",
            "q 10838\n",
            "r 42232\n",
            "s 566545\n",
            "t 293507\n",
            "u 69083\n",
            "v 20413\n",
            "w 63288\n",
            "x 8938\n",
            "y 22943\n",
            "z 2275\n"
          ]
        }
      ]
    },
    {
      "cell_type": "code",
      "source": [
        "# Let's explore what the tweets look like for some of these\n",
        "# Let's roughly assume that tokens need to have a freq > 10000 to be 'relevant'\n",
        "merged_df['tokens'] = tokens_sr\n",
        "\n",
        "def get_examples_given_token(df, token):\n",
        "  df_subset = df[df['tokens'].apply(lambda tokens: token in tokens)]['text']\n",
        "  return(df_subset)\n",
        "\n",
        "get_examples_given_token(merged_df, 's').sample(10)"
      ],
      "metadata": {
        "id": "OGlndAK0RMCD",
        "outputId": "14d788e3-8cc3-4278-ef3b-04cc384e7621",
        "colab": {
          "base_uri": "https://localhost:8080/"
        }
      },
      "execution_count": 154,
      "outputs": [
        {
          "output_type": "execute_result",
          "data": {
            "text/plain": [
              "id\n",
              "615533536469250048                                                                                               It’s in the ORANGE BOX! See more UNDERWATER than ever before http://t.co/Bqer0mUgtt Plug -N-Play #climatechange http://t.co/CuaMV0g80L\n",
              "1122965244588900352                                                                                                                                        @_apdabdoub It’s so sad 😔 poor earth. if only someone important believed in global warming 🙄\n",
              "1073883893554507776                        Every five weeks, Chinese cities add 9,500 of the zero-emissions busses—the equivalent of London’s entire working fleet.\\n#climate #ClimateBreakdown #climatechange #ClimateAction \\nhttps://t.co/XjEIYHGi2v\n",
              "938853977181048833     Ted Cruz later on in the News today*\\n\\nCruz: It’s snowin’ in South Texas and the liberals STILL want you to think the earth is warming and climate change is real? Those looney liberals and their science. \\n\\nCalling it now.\n",
              "16579150878                                                                                                               OH: \"global warming's coming in on fourth. Coming round the inside!\" - It came from the horce race track near @lukec's house.\n",
              "913702366389706754                                                                                                                   Someone tell me we’re backing up every 90’s TV show for aliens to discover after global warming has killed us all.\n",
              "559314699884302336                                                                                                                                                      India’s voice very crucial on this issue: Obama on climate change #ObamaInIndia\n",
              "612329846849568768                                                                                                         RT Here’s why acting now matters: Addressing climate change means jobs, and good ones. More from :   https://t.co/FUIRcqfHv6\n",
              "940332237509349376                                                                                         RT @SolarSecrets: GOOD FOR TAXPAYERS! GOP Tax Plan Pulls the Plug on Renewable Energy https://t.co/tHskAOAPv6 #tcot #tlot #climatechange #s…\n",
              "702470683574542336                                                                                              Gordhan: Under Minister Molewa’s guidance, South Africa’s response to the global climate change challenge has been prepared #Budget2016\n",
              "Name: text, dtype: object"
            ]
          },
          "metadata": {},
          "execution_count": 154
        }
      ]
    },
    {
      "cell_type": "code",
      "source": [
        "# Process Tokens\n",
        "# Now that we have tokens, we want to clean out some of the tokens that are 'clearly' non-informative\n",
        "# There are several classes of tokens that\n",
        "\n",
        "# Here we want to:\n",
        "# 1. Remove common and 'meaningless' tokens ie stop-words\n",
        "# 2. Translate some compound tokens\n",
        "\n",
        "CUSTOM_STOPWORDS = [\n",
        "    'rt', # retweet\n",
        "    'amp', # from html for and\n",
        "    's', # this seems to be mostly from 's contractions\n",
        "]\n",
        "\n",
        "translation_map = {\n",
        "    'climatechange':{'climate','change'},\n",
        "    'globalwarming':{'global','warming'},\n",
        "    'actonclimate':{'act','on','climate'},\n",
        "}\n",
        "\n",
        "def remove_stopwords(tokens):\n",
        "  return [token for token in tokens if token not in CUSTOM_STOPWORDS]\n",
        "\n",
        "def translate_compound_tokens(tokens):\n",
        "  new_tokens = set()\n",
        "  for t in tokens:\n",
        "    if t in translation_map:\n",
        "      new_tokens.update(translation_map[t])\n",
        "    else:\n",
        "      new_tokens.add(t)\n",
        "  return new_tokens\n",
        "\n",
        "def processTokens(tokens):\n",
        "  tokens = remove_stopwords(tokens)\n",
        "  tokens = translate_compound_tokens(tokens)\n",
        "  return tokens\n",
        "\n",
        "def applyProcessTokens(sr):\n",
        "  return sr.apply(processTokens)"
      ],
      "metadata": {
        "id": "TUXSwKKnHsGq"
      },
      "execution_count": 172,
      "outputs": []
    },
    {
      "cell_type": "code",
      "source": [
        "# Dummy data with sets\n",
        "processed_tokens_sr = applyProcessTokens(tokens_sr)"
      ],
      "metadata": {
        "id": "Z31BAV7XQesn"
      },
      "execution_count": null,
      "outputs": []
    },
    {
      "cell_type": "code",
      "source": [
        "# Save preprocessed DF\n",
        "merged_df.to_csv(PREPROCESSED_TEXT_PATH, index=True)"
      ],
      "metadata": {
        "id": "9bpTYL0f6uPi"
      },
      "execution_count": 44,
      "outputs": []
    }
  ]
}