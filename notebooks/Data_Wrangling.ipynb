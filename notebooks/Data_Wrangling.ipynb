{
  "nbformat": 4,
  "nbformat_minor": 0,
  "metadata": {
    "colab": {
      "provenance": [],
      "machine_shape": "hm",
      "gpuType": "V100",
      "authorship_tag": "ABX9TyOkxwVyoaWGawmVOCrJgACE",
      "include_colab_link": true
    },
    "kernelspec": {
      "name": "python3",
      "display_name": "Python 3"
    },
    "language_info": {
      "name": "python"
    },
    "accelerator": "GPU"
  },
  "cells": [
    {
      "cell_type": "markdown",
      "metadata": {
        "id": "view-in-github",
        "colab_type": "text"
      },
      "source": [
        "<a href=\"https://colab.research.google.com/github/KaroAntonio/climate-social-analysis/blob/main/notebooks/Data_Wrangling.ipynb\" target=\"_parent\"><img src=\"https://colab.research.google.com/assets/colab-badge.svg\" alt=\"Open In Colab\"/></a>"
      ]
    },
    {
      "cell_type": "markdown",
      "source": [
        "# Tweet Data Wrangling\n",
        "\n",
        "Here we import our datasets, explore the features we have to work with, get a feel for the distributions, and do some initial cleaning.\n",
        "\n",
        "We want to keep in mind that we have the following goals for this analysis:\n",
        "- Extract Topics from the Tweet Data (Unsupervised)\n",
        "- Label Emotions for each tweet (Possibly supervised)\n",
        "- Establish Association between Topics and Emotions\n",
        "\n",
        "Our Datasets:\n",
        "- Climate Tweets (15m)\n",
        "\n",
        "These tweets have already been filtered from the broader twitter stream, so this dataset includes only tweets which include either 'climate change' or 'global warming'\n",
        "\n",
        "Data Wrangling Steps Taken:\n",
        "\n",
        "1. Load Dataset\n",
        "2. Explore raw Dataset characteristics\n",
        "3. Text Preprocessing\n",
        "4. Tokenization\n",
        "5. Token Preprocessing\n",
        "\n",
        "\n"
      ],
      "metadata": {
        "id": "plt_LbWe4sF1"
      }
    },
    {
      "cell_type": "code",
      "source": [
        "!pip install emoji"
      ],
      "metadata": {
        "colab": {
          "base_uri": "https://localhost:8080/"
        },
        "id": "YzRWgRt_tLwj",
        "outputId": "f190ecc8-c2e3-40a1-d58d-2e7c548a45cb"
      },
      "execution_count": 1,
      "outputs": [
        {
          "output_type": "stream",
          "name": "stdout",
          "text": [
            "Collecting emoji\n",
            "  Downloading emoji-2.10.1-py2.py3-none-any.whl (421 kB)\n",
            "\u001b[?25l     \u001b[90m━━━━━━━━━━━━━━━━━━━━━━━━━━━━━━━━━━━━━━━━\u001b[0m \u001b[32m0.0/421.5 kB\u001b[0m \u001b[31m?\u001b[0m eta \u001b[36m-:--:--\u001b[0m\r\u001b[2K     \u001b[91m━━━━━━━━━━━━━━━━━━━━━━\u001b[0m\u001b[90m╺\u001b[0m\u001b[90m━━━━━━━━━━━━━━━━━\u001b[0m \u001b[32m235.5/421.5 kB\u001b[0m \u001b[31m7.1 MB/s\u001b[0m eta \u001b[36m0:00:01\u001b[0m\r\u001b[2K     \u001b[90m━━━━━━━━━━━━━━━━━━━━━━━━━━━━━━━━━━━━━━━━\u001b[0m \u001b[32m421.5/421.5 kB\u001b[0m \u001b[31m7.7 MB/s\u001b[0m eta \u001b[36m0:00:00\u001b[0m\n",
            "\u001b[?25hInstalling collected packages: emoji\n",
            "Successfully installed emoji-2.10.1\n"
          ]
        }
      ]
    },
    {
      "cell_type": "code",
      "source": [
        "!pip install joblib"
      ],
      "metadata": {
        "colab": {
          "base_uri": "https://localhost:8080/"
        },
        "id": "n1XgmnS6tvo0",
        "outputId": "5779ca51-7660-4d53-be8c-28c8ba66e6fa"
      },
      "execution_count": 2,
      "outputs": [
        {
          "output_type": "stream",
          "name": "stdout",
          "text": [
            "Requirement already satisfied: joblib in /usr/local/lib/python3.10/dist-packages (1.3.2)\n"
          ]
        }
      ]
    },
    {
      "cell_type": "code",
      "source": [
        "from google.colab import drive\n",
        "from joblib import Parallel, delayed\n",
        "import matplotlib.pyplot as plt\n",
        "import nltk\n",
        "from nltk import FreqDist\n",
        "from nltk.corpus import stopwords\n",
        "from nltk.corpus import wordnet\n",
        "from nltk.corpus import words\n",
        "from itertools import chain\n",
        "import pandas as pd\n",
        "import numpy as np\n",
        "import re\n",
        "import emoji"
      ],
      "metadata": {
        "id": "OocLZs2Q5U2-"
      },
      "execution_count": 3,
      "outputs": []
    },
    {
      "cell_type": "code",
      "source": [
        "nltk.download('wordnet')\n",
        "nltk.download('words')"
      ],
      "metadata": {
        "colab": {
          "base_uri": "https://localhost:8080/"
        },
        "id": "Ek6CRnbgIbnv",
        "outputId": "7dbd4743-614f-44d7-d109-6892d9da37f8"
      },
      "execution_count": 4,
      "outputs": [
        {
          "output_type": "stream",
          "name": "stderr",
          "text": [
            "[nltk_data] Downloading package wordnet to /root/nltk_data...\n",
            "[nltk_data] Downloading package words to /root/nltk_data...\n",
            "[nltk_data]   Unzipping corpora/words.zip.\n"
          ]
        },
        {
          "output_type": "execute_result",
          "data": {
            "text/plain": [
              "True"
            ]
          },
          "metadata": {},
          "execution_count": 4
        }
      ]
    },
    {
      "cell_type": "code",
      "source": [
        "drive.mount('/content/drive')"
      ],
      "metadata": {
        "colab": {
          "base_uri": "https://localhost:8080/"
        },
        "id": "SiIjOHEw67OC",
        "outputId": "99628b11-fa13-4b35-ef50-486665ab288d"
      },
      "execution_count": 5,
      "outputs": [
        {
          "output_type": "stream",
          "name": "stdout",
          "text": [
            "Mounted at /content/drive\n"
          ]
        }
      ]
    },
    {
      "cell_type": "code",
      "source": [
        "DRIVE_DIR = \"/content/drive/MyDrive/Climate Social Analysis/data/\"\n",
        "TWEET_TEXT_DATA_PATH = f\"{DRIVE_DIR}climate-change-twitter-dataset-tweet-data.csv\"\n",
        "TWEET_TIMESTAMPS_DATA_PATH = f\"{DRIVE_DIR}climate-change-twitter-dataset-timestamps.csv\"\n",
        "PREPROCESSED_TEXT_PATH = f\"{DRIVE_DIR}preprocessed_text.csv\""
      ],
      "metadata": {
        "id": "W3-urIee67qG"
      },
      "execution_count": 6,
      "outputs": []
    },
    {
      "cell_type": "code",
      "source": [
        "# Load tweets\n",
        "text_df = pd.read_csv(TWEET_TEXT_DATA_PATH)"
      ],
      "metadata": {
        "id": "nRFcpK8o71YO"
      },
      "execution_count": 7,
      "outputs": []
    },
    {
      "cell_type": "code",
      "source": [
        "# Load Timestamp Metadata\n",
        "timestamps_df = pd.read_csv(TWEET_TIMESTAMPS_DATA_PATH)"
      ],
      "metadata": {
        "id": "rHsBLXfIb8GR"
      },
      "execution_count": 8,
      "outputs": []
    },
    {
      "cell_type": "code",
      "source": [
        "# What is the shape of our data?\n",
        "text_df.shape"
      ],
      "metadata": {
        "colab": {
          "base_uri": "https://localhost:8080/"
        },
        "id": "9mDQWlmHRnW8",
        "outputId": "f636aa6e-031b-4951-9e4d-ffddd023abf2"
      },
      "execution_count": 9,
      "outputs": [
        {
          "output_type": "execute_result",
          "data": {
            "text/plain": [
              "(15789411, 2)"
            ]
          },
          "metadata": {},
          "execution_count": 9
        }
      ]
    },
    {
      "cell_type": "code",
      "source": [
        "# What are our cols?\n",
        "text_df.columns"
      ],
      "metadata": {
        "colab": {
          "base_uri": "https://localhost:8080/"
        },
        "id": "hGU1P5ZrR76M",
        "outputId": "14eb5506-711d-42ef-aea5-1c621cc8088c"
      },
      "execution_count": 10,
      "outputs": [
        {
          "output_type": "execute_result",
          "data": {
            "text/plain": [
              "Index(['id', 'text'], dtype='object')"
            ]
          },
          "metadata": {},
          "execution_count": 10
        }
      ]
    },
    {
      "cell_type": "code",
      "source": [
        "# Is there an 'id' for each row?\n",
        "text_df['id'].nunique() == text_df.shape[0]"
      ],
      "metadata": {
        "colab": {
          "base_uri": "https://localhost:8080/"
        },
        "id": "lmc6Y7HqR_Qe",
        "outputId": "f9b549cb-7c63-48aa-abde-55c54468afab"
      },
      "execution_count": 11,
      "outputs": [
        {
          "output_type": "execute_result",
          "data": {
            "text/plain": [
              "True"
            ]
          },
          "metadata": {},
          "execution_count": 11
        }
      ]
    },
    {
      "cell_type": "code",
      "source": [
        "# Ok let's use 'id' for the index\n",
        "text_df.set_index('id', inplace=True)"
      ],
      "metadata": {
        "id": "FXM6FSWiSPD4"
      },
      "execution_count": 12,
      "outputs": []
    },
    {
      "cell_type": "code",
      "source": [
        "# What do our tweets look like?\n",
        "pd.set_option('display.max_colwidth', 300)\n",
        "text_df.sample(10)"
      ],
      "metadata": {
        "colab": {
          "base_uri": "https://localhost:8080/",
          "height": 394
        },
        "id": "vdQY8LIvSY8j",
        "outputId": "fcbdc0e7-b124-4160-f23d-11d99579688c"
      },
      "execution_count": 13,
      "outputs": [
        {
          "output_type": "execute_result",
          "data": {
            "text/plain": [
              "                                                                                                                                                                                                                                                      text\n",
              "id                                                                                                                                                                                                                                                        \n",
              "1080829708714102784  @mik61scot @theresa_may I can’t believe anyone still pays any attention to anything Nigel Lawson says. He’s a climate change denier who lives in France. He doesn’t even live in Britain, yet he’s telling us what to do? Ignore him.\n",
              "637375797293023232                                                                                                                                                                         How will climate change affect business? http://t.co/I91FKlOJl2\n",
              "460668362712829952                                                                                            @missah8 been a crazy weather year damn global warming. Hopefully your winter will be a lot nicer then ours was Play Minecraft when I do :-)\n",
              "6198431856                                                                                                                                                                                        @dindacindyarini ada global warming cinnnnnnnnnnn hahaha\n",
              "137854521572474880                                                                                                 “@fredtalbotitv: Just been to the post box to send some letters and did  not even wear a fleece. Amazing for November .” #globalwarming\n",
              "5625537940                                                                                                                                                                                                                 @ZAIRE_ global warming = my guy\n",
              "946851037528207360                                                                                          RT @RepDonBeyer: 1: This isn’t how climate change works.\\n\\n2: We weren’t paying trillions of dollars. You didn’t understand the Paris Agreem…\n",
              "1042959451333046274                                                                                           RT @glenklatovsky: The Australian government has walked away from climate change action @350Australia #ClimateAction #auspol https://t.co/L…\n",
              "1067798888868995072                                                                                         RT @Ocasio2018: Two weeks ago, we took a risk to support @sunrisemvmt‘s demand for Dems put climate change at the top of our agenda.\\n\\nWe we…\n",
              "758354583475347456                                                                                                                           Scientists caught off-guard by record temperatures linked to climate change | Reuters https://t.co/F3N2GCJCC2"
            ],
            "text/html": [
              "\n",
              "  <div id=\"df-8f0c78d5-d423-4aea-9c71-1a2f14c17071\" class=\"colab-df-container\">\n",
              "    <div>\n",
              "<style scoped>\n",
              "    .dataframe tbody tr th:only-of-type {\n",
              "        vertical-align: middle;\n",
              "    }\n",
              "\n",
              "    .dataframe tbody tr th {\n",
              "        vertical-align: top;\n",
              "    }\n",
              "\n",
              "    .dataframe thead th {\n",
              "        text-align: right;\n",
              "    }\n",
              "</style>\n",
              "<table border=\"1\" class=\"dataframe\">\n",
              "  <thead>\n",
              "    <tr style=\"text-align: right;\">\n",
              "      <th></th>\n",
              "      <th>text</th>\n",
              "    </tr>\n",
              "    <tr>\n",
              "      <th>id</th>\n",
              "      <th></th>\n",
              "    </tr>\n",
              "  </thead>\n",
              "  <tbody>\n",
              "    <tr>\n",
              "      <th>1080829708714102784</th>\n",
              "      <td>@mik61scot @theresa_may I can’t believe anyone still pays any attention to anything Nigel Lawson says. He’s a climate change denier who lives in France. He doesn’t even live in Britain, yet he’s telling us what to do? Ignore him.</td>\n",
              "    </tr>\n",
              "    <tr>\n",
              "      <th>637375797293023232</th>\n",
              "      <td>How will climate change affect business? http://t.co/I91FKlOJl2</td>\n",
              "    </tr>\n",
              "    <tr>\n",
              "      <th>460668362712829952</th>\n",
              "      <td>@missah8 been a crazy weather year damn global warming. Hopefully your winter will be a lot nicer then ours was Play Minecraft when I do :-)</td>\n",
              "    </tr>\n",
              "    <tr>\n",
              "      <th>6198431856</th>\n",
              "      <td>@dindacindyarini ada global warming cinnnnnnnnnnn hahaha</td>\n",
              "    </tr>\n",
              "    <tr>\n",
              "      <th>137854521572474880</th>\n",
              "      <td>“@fredtalbotitv: Just been to the post box to send some letters and did  not even wear a fleece. Amazing for November .” #globalwarming</td>\n",
              "    </tr>\n",
              "    <tr>\n",
              "      <th>5625537940</th>\n",
              "      <td>@ZAIRE_ global warming = my guy</td>\n",
              "    </tr>\n",
              "    <tr>\n",
              "      <th>946851037528207360</th>\n",
              "      <td>RT @RepDonBeyer: 1: This isn’t how climate change works.\\n\\n2: We weren’t paying trillions of dollars. You didn’t understand the Paris Agreem…</td>\n",
              "    </tr>\n",
              "    <tr>\n",
              "      <th>1042959451333046274</th>\n",
              "      <td>RT @glenklatovsky: The Australian government has walked away from climate change action @350Australia #ClimateAction #auspol https://t.co/L…</td>\n",
              "    </tr>\n",
              "    <tr>\n",
              "      <th>1067798888868995072</th>\n",
              "      <td>RT @Ocasio2018: Two weeks ago, we took a risk to support @sunrisemvmt‘s demand for Dems put climate change at the top of our agenda.\\n\\nWe we…</td>\n",
              "    </tr>\n",
              "    <tr>\n",
              "      <th>758354583475347456</th>\n",
              "      <td>Scientists caught off-guard by record temperatures linked to climate change | Reuters https://t.co/F3N2GCJCC2</td>\n",
              "    </tr>\n",
              "  </tbody>\n",
              "</table>\n",
              "</div>\n",
              "    <div class=\"colab-df-buttons\">\n",
              "\n",
              "  <div class=\"colab-df-container\">\n",
              "    <button class=\"colab-df-convert\" onclick=\"convertToInteractive('df-8f0c78d5-d423-4aea-9c71-1a2f14c17071')\"\n",
              "            title=\"Convert this dataframe to an interactive table.\"\n",
              "            style=\"display:none;\">\n",
              "\n",
              "  <svg xmlns=\"http://www.w3.org/2000/svg\" height=\"24px\" viewBox=\"0 -960 960 960\">\n",
              "    <path d=\"M120-120v-720h720v720H120Zm60-500h600v-160H180v160Zm220 220h160v-160H400v160Zm0 220h160v-160H400v160ZM180-400h160v-160H180v160Zm440 0h160v-160H620v160ZM180-180h160v-160H180v160Zm440 0h160v-160H620v160Z\"/>\n",
              "  </svg>\n",
              "    </button>\n",
              "\n",
              "  <style>\n",
              "    .colab-df-container {\n",
              "      display:flex;\n",
              "      gap: 12px;\n",
              "    }\n",
              "\n",
              "    .colab-df-convert {\n",
              "      background-color: #E8F0FE;\n",
              "      border: none;\n",
              "      border-radius: 50%;\n",
              "      cursor: pointer;\n",
              "      display: none;\n",
              "      fill: #1967D2;\n",
              "      height: 32px;\n",
              "      padding: 0 0 0 0;\n",
              "      width: 32px;\n",
              "    }\n",
              "\n",
              "    .colab-df-convert:hover {\n",
              "      background-color: #E2EBFA;\n",
              "      box-shadow: 0px 1px 2px rgba(60, 64, 67, 0.3), 0px 1px 3px 1px rgba(60, 64, 67, 0.15);\n",
              "      fill: #174EA6;\n",
              "    }\n",
              "\n",
              "    .colab-df-buttons div {\n",
              "      margin-bottom: 4px;\n",
              "    }\n",
              "\n",
              "    [theme=dark] .colab-df-convert {\n",
              "      background-color: #3B4455;\n",
              "      fill: #D2E3FC;\n",
              "    }\n",
              "\n",
              "    [theme=dark] .colab-df-convert:hover {\n",
              "      background-color: #434B5C;\n",
              "      box-shadow: 0px 1px 3px 1px rgba(0, 0, 0, 0.15);\n",
              "      filter: drop-shadow(0px 1px 2px rgba(0, 0, 0, 0.3));\n",
              "      fill: #FFFFFF;\n",
              "    }\n",
              "  </style>\n",
              "\n",
              "    <script>\n",
              "      const buttonEl =\n",
              "        document.querySelector('#df-8f0c78d5-d423-4aea-9c71-1a2f14c17071 button.colab-df-convert');\n",
              "      buttonEl.style.display =\n",
              "        google.colab.kernel.accessAllowed ? 'block' : 'none';\n",
              "\n",
              "      async function convertToInteractive(key) {\n",
              "        const element = document.querySelector('#df-8f0c78d5-d423-4aea-9c71-1a2f14c17071');\n",
              "        const dataTable =\n",
              "          await google.colab.kernel.invokeFunction('convertToInteractive',\n",
              "                                                    [key], {});\n",
              "        if (!dataTable) return;\n",
              "\n",
              "        const docLinkHtml = 'Like what you see? Visit the ' +\n",
              "          '<a target=\"_blank\" href=https://colab.research.google.com/notebooks/data_table.ipynb>data table notebook</a>'\n",
              "          + ' to learn more about interactive tables.';\n",
              "        element.innerHTML = '';\n",
              "        dataTable['output_type'] = 'display_data';\n",
              "        await google.colab.output.renderOutput(dataTable, element);\n",
              "        const docLink = document.createElement('div');\n",
              "        docLink.innerHTML = docLinkHtml;\n",
              "        element.appendChild(docLink);\n",
              "      }\n",
              "    </script>\n",
              "  </div>\n",
              "\n",
              "\n",
              "<div id=\"df-f5f20ebe-2127-4057-8a22-953c26951658\">\n",
              "  <button class=\"colab-df-quickchart\" onclick=\"quickchart('df-f5f20ebe-2127-4057-8a22-953c26951658')\"\n",
              "            title=\"Suggest charts\"\n",
              "            style=\"display:none;\">\n",
              "\n",
              "<svg xmlns=\"http://www.w3.org/2000/svg\" height=\"24px\"viewBox=\"0 0 24 24\"\n",
              "     width=\"24px\">\n",
              "    <g>\n",
              "        <path d=\"M19 3H5c-1.1 0-2 .9-2 2v14c0 1.1.9 2 2 2h14c1.1 0 2-.9 2-2V5c0-1.1-.9-2-2-2zM9 17H7v-7h2v7zm4 0h-2V7h2v10zm4 0h-2v-4h2v4z\"/>\n",
              "    </g>\n",
              "</svg>\n",
              "  </button>\n",
              "\n",
              "<style>\n",
              "  .colab-df-quickchart {\n",
              "      --bg-color: #E8F0FE;\n",
              "      --fill-color: #1967D2;\n",
              "      --hover-bg-color: #E2EBFA;\n",
              "      --hover-fill-color: #174EA6;\n",
              "      --disabled-fill-color: #AAA;\n",
              "      --disabled-bg-color: #DDD;\n",
              "  }\n",
              "\n",
              "  [theme=dark] .colab-df-quickchart {\n",
              "      --bg-color: #3B4455;\n",
              "      --fill-color: #D2E3FC;\n",
              "      --hover-bg-color: #434B5C;\n",
              "      --hover-fill-color: #FFFFFF;\n",
              "      --disabled-bg-color: #3B4455;\n",
              "      --disabled-fill-color: #666;\n",
              "  }\n",
              "\n",
              "  .colab-df-quickchart {\n",
              "    background-color: var(--bg-color);\n",
              "    border: none;\n",
              "    border-radius: 50%;\n",
              "    cursor: pointer;\n",
              "    display: none;\n",
              "    fill: var(--fill-color);\n",
              "    height: 32px;\n",
              "    padding: 0;\n",
              "    width: 32px;\n",
              "  }\n",
              "\n",
              "  .colab-df-quickchart:hover {\n",
              "    background-color: var(--hover-bg-color);\n",
              "    box-shadow: 0 1px 2px rgba(60, 64, 67, 0.3), 0 1px 3px 1px rgba(60, 64, 67, 0.15);\n",
              "    fill: var(--button-hover-fill-color);\n",
              "  }\n",
              "\n",
              "  .colab-df-quickchart-complete:disabled,\n",
              "  .colab-df-quickchart-complete:disabled:hover {\n",
              "    background-color: var(--disabled-bg-color);\n",
              "    fill: var(--disabled-fill-color);\n",
              "    box-shadow: none;\n",
              "  }\n",
              "\n",
              "  .colab-df-spinner {\n",
              "    border: 2px solid var(--fill-color);\n",
              "    border-color: transparent;\n",
              "    border-bottom-color: var(--fill-color);\n",
              "    animation:\n",
              "      spin 1s steps(1) infinite;\n",
              "  }\n",
              "\n",
              "  @keyframes spin {\n",
              "    0% {\n",
              "      border-color: transparent;\n",
              "      border-bottom-color: var(--fill-color);\n",
              "      border-left-color: var(--fill-color);\n",
              "    }\n",
              "    20% {\n",
              "      border-color: transparent;\n",
              "      border-left-color: var(--fill-color);\n",
              "      border-top-color: var(--fill-color);\n",
              "    }\n",
              "    30% {\n",
              "      border-color: transparent;\n",
              "      border-left-color: var(--fill-color);\n",
              "      border-top-color: var(--fill-color);\n",
              "      border-right-color: var(--fill-color);\n",
              "    }\n",
              "    40% {\n",
              "      border-color: transparent;\n",
              "      border-right-color: var(--fill-color);\n",
              "      border-top-color: var(--fill-color);\n",
              "    }\n",
              "    60% {\n",
              "      border-color: transparent;\n",
              "      border-right-color: var(--fill-color);\n",
              "    }\n",
              "    80% {\n",
              "      border-color: transparent;\n",
              "      border-right-color: var(--fill-color);\n",
              "      border-bottom-color: var(--fill-color);\n",
              "    }\n",
              "    90% {\n",
              "      border-color: transparent;\n",
              "      border-bottom-color: var(--fill-color);\n",
              "    }\n",
              "  }\n",
              "</style>\n",
              "\n",
              "  <script>\n",
              "    async function quickchart(key) {\n",
              "      const quickchartButtonEl =\n",
              "        document.querySelector('#' + key + ' button');\n",
              "      quickchartButtonEl.disabled = true;  // To prevent multiple clicks.\n",
              "      quickchartButtonEl.classList.add('colab-df-spinner');\n",
              "      try {\n",
              "        const charts = await google.colab.kernel.invokeFunction(\n",
              "            'suggestCharts', [key], {});\n",
              "      } catch (error) {\n",
              "        console.error('Error during call to suggestCharts:', error);\n",
              "      }\n",
              "      quickchartButtonEl.classList.remove('colab-df-spinner');\n",
              "      quickchartButtonEl.classList.add('colab-df-quickchart-complete');\n",
              "    }\n",
              "    (() => {\n",
              "      let quickchartButtonEl =\n",
              "        document.querySelector('#df-f5f20ebe-2127-4057-8a22-953c26951658 button');\n",
              "      quickchartButtonEl.style.display =\n",
              "        google.colab.kernel.accessAllowed ? 'block' : 'none';\n",
              "    })();\n",
              "  </script>\n",
              "</div>\n",
              "\n",
              "    </div>\n",
              "  </div>\n"
            ],
            "application/vnd.google.colaboratory.intrinsic+json": {
              "type": "dataframe",
              "summary": "{\n  \"name\": \"text_df\",\n  \"rows\": 10,\n  \"fields\": [\n    {\n      \"column\": \"id\",\n      \"properties\": {\n        \"dtype\": \"number\",\n        \"std\": 440234263289032000,\n        \"min\": 5625537940,\n        \"max\": 1080829708714102784,\n        \"num_unique_values\": 10,\n        \"samples\": [\n          1067798888868995072,\n          637375797293023232,\n          5625537940\n        ],\n        \"semantic_type\": \"\",\n        \"description\": \"\"\n      }\n    },\n    {\n      \"column\": \"text\",\n      \"properties\": {\n        \"dtype\": \"string\",\n        \"num_unique_values\": 10,\n        \"samples\": [\n          \"RT @Ocasio2018: Two weeks ago, we took a risk to support @sunrisemvmt\\u2018s demand for Dems put climate change at the top of our agenda.\\n\\nWe we\\u2026\",\n          \"How will climate change affect business? http://t.co/I91FKlOJl2\",\n          \"@ZAIRE_ global warming = my guy\"\n        ],\n        \"semantic_type\": \"\",\n        \"description\": \"\"\n      }\n    }\n  ]\n}"
            }
          },
          "metadata": {},
          "execution_count": 13
        }
      ]
    },
    {
      "cell_type": "code",
      "source": [
        "# Ok how many duplicates do we have?\n",
        "n_duplicates = text_df.duplicated().sum()\n",
        "print(f\"{n_duplicates} total duplicates\")\n",
        "print(f\"{n_duplicates / text_df.shape[0] * 100}% duplicates\")"
      ],
      "metadata": {
        "colab": {
          "base_uri": "https://localhost:8080/"
        },
        "id": "uofXNTcTSmvH",
        "outputId": "55274373-7fbb-4258-b528-0c5a6baa1179"
      },
      "execution_count": 14,
      "outputs": [
        {
          "output_type": "stream",
          "name": "stdout",
          "text": [
            "6385951 total duplicates\n",
            "40.444516898065416% duplicates\n"
          ]
        }
      ]
    },
    {
      "cell_type": "code",
      "source": [
        "no_dupes_df = text_df.drop_duplicates()"
      ],
      "metadata": {
        "id": "0_Slxw-OUQCh"
      },
      "execution_count": 15,
      "outputs": []
    },
    {
      "cell_type": "code",
      "source": [
        "# Do we have null values?\n",
        "no_dupes_df.isnull().sum()"
      ],
      "metadata": {
        "colab": {
          "base_uri": "https://localhost:8080/"
        },
        "id": "IWBzfk_zT-0k",
        "outputId": "74a842f6-d18a-4211-ab55-3b7452f01cbb"
      },
      "execution_count": 16,
      "outputs": [
        {
          "output_type": "execute_result",
          "data": {
            "text/plain": [
              "text    0\n",
              "dtype: int64"
            ]
          },
          "metadata": {},
          "execution_count": 16
        }
      ]
    },
    {
      "cell_type": "code",
      "source": [
        "# What is the distribution of the length of the tweets?\n",
        "# Calculate the length of each string in the 'text' column\n",
        "no_dupes_df['text_length'] = no_dupes_df['text'].str.len()\n",
        "\n",
        "# Plot the distribution of string lengths\n",
        "plt.hist(no_dupes_df['text_length'], bins=20, color='skyblue', edgecolor='black')\n",
        "plt.title('Distribution of String Lengths')\n",
        "plt.xlabel('Length of Strings')\n",
        "plt.ylabel('Frequency')\n",
        "plt.grid(True)\n",
        "plt.show()"
      ],
      "metadata": {
        "colab": {
          "base_uri": "https://localhost:8080/",
          "height": 576
        },
        "id": "t-qj5vU-UW4h",
        "outputId": "7d7ddb5b-aef4-4232-ede7-de78ea3a1c66"
      },
      "execution_count": 17,
      "outputs": [
        {
          "output_type": "stream",
          "name": "stderr",
          "text": [
            "<ipython-input-17-777e7e0b9bc8>:3: SettingWithCopyWarning: \n",
            "A value is trying to be set on a copy of a slice from a DataFrame.\n",
            "Try using .loc[row_indexer,col_indexer] = value instead\n",
            "\n",
            "See the caveats in the documentation: https://pandas.pydata.org/pandas-docs/stable/user_guide/indexing.html#returning-a-view-versus-a-copy\n",
            "  no_dupes_df['text_length'] = no_dupes_df['text'].str.len()\n"
          ]
        },
        {
          "output_type": "display_data",
          "data": {
            "text/plain": [
              "<Figure size 640x480 with 1 Axes>"
            ],
            "image/png": "[encoded data removed]"
          },
          "metadata": {}
        }
      ]
    },
    {
      "cell_type": "markdown",
      "source": [
        "This distribution makes sense since the original length of tweets was 140chars and then got increased to 280chars. So we see a big spike at 140 and then a tail up to 280."
      ],
      "metadata": {
        "id": "OYodB7J3V1B6"
      }
    },
    {
      "cell_type": "code",
      "source": [
        "# Merge in Timestamp Data\n",
        "timestamps_df.set_index('id', inplace=True)"
      ],
      "metadata": {
        "id": "GYTQOeQaVzoI"
      },
      "execution_count": 18,
      "outputs": []
    },
    {
      "cell_type": "code",
      "source": [
        "merged_df = no_dupes_df.merge(timestamps_df, left_index=True, right_index=True)"
      ],
      "metadata": {
        "id": "_u7vkDu3n2bf"
      },
      "execution_count": 19,
      "outputs": []
    },
    {
      "cell_type": "code",
      "source": [
        "# What do the timestamps look like?\n",
        "n_null_timestamps = merged_df['created_at'].isnull().sum()\n",
        "print(f'N Null timestamps: {n_null_timestamps}')\n",
        "print('Example Timestamp: ',merged_df.iloc[0]['created_at'])\n",
        "print(merged_df['created_at'])"
      ],
      "metadata": {
        "colab": {
          "base_uri": "https://localhost:8080/"
        },
        "id": "Ibd7opGedTEk",
        "outputId": "8f976d02-5e97-4e8e-ff66-12bf517536c9"
      },
      "execution_count": 20,
      "outputs": [
        {
          "output_type": "stream",
          "name": "stdout",
          "text": [
            "N Null timestamps: 0\n",
            "Example Timestamp:  2006-06-06 16:06:42+00:00\n",
            "id\n",
            "6132                   2006-06-06 16:06:42+00:00\n",
            "13275                  2006-07-23 21:52:30+00:00\n",
            "23160                  2006-08-29 01:52:30+00:00\n",
            "57868                  2006-11-07 02:46:52+00:00\n",
            "304553                 2006-11-27 14:27:43+00:00\n",
            "                                 ...            \n",
            "1178906786792972288    2019-10-01 05:37:35+00:00\n",
            "1178908472919769088    2019-10-01 05:44:17+00:00\n",
            "1178908993022042112    2019-10-01 05:46:21+00:00\n",
            "1178909001414610944    2019-10-01 05:46:23+00:00\n",
            "1178910020626464768    2019-10-01 05:50:26+00:00\n",
            "Name: created_at, Length: 9403460, dtype: object\n"
          ]
        }
      ]
    },
    {
      "cell_type": "code",
      "source": [
        "# Convert 'created_at' into timestamp\n",
        "merged_df['timestamp'] = pd.to_datetime(merged_df['created_at'])"
      ],
      "metadata": {
        "id": "b8kzSlgWey_s"
      },
      "execution_count": 21,
      "outputs": []
    },
    {
      "cell_type": "code",
      "source": [
        "# Group by year and count the number of rows per year\n",
        "rows_per_year = merged_df.groupby(merged_df['timestamp'].dt.year).size()\n",
        "print(rows_per_year)"
      ],
      "metadata": {
        "colab": {
          "base_uri": "https://localhost:8080/"
        },
        "id": "aTYIXJ1mfXGL",
        "outputId": "08264609-0371-4dfb-f03e-cfb0c9a8d5ba"
      },
      "execution_count": 22,
      "outputs": [
        {
          "output_type": "stream",
          "name": "stdout",
          "text": [
            "timestamp\n",
            "2006         12\n",
            "2007       3597\n",
            "2008      28946\n",
            "2009     448153\n",
            "2010     409508\n",
            "2011     294049\n",
            "2012     186319\n",
            "2013     268237\n",
            "2014     371940\n",
            "2015    1206970\n",
            "2016    1142734\n",
            "2017    1488244\n",
            "2018    2717974\n",
            "2019     836777\n",
            "dtype: int64\n"
          ]
        }
      ]
    },
    {
      "cell_type": "code",
      "source": [
        "# Looks like the timestamps are working, so let's drop the 'created_at' str\n",
        "merged_df.drop('created_at', axis=1, inplace=True)"
      ],
      "metadata": {
        "id": "uvKV2hNHft7N"
      },
      "execution_count": 23,
      "outputs": []
    },
    {
      "cell_type": "markdown",
      "source": [
        "## NLP Cleaning\n",
        "\n",
        "At this point, having done the basic data cleanup, there is a lot of more nuanced language processing that can be done. Since we're going to be doing Topic analysis and Emotion Labelling, we can assume we're going to want to clean up the text and possibly already tokenize our strings.\n",
        "\n",
        "### 1. Text Preprocessing\n",
        "\n",
        "Our goal is to make the text as regular as possible and the token count (dictionary) should be as small as possible.\n",
        "Some [basic text preprocessing](https://medium.com/@farhahahahahan/03-basic-text-preprocessing-nlp-90ea4469fb87) steps are:\n",
        "- lowercasing\n",
        "- remove html\n",
        "- remove urls\n",
        "- remove punctuation\n",
        "- remove users\n",
        "- remove hashtags (but we want to retain the actual hashtag text)\n",
        "- remove emails\n",
        "- remove low info chars\n",
        "\n",
        "Some further token-based treatment that might be better done in EDA are:\n",
        "- tokenization\n",
        "- stopword removal\n",
        "- spelling correction\n",
        "- chatword translation\n",
        "- handling emoji\n",
        "- filtering for language (english)\n",
        "- lemmatization / stemming\n"
      ],
      "metadata": {
        "id": "mwCM-v01h9Ft"
      }
    },
    {
      "cell_type": "code",
      "source": [
        "# Preprocess tweet text\n",
        "\n",
        "def lower(text):\n",
        "  return text.lower()\n",
        "\n",
        "def remove_urls(text):\n",
        "  # remove anything with a domain extension like ending\n",
        "  text = re.sub(r'https?://\\S+|http?://\\S+', ' ', text)\n",
        "  text = re.sub(r'\\b\\w+\\.\\w+\\b',' ',text)\n",
        "  text = re.sub(r'www\\.[^\\s]+', ' ', text)\n",
        "  # remove words containing '://'\n",
        "  text = re.sub(r'\\b\\S*:\\/\\/\\S*\\b', ' ', text)\n",
        "  return text\n",
        "\n",
        "def remove_html_tags(text):\n",
        "  return re.sub('<.*?>', ' ', text)\n",
        "\n",
        "def remove_user_mentions(text):\n",
        "  return re.sub(r'@\\w+', ' ', text)\n",
        "\n",
        "def remove_email_addresses(text):\n",
        "  return re.sub(r'\\S+@\\S+', ' ', text)\n",
        "\n",
        "def remove_escape_sequences(text):\n",
        "  return re.sub(r'[\\r\\n]+', ' ', text)\n",
        "\n",
        "def translate_emoji(text):\n",
        "  # translate emoji to text\n",
        "  return emoji.demojize(text)\n",
        "\n",
        "def remove_contraction(text):\n",
        "  return re.sub(r'(?<=[a-zA-Z])\\'(?=[a-zA-Z])', '', text)\n",
        "\n",
        "def remove_low_info_chars(text):\n",
        "  # remove chars that do not retain much 'meaning'\n",
        "  # in this case we retain only a-z, 0-9, '!', and '?'\n",
        "  return re.sub(r'[^0-9a-z\\s!?]', ' ', text)\n",
        "\n",
        "def preprocess(text):\n",
        "  text = lower(text)\n",
        "  text = remove_urls(text)\n",
        "  text = remove_html_tags(text)\n",
        "  text = remove_user_mentions(text)\n",
        "  text = translate_emoji(text)\n",
        "  text = remove_contraction(text)\n",
        "  text = remove_escape_sequences(text)\n",
        "  text = remove_low_info_chars(text)\n",
        "  return text\n",
        "\n",
        "def applyPreprocessing(sr):\n",
        "  return sr.apply(preprocess)"
      ],
      "metadata": {
        "id": "w9dr6vy0gB2-"
      },
      "execution_count": 24,
      "outputs": []
    },
    {
      "cell_type": "code",
      "source": [
        "# Let's test the preprocessing on a small sample\n",
        "test = applyPreprocessing(merged_df['text'].sample(10000))"
      ],
      "metadata": {
        "id": "rSr4xhieykyD"
      },
      "execution_count": 25,
      "outputs": []
    },
    {
      "cell_type": "code",
      "source": [
        "# Let's test to see if the output looks nice\n",
        "# There are a lot of spaces and some of the tokens are a bit strange ie 80sf, but these are cases that can be handled on a token basis\n",
        "for i, doc in enumerate(test.values[120:130]):\n",
        "  print(i,doc)"
      ],
      "metadata": {
        "colab": {
          "base_uri": "https://localhost:8080/"
        },
        "id": "zO6OMSTUvGSJ",
        "outputId": "e423374a-e7f5-41ad-a106-291fa00a8d0f"
      },
      "execution_count": 26,
      "outputs": [
        {
          "output_type": "stream",
          "name": "stdout",
          "text": [
            "0 tell   you cant stop  climatechange unless you  keepitintheground  no  coal  exports in wa  \n",
            "1 rt catholics  what do you think of pope franciss encyclical on climate change?    \n",
            "2 livesquad  thug mob lp the global warming coming soon!! kapaneli da don\n",
            "3   a short balanced account of we need to act decisively on climate change  97  amazon  amp  shops\n",
            "4   what could  cocacola do to fight  globalwarming?  openletter  buytheworldahope    \n",
            "5       global warming must have got real bad if kenya is on the north coast of africa  dumbass\n",
            "6 planting trees in extreme heat doesnt bring the heat down it doesnt even help the baby plants  they will die  plant them in jan  also  climate change is a gradual process with many factors  repair all of them  barbaadi 15 20 saal mein lagi hai  sahi bhi 15 20 saal mein hoga \n",
            "7 surprise!  brexiteers  amp  climate change deniers make up a cosy power network  however  their cliff is crumbling     \n",
            "8 a weekend camp on climate change is educating people about our earth      climatechange\n",
            "9 tv review  jared harris in  the terror  on amc   variety    arctic  climatechange\n"
          ]
        }
      ]
    },
    {
      "cell_type": "code",
      "source": [
        "# There's a strange string 'lqiq3jwcut' that might be a part of a url or something, let's investigate\n",
        "# It looks like strings starting with \"://\" should be treated as urls also\n",
        "merged_df.loc[770113887576395776]"
      ],
      "metadata": {
        "colab": {
          "base_uri": "https://localhost:8080/"
        },
        "id": "0FpZTziGv_lm",
        "outputId": "0e16755e-ff7e-4581-ef7b-68d0da682f5a"
      },
      "execution_count": 27,
      "outputs": [
        {
          "output_type": "execute_result",
          "data": {
            "text/plain": [
              "text           American pika vanishing from western US as 'habitat lost to climate change' https://t.co/CxUZFWhQhb ://t.co/LQIq3jwcUt RT @ClimateNexus\n",
              "text_length                                                                                                                                        135\n",
              "timestamp                                                                                                                    2016-08-29 04:20:33+00:00\n",
              "Name: 770113887576395776, dtype: object"
            ]
          },
          "metadata": {},
          "execution_count": 27
        }
      ]
    },
    {
      "cell_type": "code",
      "source": [
        "# How long would it take to run the preprocessing on all ~10m tweets?\n",
        "# A: Running on 100k tweets is 19s, so 10m would be 100x that... a bit long\n",
        "test = applyPreprocessing(merged_df['text'].sample(100000))"
      ],
      "metadata": {
        "id": "xPlrT_-ZwXCD"
      },
      "execution_count": 28,
      "outputs": []
    },
    {
      "cell_type": "code",
      "source": [
        "# We only have 2 cores, we're going to need a better runtime\n",
        "# Ah, the GPU100 env has 8-12 cores, much better!"
      ],
      "metadata": {
        "id": "u83kFuiv3l2O"
      },
      "execution_count": 29,
      "outputs": []
    },
    {
      "cell_type": "code",
      "source": [
        "# Both of these took around 20s to run, something is not right with the parallelization\n",
        "# How many cores do we have?\n",
        "import multiprocessing\n",
        "\n",
        "num_cores = multiprocessing.cpu_count()\n",
        "print(\"Number of CPU cores available:\", num_cores)"
      ],
      "metadata": {
        "colab": {
          "base_uri": "https://localhost:8080/"
        },
        "id": "tz6ZfiF73FB3",
        "outputId": "765e67e6-b4c8-4661-ff6c-cc380536d1b5"
      },
      "execution_count": 30,
      "outputs": [
        {
          "output_type": "stream",
          "name": "stdout",
          "text": [
            "Number of CPU cores available: 8\n"
          ]
        }
      ]
    },
    {
      "cell_type": "code",
      "source": [
        "# Apply the function to each row of the DataFrame in parallel\n",
        "# Runtime here is 4mins for the ~10m rows\n",
        "\n",
        "# Define a function to apply preprocessing to each element of the Series in parallel\n",
        "def apply_preprocessing_parallel(sr):\n",
        "    n_jobs = -1 # use all cores\n",
        "    return Parallel(n_jobs=n_jobs)(delayed(preprocess)(text) for text in sr)\n",
        "\n",
        "preprocessed_texts = apply_preprocessing_parallel(merged_df['text'])"
      ],
      "metadata": {
        "id": "uZ-J43XztbDo"
      },
      "execution_count": 31,
      "outputs": []
    },
    {
      "cell_type": "code",
      "source": [
        "merged_df['preprocessed'] = preprocessed_texts"
      ],
      "metadata": {
        "id": "d_-fLqRt4JsG"
      },
      "execution_count": 32,
      "outputs": []
    },
    {
      "cell_type": "code",
      "source": [
        "merged_df.info()"
      ],
      "metadata": {
        "colab": {
          "base_uri": "https://localhost:8080/"
        },
        "id": "D9MkKrxO6jms",
        "outputId": "3c6bddc4-9a50-4e9e-fde5-3b4d01fd67a8"
      },
      "execution_count": 33,
      "outputs": [
        {
          "output_type": "stream",
          "name": "stdout",
          "text": [
            "<class 'pandas.core.frame.DataFrame'>\n",
            "Int64Index: 9403460 entries, 6132 to 1178910020626464768\n",
            "Data columns (total 4 columns):\n",
            " #   Column        Dtype              \n",
            "---  ------        -----              \n",
            " 0   text          object             \n",
            " 1   text_length   int64              \n",
            " 2   timestamp     datetime64[ns, UTC]\n",
            " 3   preprocessed  object             \n",
            "dtypes: datetime64[ns, UTC](1), int64(1), object(2)\n",
            "memory usage: 616.7+ MB\n"
          ]
        }
      ]
    },
    {
      "cell_type": "code",
      "source": [
        "merged_df.drop(columns=['text_length'], inplace=True)"
      ],
      "metadata": {
        "id": "sobOEPqS6o0B"
      },
      "execution_count": 34,
      "outputs": []
    },
    {
      "cell_type": "code",
      "source": [
        "# Tokenization\n",
        "# Now that we've preprocessed out text, we want to tokenize it and explore what our token-space looks like\n",
        "# We use a set for tokens as we treat our tokens as a bag-of-words\n",
        "\n",
        "def handle_punctuation(text):\n",
        "  # We want to buffer '!' and '?' with whitespace to treat them as tokens\n",
        "  return text.replace('!', ' ! ').replace('?', ' ? ')\n",
        "\n",
        "def tokenize(text):\n",
        "  # We use the most basic tokenization approach, splitting by whitespace\n",
        "  # this is reasonable since we've preprocessed all the punctuation and formatting\n",
        "  return {token.strip() for token in text.split()}\n",
        "\n",
        "def applyTokenization(sr):\n",
        "  return sr.apply(handle_punctuation).apply(tokenize)"
      ],
      "metadata": {
        "id": "VNDoAP6RBbhb"
      },
      "execution_count": 35,
      "outputs": []
    },
    {
      "cell_type": "code",
      "source": [
        "# Apply Tokenization\n",
        "# runtime(100k)=1.23s so we would expect runtime(10m)=123s\n",
        "%%time\n",
        "tokens_sr = applyTokenization(merged_df['preprocessed'])\n",
        "print(f'Tokenized {len(tokens_sr)} rows')"
      ],
      "metadata": {
        "colab": {
          "base_uri": "https://localhost:8080/"
        },
        "id": "yFyPuvOuEecr",
        "outputId": "167274a6-b102-41dc-c494-3e2f55af5211"
      },
      "execution_count": 36,
      "outputs": [
        {
          "output_type": "stream",
          "name": "stdout",
          "text": [
            "Tokenized 9403460 rows\n",
            "CPU times: user 1min 31s, sys: 11.2 s, total: 1min 42s\n",
            "Wall time: 1min 41s\n"
          ]
        }
      ]
    },
    {
      "cell_type": "code",
      "source": [
        "# Check to make sure Tokenization went as expected\n",
        "# The tokens look well formed, but there are definitely tokens that we want to clean\n",
        "pd.set_option('display.max_colwidth', None)\n",
        "tokens_sr.sample(10)"
      ],
      "metadata": {
        "colab": {
          "base_uri": "https://localhost:8080/"
        },
        "id": "7awo4cVsFbXx",
        "outputId": "3300e686-0de3-4047-eadf-14c2589d40c6"
      },
      "execution_count": 37,
      "outputs": [
        {
          "output_type": "execute_result",
          "data": {
            "text/plain": [
              "id\n",
              "1040080155698491392                                                                                                                                                                                                         {number, hungry, people, climate, partly, to, is, growing, says, change, with, worldwide, un, blame, of}\n",
              "438995831665209344                                                                                                                                                           {allow, mass, global, funding, pretty, immigrants, of, dont, we, warming, deportation, organisations, it, doesnt, with, agree, says, exist, stop, much}\n",
              "2569020665                                                                                                                                                                                                     {make, change, alone, on, and, wants, clear, usage, climate, if, we, china, it, other, that, countries, to, lead, go}\n",
              "145723922871103488                                                                                                                                                                                   {climate, united, warming, debate, photographer, headed, nations, zenit, global, talks, towa, envoys, paul, un, pact, langrock}\n",
              "978242530365059072                                                                                                                                                                  {change, uk, be, first, is, ever, rt, coal, wh, of, because, the, a, climate, in, rejected, vindication, this, to, impacts, everyone, mine, for}\n",
              "997096105488740352     {sex, glaciers, change, trillion, on, godjunkies, anti, pollution, breed, 95, resource, contaminating, foodchain, last, global, wildlife, 300, of, 65yrs, climate, air, wastelaying, debt, land, water, more, abortion, contraception, lgbt, to, nature, overpopulation, devastation, 237, unprotected, gods}\n",
              "1094797670496063616                                                                                                                                                                                                                                             {warming, heres, blamed, global, list, everything, on, of, handy, a}\n",
              "917760459012562945                                                                                                                                                                                                                                       {ahead, s, hope, amp, new, for, gives, fight, climatechange, book, the, us}\n",
              "871147127388418048                                                                                                                                                                                      {climate, after, trump, cooperation, emmanuel, news, change, narendra, energy, pledge, pulls, modi, macron, cyprus, on, and}\n",
              "934356660872675328                                                                                                                                        {me, womensrights, about, be, great, and, !, thanks, motivated, yesterday, chatting, hosting, globaldev, girls, with, at, to, really, some, climatechange, for, inspiring}\n",
              "Name: preprocessed, dtype: object"
            ]
          },
          "metadata": {},
          "execution_count": 37
        }
      ]
    },
    {
      "cell_type": "code",
      "source": [
        "# What is the distribution of our tokens?\n",
        "\n",
        "tokens_list = tokens_sr.tolist()\n",
        "all_tokens_list = [token for tokens in tokens_list for token in tokens]\n",
        "freq_dist = FreqDist(all_tokens_list)"
      ],
      "metadata": {
        "id": "H3OFlRvLIRXX"
      },
      "execution_count": 38,
      "outputs": []
    },
    {
      "cell_type": "code",
      "source": [
        "# Plot the distribution of token frequencies\n",
        "token_freqs = sorted(list(freq_dist.values()), reverse=True)\n",
        "x = np.arange(0, len(token_freqs), 1)\n",
        "\n",
        "# Plot Frequency line\n",
        "plt.plot(x, token_freqs)\n",
        "plt.ylabel('Average Frequency')\n",
        "plt.xlabel('Token Rank')\n",
        "plt.title('Histogram of Average Token Frequencies')\n",
        "plt.show()"
      ],
      "metadata": {
        "colab": {
          "base_uri": "https://localhost:8080/",
          "height": 472
        },
        "id": "r1Yi5YnZ-t7s",
        "outputId": "8112b77a-461f-4794-d0b3-362acec3aa66"
      },
      "execution_count": 39,
      "outputs": [
        {
          "output_type": "display_data",
          "data": {
            "text/plain": [
              "<Figure size 640x480 with 1 Axes>"
            ],
            "image/png": "[encoded data removed]"
          },
          "metadata": {}
        }
      ]
    },
    {
      "cell_type": "code",
      "source": [
        "# Plot the Distribution of the top N most relevant tokens\n",
        "# There's a huge right tail on the dist of tokens, with most being present only very few times and a very low % being... very present\n",
        "# so let's plot only the top N\n",
        "\n",
        "top_n = 100\n",
        "\n",
        "token_freqs = sorted(list(freq_dist.values()), reverse=True)[:top_n]\n",
        "x = np.arange(0, len(token_freqs), 1)\n",
        "\n",
        "# Plot Frequency line\n",
        "plt.plot(x, token_freqs)\n",
        "plt.ylabel('Token Frequency')\n",
        "plt.xlabel('Token Rank')\n",
        "plt.title('Histogram of Average Token Frequencies')\n",
        "plt.show()"
      ],
      "metadata": {
        "colab": {
          "base_uri": "https://localhost:8080/",
          "height": 472
        },
        "id": "tCVwH02MB9vg",
        "outputId": "95410a73-c180-4440-ba54-4b4a87d0f083"
      },
      "execution_count": 40,
      "outputs": [
        {
          "output_type": "display_data",
          "data": {
            "text/plain": [
              "<Figure size 640x480 with 1 Axes>"
            ],
            "image/png": "[encoded data removed]"
          },
          "metadata": {}
        }
      ]
    },
    {
      "cell_type": "code",
      "source": [
        "# Some Token Distribution stats\n",
        "print(f'There are {len(freq_dist)} unique tokens')\n",
        "print(f'There are {len(all_tokens_list)} total tokens')\n",
        "print(f'The ratio of unique to total tokens is: {len(freq_dist) / len(all_tokens_list)}')\n",
        "print(f'Representative i-th freqs:')\n",
        "token_freqs = sorted(list(freq_dist.values()), reverse=True)\n",
        "for i in range(0,10000,1000):\n",
        "  print(f'{i}th: {token_freqs[i]}')\n",
        "for i in range(10000,100000,10000):\n",
        "  print(f'{i}th: {token_freqs[i]}')\n",
        "print(f\"{token_freqs.index(3)}th: Index of first freq of 3\")\n",
        "print(f\"{token_freqs.index(2)}th: Index of first freq of 2\")\n",
        "print(f\"{token_freqs.index(1)}th: Index of first freq of 1\")"
      ],
      "metadata": {
        "colab": {
          "base_uri": "https://localhost:8080/"
        },
        "id": "tlpXYOBbThot",
        "outputId": "9b911ba5-423b-47f6-878f-2a4fa799aaaa"
      },
      "execution_count": 41,
      "outputs": [
        {
          "output_type": "stream",
          "name": "stdout",
          "text": [
            "There are 1017623 unique tokens\n",
            "There are 161835925 total tokens\n",
            "The ratio of unique to total tokens is: 0.006287991989417677\n",
            "Representative i-th freqs:\n",
            "0th: 5031565\n",
            "1000th: 19371\n",
            "2000th: 8491\n",
            "3000th: 5013\n",
            "4000th: 3347\n",
            "5000th: 2456\n",
            "6000th: 1886\n",
            "7000th: 1481\n",
            "8000th: 1203\n",
            "9000th: 993\n",
            "10000th: 839\n",
            "20000th: 247\n",
            "30000th: 117\n",
            "40000th: 69\n",
            "50000th: 46\n",
            "60000th: 33\n",
            "70000th: 25\n",
            "80000th: 20\n",
            "90000th: 16\n",
            "232345th: Index of first freq of 3\n",
            "292595th: Index of first freq of 2\n",
            "431867th: Index of first freq of 1\n"
          ]
        }
      ]
    },
    {
      "cell_type": "code",
      "source": [
        "# Based on the above, the top 2000 tokens seem to be the most significant.\n",
        "# What are our top Freqs?\n",
        "freq_dist.most_common(40)"
      ],
      "metadata": {
        "colab": {
          "base_uri": "https://localhost:8080/"
        },
        "id": "rVtxEKU0HQGs",
        "outputId": "549d2bc5-73eb-40ac-a45e-a56bbb208d8d"
      },
      "execution_count": 42,
      "outputs": [
        {
          "output_type": "execute_result",
          "data": {
            "text/plain": [
              "[('climate', 5031565),\n",
              " ('change', 4772628),\n",
              " ('the', 3932664),\n",
              " ('to', 3478031),\n",
              " ('global', 2836366),\n",
              " ('warming', 2678661),\n",
              " ('of', 2448967),\n",
              " ('is', 2219356),\n",
              " ('climatechange', 2152095),\n",
              " ('and', 2148223),\n",
              " ('a', 2067096),\n",
              " ('in', 1983561),\n",
              " ('on', 1663992),\n",
              " ('?', 1378958),\n",
              " ('for', 1315966),\n",
              " ('that', 1041630),\n",
              " ('rt', 1031641),\n",
              " ('!', 1020312),\n",
              " ('it', 993007),\n",
              " ('are', 908541),\n",
              " ('about', 857163),\n",
              " ('we', 841333),\n",
              " ('you', 828145),\n",
              " ('i', 826319),\n",
              " ('this', 807287),\n",
              " ('with', 723438),\n",
              " ('be', 703490),\n",
              " ('not', 654585),\n",
              " ('by', 607570),\n",
              " ('from', 590378),\n",
              " ('will', 552498),\n",
              " ('how', 525889),\n",
              " ('have', 516098),\n",
              " ('as', 513163),\n",
              " ('its', 508265),\n",
              " ('but', 508030),\n",
              " ('s', 497109),\n",
              " ('more', 487176),\n",
              " ('what', 485754),\n",
              " ('at', 484979)]"
            ]
          },
          "metadata": {},
          "execution_count": 42
        }
      ]
    },
    {
      "cell_type": "code",
      "source": [
        "# It looks like some tokens are single letters - which are they?\n",
        "for i in range(ord('a'), ord('z') + 1):\n",
        "  print(chr(i), freq_dist[chr(i)])"
      ],
      "metadata": {
        "colab": {
          "base_uri": "https://localhost:8080/"
        },
        "id": "f-aYLSuuD1xJ",
        "outputId": "a106c634-c0b7-4f7a-dca2-c950830899af"
      },
      "execution_count": 43,
      "outputs": [
        {
          "output_type": "stream",
          "name": "stdout",
          "text": [
            "a 2067096\n",
            "b 31741\n",
            "c 52055\n",
            "d 45454\n",
            "e 30363\n",
            "f 22360\n",
            "g 12273\n",
            "h 14388\n",
            "i 826319\n",
            "j 5896\n",
            "k 7417\n",
            "l 13559\n",
            "m 54359\n",
            "n 32345\n",
            "o 34543\n",
            "p 22004\n",
            "q 10404\n",
            "r 38414\n",
            "s 497109\n",
            "t 260378\n",
            "u 58657\n",
            "v 19736\n",
            "w 60465\n",
            "x 7797\n",
            "y 21215\n",
            "z 2102\n"
          ]
        }
      ]
    },
    {
      "cell_type": "code",
      "source": [
        "# Let's explore what the tweets look like for some of these\n",
        "# Let's roughly assume that tokens need to have a freq > 10000 to be 'relevant'\n",
        "merged_df['tokens'] = tokens_sr\n",
        "\n",
        "def get_examples_given_token(df, token):\n",
        "  df_subset = df[df['tokens'].apply(lambda tokens: token in tokens)]['text']\n",
        "  return(df_subset)\n",
        "\n",
        "get_examples_given_token(merged_df, 's').sample(10)"
      ],
      "metadata": {
        "colab": {
          "base_uri": "https://localhost:8080/"
        },
        "id": "OGlndAK0RMCD",
        "outputId": "a5ed4e3c-6fa9-4e77-a830-f339079e7a5e"
      },
      "execution_count": 44,
      "outputs": [
        {
          "output_type": "execute_result",
          "data": {
            "text/plain": [
              "id\n",
              "1068154346981007360    Aftenpost (NO) \"The Lancet Countdown report provides a stark reminder of the consequences for people’s health if we continue to procrastinate on climate change\"- @JeniMiller @GCHAlliance https://t.co/yPxNNdthYn @Aftenposten @aft_verden @LancetCountdown #LancetClimate18 https://t.co/3iepXjbrkb\n",
              "1039303837238976513                                                                                                     @MartyJBahamonde @Richard_Florida @fema It’s a good thing there’s no such thing as climate change - can you imagine how much worse it would be if it really existed...\\n(She said, tongue-in-cheek).\n",
              "672558771546247168                                                                                                                                                              @guardian @MSNBC @piersmorgan Based on @BillNye's evidence, gunfire responsible for 0.02% of #climatechange #NRA #2A https://t.co/bvSQUF9VlP\n",
              "693854540131667968                                                                                                                                                                                The Last Word On Nothing | Let’s stop pretending we give a damn about climate change, 2015 edition https://t.co/OG0mawoZph\n",
              "775410778933387264                                                                                                                                                                                                        @azeem to me, it’s clear we’ve begun to enter the heart of the main period of rapid climate change\n",
              "976841086181236736                                                                                                                                                                                so, as an example, what becomes of the student poster who’s a climate change, labeled denier? @UVA https://t.co/iNR8hXulzF\n",
              "1070357082581327872                                                                                                                                                                                                                 Katy Tur’s life is pointless, but not because of climate change. https://t.co/MF1OFulY8X\n",
              "976119977513123843                                                                                                                                                                                                                    “it’s the leonardo dicaprio movie about climate change”\\n“is it the titanic???!???!!!”\n",
              "588012024556290048                                                                                                                                                                  Here’s how Canada’s Provinces are responding to climate change: While Harper makes news of for announcing dela... http://t.co/bxI33dgIWd\n",
              "946963843133136897                                                                                                                                                                                                       The Trump administration’s position on climate change is all over the place https://t.co/cfZseCQfAU\n",
              "Name: text, dtype: object"
            ]
          },
          "metadata": {},
          "execution_count": 44
        }
      ]
    },
    {
      "cell_type": "code",
      "source": [
        "# Process Tokens\n",
        "# Now that we have tokens, we want to clean out some of the tokens that are 'clearly' non-informative\n",
        "# There are several classes of tokens that\n",
        "\n",
        "# Here we want to:\n",
        "# 1. Remove common and 'meaningless' tokens ie stop-words\n",
        "# 2. Translate some compound tokens\n",
        "\n",
        "CUSTOM_STOPWORDS = [\n",
        "    'rt', # retweet\n",
        "    'amp', # from html for and\n",
        "    's', # this seems to be mostly from 's contractions\n",
        "]\n",
        "\n",
        "translation_map = {\n",
        "    'climatechange':{'climate','change'},\n",
        "    'globalwarming':{'global','warming'},\n",
        "    'actonclimate':{'act','on','climate'},\n",
        "}\n",
        "\n",
        "def remove_stopwords(tokens):\n",
        "  return [token for token in tokens if token not in CUSTOM_STOPWORDS]\n",
        "\n",
        "def translate_compound_tokens(tokens):\n",
        "  new_tokens = set()\n",
        "  for t in tokens:\n",
        "    if t in translation_map:\n",
        "      new_tokens.update(translation_map[t])\n",
        "    else:\n",
        "      new_tokens.add(t)\n",
        "  return new_tokens\n",
        "\n",
        "def processTokens(tokens):\n",
        "  tokens = remove_stopwords(tokens)\n",
        "  tokens = translate_compound_tokens(tokens)\n",
        "  return tokens\n",
        "\n",
        "def applyProcessTokens(sr):\n",
        "  return sr.apply(processTokens)"
      ],
      "metadata": {
        "id": "TUXSwKKnHsGq"
      },
      "execution_count": 45,
      "outputs": []
    },
    {
      "cell_type": "code",
      "source": [
        "# Apply Token Processing\n",
        "processed_tokens_sr = applyProcessTokens(tokens_sr)"
      ],
      "metadata": {
        "id": "Z31BAV7XQesn"
      },
      "execution_count": 46,
      "outputs": []
    },
    {
      "cell_type": "code",
      "source": [
        "# Further data work will become much more compute intensive so lets see if a 10% subset of our corpus is representative enough to work with\n",
        "subset_sr = tokens_sr.sample(1000000)\n",
        "subset_all_tokens_list = [token for tokens in subset_sr.to_list() for token in tokens]\n",
        "subset_freq_dist = FreqDist(subset_all_tokens_list)\n",
        "subset_freq_dist.most_common(20)"
      ],
      "metadata": {
        "id": "P8UxXQ2mYWKy",
        "outputId": "7d10b6d0-3217-4290-dd27-a86b4a44c06e",
        "colab": {
          "base_uri": "https://localhost:8080/"
        }
      },
      "execution_count": 47,
      "outputs": [
        {
          "output_type": "execute_result",
          "data": {
            "text/plain": [
              "[('climate', 534452),\n",
              " ('change', 507095),\n",
              " ('the', 417983),\n",
              " ('to', 369750),\n",
              " ('global', 301914),\n",
              " ('warming', 285171),\n",
              " ('of', 259787),\n",
              " ('is', 235982),\n",
              " ('climatechange', 229043),\n",
              " ('and', 227762),\n",
              " ('a', 219353),\n",
              " ('in', 210526),\n",
              " ('on', 176985),\n",
              " ('?', 146232),\n",
              " ('for', 139874),\n",
              " ('that', 110379),\n",
              " ('rt', 109489),\n",
              " ('!', 108734),\n",
              " ('it', 105461),\n",
              " ('are', 96607)]"
            ]
          },
          "metadata": {},
          "execution_count": 47
        }
      ]
    },
    {
      "cell_type": "code",
      "source": [
        "# We compare the index of tokens in the original freq dist\n",
        "# to the subset freq dist to get a sense of how much structure is preserved in the subset\n",
        "vocab = [k for k,v in sorted(freq_dist.items(), key=lambda item: item[1], reverse=True)]\n",
        "subset_vocab = [k for k,v in sorted(subset_freq_dist.items(), key=lambda item: item[1], reverse=True)]\n",
        "N = 10000\n",
        "epsilon = 1e-9\n",
        "vocab_dist = []\n",
        "for token in vocab:\n",
        "  og_idx = vocab.index(token)\n",
        "  subset_idx = subset_vocab.index(token) if token in subset_freq_dist else N\n",
        "  vocab_dist.append(subset_idx - (og_idx))\n",
        "  if og_idx > N:\n",
        "    break\n",
        "\n",
        "print(vocab_dist[:40])\n"
      ],
      "metadata": {
        "id": "qekiJ7eLdjK5",
        "outputId": "3641ee70-4e31-4fc9-c4dd-681d73e6f187",
        "colab": {
          "base_uri": "https://localhost:8080/"
        }
      },
      "execution_count": 48,
      "outputs": [
        {
          "output_type": "stream",
          "name": "stdout",
          "text": [
            "[0, 0, 0, 0, 0, 0, 0, 0, 0, 0, 0, 0, 0, 0, 0, 0, 0, 0, 0, 0, 0, 0, 1, -1, 0, 0, 0, 0, 0, 0, 0, 0, 0, 0, 0, 0, 0, 0, 0, 0]\n"
          ]
        }
      ]
    },
    {
      "cell_type": "code",
      "source": [
        "# Let's take a look at the rank diff for the first 500 tokens\n",
        "for i in range(0,500,20):\n",
        "  print(vocab_dist[i:(i+20)])"
      ],
      "metadata": {
        "id": "s-mil1FuhZXu",
        "outputId": "ab8081f2-68db-48b9-80e1-28a616d646f2",
        "colab": {
          "base_uri": "https://localhost:8080/"
        }
      },
      "execution_count": 49,
      "outputs": [
        {
          "output_type": "stream",
          "name": "stdout",
          "text": [
            "[0, 0, 0, 0, 0, 0, 0, 0, 0, 0, 0, 0, 0, 0, 0, 0, 0, 0, 0, 0]\n",
            "[0, 0, 1, -1, 0, 0, 0, 0, 0, 0, 0, 0, 0, 0, 0, 0, 0, 0, 0, 0]\n",
            "[0, 0, 0, 1, -1, 0, 0, 0, 0, 0, 0, 1, -1, 0, 0, 0, 0, 1, -1, 0]\n",
            "[0, 2, -1, -1, 0, 0, 0, 0, 0, 0, 2, 0, -2, 1, -1, 0, 0, 0, 0, 3]\n",
            "[-1, 0, -2, 0, 0, 0, 0, 0, 0, 0, 2, -1, 1, -2, 1, -1, 0, 0, 1, 1]\n",
            "[-2, 0, 0, 0, 0, 1, -1, 0, 0, 1, -1, 0, 0, 0, 0, 0, 0, 0, 1, 1]\n",
            "[-2, 0, 0, 0, 0, 0, 0, 0, 1, -1, 1, -1, 0, 0, 2, 3, -1, -3, -1, 1]\n",
            "[-1, 1, -1, 1, -1, 0, 1, -1, 0, 1, -1, 0, 0, 2, 0, -2, 0, 2, 0, -2]\n",
            "[0, 1, 3, -2, -1, -1, 2, 0, 1, 1, -4, 0, 0, 0, 0, 0, 5, 5, -2, 1]\n",
            "[-2, 3, -3, 2, 2, -8, -3, 0, 1, 1, 1, -3, 2, -1, -1, 3, -1, 2, -1, -3]\n",
            "[0, 0, 3, 1, -2, 4, 0, -4, 4, 2, -2, 4, 1, 1, -7, -5, 1, -1, 0, 2]\n",
            "[0, -2, 5, -1, 6, 3, 0, -2, -5, -5, -1, 0, 2, 7, -1, -3, -1, -1, -1, -1]\n",
            "[2, -2, 1, 5, 0, -4, 1, 2, -3, 5, -4, 11, -2, 2, -3, 3, -4, -4, -2, 12]\n",
            "[0, -2, 1, -6, 4, -4, -2, -1, 6, 0, 0, -6, 5, -6, -1, -3, 2, -1, -3, 0]\n",
            "[3, 0, 2, 8, 1, 2, 7, 1, -8, -3, -8, 1, 2, -3, -5, 8, 1, 8, 1, 1]\n",
            "[2, -3, -7, -7, 8, 2, 7, -3, -2, 6, -9, -3, -1, -4, -4, 6, 1, -3, 2, 0]\n",
            "[-4, 1, 2, 3, -6, 4, -3, -2, 3, -1, 4, 7, -2, 0, -7, 4, 10, -1, 4, 1]\n",
            "[-8, 6, 3, -8, 5, 5, -2, 1, -11, -8, 4, 1, -9, 2, 7, 1, -5, -4, 1, 4]\n",
            "[9, 9, 5, -6, -4, -1, -8, 8, 12, -1, -4, 11, -7, -11, 5, 2, -2, -4, -6, -3]\n",
            "[-9, 3, 3, 3, -3, -7, -3, 0, 10, 6, 0, 3, 1, -4, 2, 2, 5, -9, 1, 4]\n",
            "[-9, -9, 8, 3, -2, 0, -2, -7, 0, 3, 1, 2, 6, -6, 0, -6, 7, -1, -3, 18]\n",
            "[4, 11, -5, 2, 12, 19, -5, 1, 7, 0, -8, 16, 6, -2, -7, 4, -17, -7, 3, 15]\n",
            "[0, 9, -9, 0, -24, 1, 9, -13, -22, -4, -1, 1, -1, 3, -12, 2, 2, -4, -10, 0]\n",
            "[0, 7, 3, 8, -3, 4, 0, -3, -6, -2, 3, -8, 0, -3, 0, 3, 5, -1, -1, -4]\n",
            "[11, 8, 1, 5, 8, -1, 0, -2, -9, 5, -8, -4, -12, 10, 5, 5, -3, -2, 6, -3]\n"
          ]
        }
      ]
    },
    {
      "cell_type": "code",
      "source": [
        "# What is the average rank diff for each magnitudes of token list size?\n",
        "for i in range(0,5):\n",
        "  mag = 10 ** i\n",
        "  print(f'{mag}: {sum(vocab_dist[:mag]) / mag}')"
      ],
      "metadata": {
        "id": "xRtnuSSLixnL",
        "outputId": "6f553318-7114-4099-8c6c-2adb1d5e2e86",
        "colab": {
          "base_uri": "https://localhost:8080/"
        }
      },
      "execution_count": 50,
      "outputs": [
        {
          "output_type": "stream",
          "name": "stdout",
          "text": [
            "1: 0.0\n",
            "10: 0.0\n",
            "100: 0.02\n",
            "1000: 0.238\n",
            "10000: 17.7534\n"
          ]
        }
      ]
    },
    {
      "cell_type": "code",
      "source": [
        "# We could look at the cosine distance between the two freq dists, or some other metric\n",
        "# but for now, there seems to be enough retained structure in the subset to at least use it for exploration if necessary"
      ],
      "metadata": {
        "id": "IiC0sta6g7X9"
      },
      "execution_count": 51,
      "outputs": []
    },
    {
      "cell_type": "code",
      "source": [
        "merged_df['processed_tokens_str'] = processed_tokens_sr.apply(lambda tokens: ' '.join(tokens))"
      ],
      "metadata": {
        "id": "WCEjeEK4cArf"
      },
      "execution_count": 52,
      "outputs": []
    },
    {
      "cell_type": "code",
      "source": [
        "merged_df.info()"
      ],
      "metadata": {
        "id": "O0FX091pcKOS",
        "outputId": "00407817-178c-4d1a-9d1c-13e703d946a4",
        "colab": {
          "base_uri": "https://localhost:8080/"
        }
      },
      "execution_count": 53,
      "outputs": [
        {
          "output_type": "stream",
          "name": "stdout",
          "text": [
            "<class 'pandas.core.frame.DataFrame'>\n",
            "Int64Index: 9403460 entries, 6132 to 1178910020626464768\n",
            "Data columns (total 5 columns):\n",
            " #   Column                Dtype              \n",
            "---  ------                -----              \n",
            " 0   text                  object             \n",
            " 1   timestamp             datetime64[ns, UTC]\n",
            " 2   preprocessed          object             \n",
            " 3   tokens                object             \n",
            " 4   processed_tokens_str  object             \n",
            "dtypes: datetime64[ns, UTC](1), object(4)\n",
            "memory usage: 688.5+ MB\n"
          ]
        }
      ]
    },
    {
      "cell_type": "code",
      "source": [
        "# Save preprocessed DF\n",
        "# We don't want to save the 'tokens' col as csv has a hard time handling lists/sets\n",
        "# Save only some % of the total corpus\n",
        "n_to_save = 1000000\n",
        "# Save just processed_tokens_str\n",
        "merged_df[['processed_tokens_str']].sample(n_to_save).to_csv(PREPROCESSED_TEXT_PATH, index=True)"
      ],
      "metadata": {
        "id": "9bpTYL0f6uPi"
      },
      "execution_count": 78,
      "outputs": []
    },
    {
      "cell_type": "code",
      "source": [
        "loaded_preprocessed_df = pd.read_csv(PREPROCESSED_TEXT_PATH, index_col=0)"
      ],
      "metadata": {
        "id": "W2nTYM-d-8D2"
      },
      "execution_count": 80,
      "outputs": []
    },
    {
      "cell_type": "code",
      "source": [
        "loaded_preprocessed_df.info()"
      ],
      "metadata": {
        "id": "OxVfhzlx_O9q",
        "outputId": "65fa11bd-9905-40cd-a416-0920356568e4",
        "colab": {
          "base_uri": "https://localhost:8080/"
        }
      },
      "execution_count": 81,
      "outputs": [
        {
          "output_type": "stream",
          "name": "stdout",
          "text": [
            "<class 'pandas.core.frame.DataFrame'>\n",
            "Int64Index: 1000000 entries, 1046036754304827395 to 997414075406700544\n",
            "Data columns (total 1 columns):\n",
            " #   Column                Non-Null Count    Dtype \n",
            "---  ------                --------------    ----- \n",
            " 0   processed_tokens_str  1000000 non-null  object\n",
            "dtypes: object(1)\n",
            "memory usage: 15.3+ MB\n"
          ]
        }
      ]
    }
  ]
}